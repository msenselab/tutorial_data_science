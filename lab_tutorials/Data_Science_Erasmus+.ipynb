{
 "cells": [
  {
   "cell_type": "markdown",
   "metadata": {
    "colab_type": "text",
    "id": "sVs6HrkkteH1"
   },
   "source": [
    "# Behavioral Analysis and Data Science\n",
    "## Erasmus Training Workshop - Day 4\n",
    "\n",
    "**Strongway, 2024**\n",
    "\n",
    "This workshop focuses on data analysis and visualization using Python and Jupyter Notebook. We will emphasize applying data science principles to analyze behavioral data, rather than approaching it from a computer science programming perspective.\n"
   ]
  },
  {
   "cell_type": "markdown",
   "metadata": {},
   "source": [
    "## Key principles in Data Science and Behavioral Analysis\n",
    "\n",
    "The data science approach to programming, particularly when dealing with data manipulation and analysis, often differs from traditional computer science programming in philosophy, methodology, and tools. The emphasis in data science is on efficiently processing large datasets and achieving clear, concise, and reproducible code, often using **vectorized operations, chaining, and declarative programming paradigms**."
   ]
  },
  {
   "cell_type": "markdown",
   "metadata": {},
   "source": [
    "### Key principles in data science programming:\n",
    "1. Declarative programming\n",
    "\n",
    "In data science, operations often emphasize \"what\" needs to be done rather than \"how\" to do it. This contrasts with the imperative style in computer science programming, where step-by-step instructions are explicit.\n",
    "\n",
    "For example, using pandas-like syntax (`df.groupby('group').mean()`) is declarative, the focus is on describing  transformations instead of writing low-level itetrative code.\n",
    "\n",
    "2. Vectorized operations\n",
    "\n",
    "Data Science libraries like `pandas`, `numpy`, and R's `dplyr` emphasize vectorized operations. This means that operations are applied to entire arrays or columns of data at once, rather than iterating over each element.\n",
    "\n",
    "3. Chaining in python and piping in R\n",
    "\n",
    "Chaining or piping operations is a concise and expressive way to apply multiple operations sequentially, without creating intermediate variables or repeatedly referencing the same object.\n",
    "\n",
    "For example, in pandas, you can chain operations like this:\n",
    "\n",
    "```python\n",
    " result = (df\n",
    "          .groupby('category')\n",
    "          .agg({'value': 'mean'})\n",
    "          .reset_index()\n",
    "          .sort_values(by='value', ascending=False))\n",
    "```\n",
    "\n",
    "and in R, you can use the `tyidyverse` package to pipe operations like this:\n",
    "\n",
    "```R\n",
    "result = (df\n",
    "          .groupby('category')\n",
    "          .agg({'value': 'mean'})\n",
    "          .reset_index()\n",
    "          .sort_values(by='value', ascending=False))\n",
    "```\n",
    "This is in contrast to using multiple intermediate variables, which can clutter code and increase the likelihood of errors. Additionally, you don't need to worry about the numbers of groups or the size of the data, as the operations are applied to the entire dataset at once.\n",
    "\n",
    "4. Data Frames as First-Class Citizens\n",
    "\n",
    "In data science, the `data.frame` (or equivalent) is often treated as the fundamental data structure, rather than primitive data types like lists or arrays. Operations are expressed in terms of transformations applied to the entire frame or its subsets, enabling parallelization and abstraction.\n"
   ]
  },
  {
   "cell_type": "markdown",
   "metadata": {},
   "source": [
    "### Why Chaining and Vectorized Operations Matter\n",
    "\n",
    "1. Efficiency:\n",
    "\n",
    "- Chaining avoids intermediate variables, reducing memory overhead and clutter.\n",
    "- Vectorized operations are often implemented in compiled languages, ensuring faster execution.\n",
    "\n",
    "2. Readability:\n",
    "\n",
    "- Chained operations resemble natural workflows (e.g., filtering, transforming, summarizing), making the code intuitive and easier to review.\n",
    "\n",
    "3. Scalability:\n",
    "\n",
    "- Explicit loops may struggle with very large datasets, as they are often not optimized for parallel computation. Vectorized operations or chaining mechanisms leverage built-in optimizations for scalability.\n"
   ]
  },
  {
   "cell_type": "markdown",
   "metadata": {},
   "source": [
    "## Implementing Data Science Principles in Behavioral Analysis\n",
    "\n",
    "Let's consider a real example of how these principles can be applied to behavioral data analysis. \n",
    "We will use a recent study on 'distractor volatility and distractor suppression' by Qiu et al. (2024). \n",
    "\n",
    "__Background of this study:__\n",
    "Statistical learning to suppress the location(s) of where a salient distractor is likely (vs. unlikely) to occur can enhance visual search efficiency, an effect termed distractor-location probability cueing. However, whether this effect is influenced by the volatility of distractor occurrence (i.e., of the sequence of distractor-present and -absent events) remains poorly understood. Here, we investigated this question by contrasting two volatility regimens in a distractor-location probability-cueing paradigm: a low-volatility environment ( distractor-present and -absent trials likely streaked) and a high-volatility environment (two trial types changing frequently).\n",
    "\n",
    "The raw data and analysis code are hosted in a [github repository](https://github.com/msenselab/statistical_learning_with_volatility). \n",
    "\n",
    "Here we use the data from this study to demonstrate how to apply data science principles to analyze behavioral data, while ignoring the actual scientific questions and interpretations."
   ]
  },
  {
   "cell_type": "code",
   "execution_count": 2,
   "metadata": {
    "colab": {},
    "colab_type": "code",
    "id": "f3fd3GgHteH3"
   },
   "outputs": [],
   "source": [
    "# Some prep work to get the data from R and into pandas\n",
    "%matplotlib inline\n",
    "\n",
    "# pandas for data process, seaborn for plotting, in addition, matplotlib\n",
    "import pandas as pd\n",
    "import numpy as np\n",
    "import seaborn as sns\n",
    "import matplotlib.pyplot as plt\n",
    "import altair as alt\n",
    "\n",
    "pd.set_option(\"display.max_rows\", 5)"
   ]
  },
  {
   "cell_type": "markdown",
   "metadata": {},
   "source": [
    "### 1. Data importing\n",
    "\n",
    "The first step in any data analysis is loading the data. Pandas supports reading from various file formats like CSV, Excel, SQL, JSON, etc."
   ]
  },
  {
   "cell_type": "code",
   "execution_count": null,
   "metadata": {},
   "outputs": [],
   "source": []
  },
  {
   "cell_type": "code",
   "execution_count": 10,
   "metadata": {
    "colab": {
     "base_uri": "https://localhost:8080/",
     "height": 202
    },
    "colab_type": "code",
    "executionInfo": {
     "elapsed": 518,
     "status": "ok",
     "timestamp": 1548845279601,
     "user": {
      "displayName": "Jan Nasemann",
      "photoUrl": "https://lh3.googleusercontent.com/-NwAvDmlKMCY/AAAAAAAAAAI/AAAAAAAAGA8/MjUNH8ZUJXw/s64/photo.jpg",
      "userId": "14602079930279377020"
     },
     "user_tz": -60
    },
    "id": "7QIyF8xZ0Tz5",
    "outputId": "f1507895-9284-4a71-e1c6-1641caf19e98"
   },
   "outputs": [
    {
     "name": "stdout",
     "output_type": "stream",
     "text": [
      "(69120, 14)\n"
     ]
    },
    {
     "data": {
      "text/html": [
       "<div>\n",
       "<style scoped>\n",
       "    .dataframe tbody tr th:only-of-type {\n",
       "        vertical-align: middle;\n",
       "    }\n",
       "\n",
       "    .dataframe tbody tr th {\n",
       "        vertical-align: top;\n",
       "    }\n",
       "\n",
       "    .dataframe thead th {\n",
       "        text-align: right;\n",
       "    }\n",
       "</style>\n",
       "<table border=\"1\" class=\"dataframe\">\n",
       "  <thead>\n",
       "    <tr style=\"text-align: right;\">\n",
       "      <th></th>\n",
       "      <th>Unnamed: 0</th>\n",
       "      <th>tar_pos</th>\n",
       "      <th>dist_pos</th>\n",
       "      <th>block</th>\n",
       "      <th>correct</th>\n",
       "      <th>rt</th>\n",
       "      <th>sub</th>\n",
       "      <th>volatility</th>\n",
       "      <th>dist_repe</th>\n",
       "      <th>dist_repe_absent</th>\n",
       "      <th>dist_attendance</th>\n",
       "      <th>dist_switch</th>\n",
       "      <th>coincident</th>\n",
       "      <th>Abe_Pre</th>\n",
       "    </tr>\n",
       "  </thead>\n",
       "  <tbody>\n",
       "    <tr>\n",
       "      <th>0</th>\n",
       "      <td>0</td>\n",
       "      <td>2.0</td>\n",
       "      <td>0.0</td>\n",
       "      <td>1.0</td>\n",
       "      <td>1.0</td>\n",
       "      <td>1.501370</td>\n",
       "      <td>s1</td>\n",
       "      <td>high</td>\n",
       "      <td>0</td>\n",
       "      <td>1</td>\n",
       "      <td>NaN</td>\n",
       "      <td>NaN</td>\n",
       "      <td>none</td>\n",
       "      <td>absent</td>\n",
       "    </tr>\n",
       "    <tr>\n",
       "      <th>1</th>\n",
       "      <td>1</td>\n",
       "      <td>2.0</td>\n",
       "      <td>1.0</td>\n",
       "      <td>1.0</td>\n",
       "      <td>1.0</td>\n",
       "      <td>1.000736</td>\n",
       "      <td>s1</td>\n",
       "      <td>high</td>\n",
       "      <td>1</td>\n",
       "      <td>0</td>\n",
       "      <td>AP</td>\n",
       "      <td>switch</td>\n",
       "      <td>none</td>\n",
       "      <td>present</td>\n",
       "    </tr>\n",
       "    <tr>\n",
       "      <th>2</th>\n",
       "      <td>2</td>\n",
       "      <td>2.0</td>\n",
       "      <td>1.0</td>\n",
       "      <td>1.0</td>\n",
       "      <td>1.0</td>\n",
       "      <td>1.368081</td>\n",
       "      <td>s1</td>\n",
       "      <td>high</td>\n",
       "      <td>2</td>\n",
       "      <td>0</td>\n",
       "      <td>PP</td>\n",
       "      <td>non_switch</td>\n",
       "      <td>none</td>\n",
       "      <td>present</td>\n",
       "    </tr>\n",
       "    <tr>\n",
       "      <th>3</th>\n",
       "      <td>3</td>\n",
       "      <td>2.0</td>\n",
       "      <td>0.0</td>\n",
       "      <td>1.0</td>\n",
       "      <td>1.0</td>\n",
       "      <td>0.684040</td>\n",
       "      <td>s1</td>\n",
       "      <td>high</td>\n",
       "      <td>0</td>\n",
       "      <td>1</td>\n",
       "      <td>PA</td>\n",
       "      <td>switch</td>\n",
       "      <td>non-coincident</td>\n",
       "      <td>absent</td>\n",
       "    </tr>\n",
       "    <tr>\n",
       "      <th>4</th>\n",
       "      <td>4</td>\n",
       "      <td>2.0</td>\n",
       "      <td>0.0</td>\n",
       "      <td>1.0</td>\n",
       "      <td>1.0</td>\n",
       "      <td>0.565839</td>\n",
       "      <td>s1</td>\n",
       "      <td>high</td>\n",
       "      <td>0</td>\n",
       "      <td>2</td>\n",
       "      <td>AA</td>\n",
       "      <td>non_switch</td>\n",
       "      <td>none</td>\n",
       "      <td>absent</td>\n",
       "    </tr>\n",
       "  </tbody>\n",
       "</table>\n",
       "</div>"
      ],
      "text/plain": [
       "   Unnamed: 0  tar_pos  dist_pos  block  correct        rt sub volatility  \\\n",
       "0           0      2.0       0.0    1.0      1.0  1.501370  s1       high   \n",
       "1           1      2.0       1.0    1.0      1.0  1.000736  s1       high   \n",
       "2           2      2.0       1.0    1.0      1.0  1.368081  s1       high   \n",
       "3           3      2.0       0.0    1.0      1.0  0.684040  s1       high   \n",
       "4           4      2.0       0.0    1.0      1.0  0.565839  s1       high   \n",
       "\n",
       "   dist_repe  dist_repe_absent dist_attendance dist_switch      coincident  \\\n",
       "0          0                 1             NaN         NaN            none   \n",
       "1          1                 0              AP      switch            none   \n",
       "2          2                 0              PP  non_switch            none   \n",
       "3          0                 1              PA      switch  non-coincident   \n",
       "4          0                 2              AA  non_switch            none   \n",
       "\n",
       "   Abe_Pre  \n",
       "0   absent  \n",
       "1  present  \n",
       "2  present  \n",
       "3   absent  \n",
       "4   absent  "
      ]
     },
     "execution_count": 10,
     "metadata": {},
     "output_type": "execute_result"
    }
   ],
   "source": [
    "url = 'https://raw.githubusercontent.com/msenselab/statistical_learning_with_volatility/refs/heads/main/csv/raw_data_all2.csv'\n",
    "dat = pd.read_csv(url)\n",
    "# show dat dimension\n",
    "print(dat.shape)\n",
    "dat.head()"
   ]
  },
  {
   "cell_type": "markdown",
   "metadata": {
    "colab_type": "text",
    "id": "FDH_7fk7teH7"
   },
   "source": [
    "### 2. Basic Exploration\n",
    "\n",
    "Understanding your data is essential before diving into analysis. This includes checking the data types, missing values, and basic summary statistics.\n",
    "\n",
    "```python\n",
    "# Check data structure\n",
    "print(df.info())\n",
    "\n",
    "# Summary statistics\n",
    "print(df.describe())\n",
    "\n",
    "# View column names\n",
    "print(df.columns)\n",
    "\n",
    "# Check for missing values\n",
    "print(df.isnull().sum())\n",
    "```\n"
   ]
  },
  {
   "cell_type": "code",
   "execution_count": null,
   "metadata": {
    "colab": {
     "base_uri": "https://localhost:8080/",
     "height": 35
    },
    "colab_type": "code",
    "executionInfo": {
     "elapsed": 549,
     "status": "ok",
     "timestamp": 1548845284598,
     "user": {
      "displayName": "Jan Nasemann",
      "photoUrl": "https://lh3.googleusercontent.com/-NwAvDmlKMCY/AAAAAAAAAAI/AAAAAAAAGA8/MjUNH8ZUJXw/s64/photo.jpg",
      "userId": "14602079930279377020"
     },
     "user_tz": -60
    },
    "id": "ciJS1CeAteIA",
    "outputId": "49497459-63b4-4a61-d5e4-a373124fcb1e"
   },
   "outputs": [
    {
     "name": "stdout",
     "output_type": "stream",
     "text": [
      "       Unnamed: 0   tar_pos      dist_pos    block       correct  \\\n",
      "count    69120.00  69120.00  69120.000000  69120.0  69120.000000   \n",
      "mean     34559.50      4.50      2.260156      5.0      0.983883   \n",
      "...           ...       ...           ...      ...           ...   \n",
      "75%      51839.25      6.25      5.000000      7.0      1.000000   \n",
      "max      69119.00      8.00      8.000000      9.0      1.000000   \n",
      "\n",
      "                 rt    dist_repe  dist_repe_absent  \n",
      "count  69120.000000  69120.00000      69120.000000  \n",
      "mean       1.075487      1.14987          1.176317  \n",
      "...             ...          ...               ...  \n",
      "75%        1.251761      1.00000          1.000000  \n",
      "max        4.004260     17.00000         27.000000  \n",
      "\n",
      "[8 rows x 8 columns]\n"
     ]
    }
   ],
   "source": [
    "# with the loaded data `datz, please summarize the dataset\n",
    "print(dat.____())  # Hint: Which method provides data type and null values?\n",
    "\n",
    "# Your Turn:\n",
    "# - Summarize numerical columns. What method would you use for this?\n",
    "# - Check for missing values in the dataset and think about how to handle them.\n"
   ]
  },
  {
   "cell_type": "markdown",
   "metadata": {
    "colab_type": "text",
    "id": "1v-YD7To1wI_"
   },
   "source": [
    "### 3. Selecting Data\n",
    "\n",
    "**Selecting Columns**: You can select columns by name or index. For example, to select columns 'subject', 'condition', and 'RT':\n",
    "\n",
    "```python\n",
    "df[['subject', 'condition', 'RT']]\n",
    "```\n",
    "Selecting Rows: You can select rows based on conditions. For example, to select rows where 'RT' is greater than 3:\n",
    "\n",
    "```python\n",
    "df[df['RT'] > 3]\n",
    "```\n",
    "\n",
    "Or even better using query for better readability:\n",
    "\n",
    "```python\n",
    "df.query('RT > 3 and correct < 1')\n",
    "```\n"
   ]
  },
  {
   "cell_type": "code",
   "execution_count": null,
   "metadata": {},
   "outputs": [
    {
     "data": {
      "text/html": [
       "<div>\n",
       "<style scoped>\n",
       "    .dataframe tbody tr th:only-of-type {\n",
       "        vertical-align: middle;\n",
       "    }\n",
       "\n",
       "    .dataframe tbody tr th {\n",
       "        vertical-align: top;\n",
       "    }\n",
       "\n",
       "    .dataframe thead th {\n",
       "        text-align: right;\n",
       "    }\n",
       "</style>\n",
       "<table border=\"1\" class=\"dataframe\">\n",
       "  <thead>\n",
       "    <tr style=\"text-align: right;\">\n",
       "      <th></th>\n",
       "      <th>sub</th>\n",
       "      <th>correct</th>\n",
       "      <th>rt</th>\n",
       "      <th>volatility</th>\n",
       "    </tr>\n",
       "  </thead>\n",
       "  <tbody>\n",
       "    <tr>\n",
       "      <th>0</th>\n",
       "      <td>s1</td>\n",
       "      <td>1.0</td>\n",
       "      <td>1.501370</td>\n",
       "      <td>high</td>\n",
       "    </tr>\n",
       "    <tr>\n",
       "      <th>1</th>\n",
       "      <td>s1</td>\n",
       "      <td>1.0</td>\n",
       "      <td>1.000736</td>\n",
       "      <td>high</td>\n",
       "    </tr>\n",
       "    <tr>\n",
       "      <th>2</th>\n",
       "      <td>s1</td>\n",
       "      <td>1.0</td>\n",
       "      <td>1.368081</td>\n",
       "      <td>high</td>\n",
       "    </tr>\n",
       "    <tr>\n",
       "      <th>3</th>\n",
       "      <td>s1</td>\n",
       "      <td>1.0</td>\n",
       "      <td>0.684040</td>\n",
       "      <td>high</td>\n",
       "    </tr>\n",
       "    <tr>\n",
       "      <th>4</th>\n",
       "      <td>s1</td>\n",
       "      <td>1.0</td>\n",
       "      <td>0.565839</td>\n",
       "      <td>high</td>\n",
       "    </tr>\n",
       "  </tbody>\n",
       "</table>\n",
       "</div>"
      ],
      "text/plain": [
       "  sub  correct        rt volatility\n",
       "0  s1      1.0  1.501370       high\n",
       "1  s1      1.0  1.000736       high\n",
       "2  s1      1.0  1.368081       high\n",
       "3  s1      1.0  0.684040       high\n",
       "4  s1      1.0  0.565839       high"
      ]
     },
     "execution_count": 13,
     "metadata": {},
     "output_type": "execute_result"
    }
   ],
   "source": [
    "# Your Turn:\n",
    "# select correct trials and columns of interest: sub, correct, rt, and volatility\n",
    "vdat = dat.query(___)[[___]]\n",
    "vdat.head()"
   ]
  },
  {
   "cell_type": "markdown",
   "metadata": {
    "colab_type": "text",
    "id": "abosX-xwteIi"
   },
   "source": [
    "If you are using R, ``dplyr`` has a small set of nicely defined verbs as well. I've listed their closest pandas verbs.\n",
    "\n",
    "\n",
    "<table>\n",
    "  <tr>\n",
    "    <td><b>dplyr</b></td>\n",
    "    <td><b>pandas</b></td>\n",
    "  </tr>\n",
    "  <tr>\n",
    "    <td><code>filter()</code> (and <code>slice()</code>)</td>\n",
    "    <td><code>query()</code> (and <code>loc[]</code>, <code>iloc[]</code>)</td>\n",
    "  </tr>\n",
    "  <tr>\n",
    "    <td><code>arrange()</code></td>\n",
    "    <td><code>sort_values</code> and <code>sort_index()</code></td>\n",
    "  </tr>\n",
    "  <tr>\n",
    "  <td><code>select() </code>(and <code>rename()</code>)</td>\n",
    "    <td><code>__getitem__ </code> (and <code>rename()</code>)</td>\n",
    "  </tr>\n",
    "  <tr>\n",
    "  <td><code>distinct()</code></td>\n",
    "    <td><code>drop_duplicates()</code></td>\n",
    "  </tr>\n",
    "  <tr>\n",
    "    <td><code>mutate()</code> (and <code>transmute()</code>)</td>\n",
    "    <td>assign</td>\n",
    "  </tr>\n",
    "  <tr>\n",
    "    <td>summarise()</td>\n",
    "    <td>None</td>\n",
    "  </tr>\n",
    "  <tr>\n",
    "    <td>sample_n() and sample_frac()</td>\n",
    "    <td><code>sample</code></td>\n",
    "  </tr>\n",
    "  <tr>\n",
    "    <td><code>%>%</code></td>\n",
    "    <td><code>pipe</code></td>\n",
    "  </tr>\n",
    "\n",
    "</table>\n",
    "\n",
    "\n",
    "Some of the \"missing\" verbs in pandas are because there are other, different ways of achieving the same goal. For example `summarise` is spread across `mean`, `std`, etc. It's closest analog is actually the `.agg` method on a `GroupBy` object, as it reduces a DataFrame to a single row (per group). This isn't quite what `.describe` does.\n",
    "\n",
    "I've also included the `pipe` operator from R (`%>%`), the `pipe` method from pandas, even though it isn't quite a verb."
   ]
  },
  {
   "cell_type": "markdown",
   "metadata": {
    "colab_type": "text",
    "id": "QrluD8J6teI9"
   },
   "source": [
    "It's worth mentioning the other common sorting method for pandas DataFrames, `sort_index`. Pandas puts much more emphasis on indicies, (or row labels) than R.\n",
    "This is a design decision that has positives and negatives, which we won't go into here. Suffice to say that when you need to sort a `DataFrame` by the index, use `DataFrame.sort_index`."
   ]
  },
  {
   "cell_type": "markdown",
   "metadata": {
    "colab_type": "text",
    "id": "VKkDy9vrteJD"
   },
   "source": [
    "__Rename__\n",
    "\n",
    "Similar to `.replace()`, `.rename()` function also copies the data and return a new object. So you need to store it in a new object. \n",
    "\n",
    "```python\n",
    "ndata = dat.rename(columns={'dyn': 'Display'})\n",
    "ndata.head()\n",
    "```\n"
   ]
  },
  {
   "cell_type": "markdown",
   "metadata": {
    "colab_type": "text",
    "id": "-V5uJvjateJH"
   },
   "source": [
    "Pandas is more verbose, but the the argument to `columns` can be any mapping. So it's often used with a function to perform a common task, say `df.rename(columns=lambda x: x.replace('-', '_'))` to replace any dashes with underscores. Also, ``rename`` (the pandas version) can be applied to the Index."
   ]
  },
  {
   "cell_type": "markdown",
   "metadata": {
    "colab_type": "text",
    "id": "fv4p4SrvteJH"
   },
   "source": [
    "One more note on the differences here.\n",
    "Pandas could easily include a `.select` method.\n",
    "[`xray`](http://xray.readthedocs.org/en/stable/), a library that builds on top of NumPy and pandas to offer labeled N-dimensional arrays (along with many other things) does [just that](http://xray.readthedocs.org/en/stable/indexing.html#indexing-with-labeled-dimensions).\n",
    "Pandas chooses the `.loc` and `.iloc` accessors because *any valid selection is also a valid assignment*. This makes it easier to modify the data.\n",
    "\n",
    "```python\n",
    "flights.loc[:, 'year':'day'] = data\n",
    "```\n",
    "\n",
    "where `data` is an object that is, or can be broadcast to, the correct shape.\n",
    "\n",
    "__Extracting unique values__\n",
    "\n",
    "```python\n",
    "df['condition'].unique()\n",
    "```"
   ]
  },
  {
   "cell_type": "markdown",
   "metadata": {
    "colab_type": "text",
    "id": "A4-yYDs7teJN"
   },
   "source": [
    "FYI this returns a numpy array instead of a Series."
   ]
  },
  {
   "cell_type": "markdown",
   "metadata": {
    "colab_type": "text",
    "id": "eKz_0WNOteJQ"
   },
   "source": [
    "__Add new columns__\n",
    "\n",
    "In Pandas, you need explicitly express column from which dataframe. \n",
    "\n",
    "```python\n",
    "df.assign(new_column = df['column1'] + df['column2'])\n",
    "\n",
    "ndata.assign(rtms=ndata.rt*1000).assign(inv_rt = lambda df: 1/df.rtms)\n",
    "```\n"
   ]
  },
  {
   "cell_type": "markdown",
   "metadata": {
    "colab_type": "text",
    "id": "gPO0qjudteJY"
   },
   "source": [
    "\n",
    "In Python, you can have arbitrary keyword arguments to functions (which we needed for `.assign`), but the order of the argumnets is arbitrary since `dict`s are unsorted and `**kwargs*` is a `dict`. So you can't have something like `df.assign(x=df.a / df.b, y=x **2)`, because you don't know whether `x` or `y` will come first (you'd also get an error saying `x` is undefined.\n",
    "\n",
    "To work around that with pandas, you'll need to split up the assigns, and pass in a *callable* to the second assign. The callable looks at itself to find a column named `gain`. Since the line above returns a DataFrame with the `gain` column added, the pipeline goes through just fine."
   ]
  },
  {
   "cell_type": "code",
   "execution_count": null,
   "metadata": {
    "colab": {},
    "colab_type": "code",
    "id": "sv4P3f5MteJa",
    "outputId": "432ec9de-4b93-4f85-cb65-0905788e8ef4"
   },
   "outputs": [
    {
     "data": {
      "text/plain": [
       "0.5666471354166667"
      ]
     },
     "execution_count": 63,
     "metadata": {
      "tags": []
     },
     "output_type": "execute_result"
    }
   ],
   "source": [
    "# summarise(ndata,\n",
    "#   rt = mean(rt, na.rm = TRUE))\n",
    "ndata.rt.mean()"
   ]
  },
  {
   "cell_type": "markdown",
   "metadata": {
    "colab_type": "text",
    "id": "0uuLgEhkteJe"
   },
   "source": [
    "This is only roughly equivalent.\n",
    "`summarise` takes a callable (e.g. `mean`, `sum`) and evaluates that on the DataFrame. In pandas these are spread across `pd.DataFrame.mean`, `pd.DataFrame.sum`. This will come up again when we look at `groupby`."
   ]
  },
  {
   "cell_type": "markdown",
   "metadata": {
    "colab_type": "text",
    "id": "2cVOjDR3teJf"
   },
   "source": [
    "### 4. Grouping and Aggregation\n",
    "\n",
    "Group data by categories and compute summary statistics for each group. \n",
    "Pandas uses `.groupby()` function, very much like dplyr::group_by. \n",
    "\n",
    "But you need to aware that pandas `.groupby()` will **<font color = 'red'>put grouped variables into multi-index</font>**, so the columns after grouping will not include those grouped variables. If you want to put them back **as columns** for later usage, you need to add **`.reset_index()`**. \n",
    "\n",
    "For example, to calculate the mean RT for each subject:\n",
    "\n",
    "```python\n",
    "df.groupby('subject')['RT'].mean()\n",
    "\n",
    "# Aggregating multiple statistics\n",
    "df.groupby('subject').agg({'RT': 'mean', 'correct': 'mean'})\n",
    "```"
   ]
  },
  {
   "cell_type": "markdown",
   "metadata": {},
   "source": [
    "The above chaining operation aligns with data science priciples: \n",
    "- chaining: `groupby('subject')` -> `agg({'RT': 'mean', 'correct': 'mean'})` are seamlessly connected in one logical flow. \n",
    "- Declartive: The focus is on what needs to be done (grouping and aggregating) rather than how to do it."
   ]
  },
  {
   "cell_type": "code",
   "execution_count": null,
   "metadata": {
    "colab": {},
    "colab_type": "code",
    "id": "DFpDS1utteJg",
    "outputId": "16db9d36-3ed0-43b2-fea0-bcf496f171b1"
   },
   "outputs": [
    {
     "data": {
      "text/html": [
       "<div>\n",
       "<style scoped>\n",
       "    .dataframe tbody tr th:only-of-type {\n",
       "        vertical-align: middle;\n",
       "    }\n",
       "\n",
       "    .dataframe tbody tr th {\n",
       "        vertical-align: top;\n",
       "    }\n",
       "\n",
       "    .dataframe thead th {\n",
       "        text-align: right;\n",
       "    }\n",
       "</style>\n",
       "<table border=\"1\" class=\"dataframe\">\n",
       "  <thead>\n",
       "    <tr style=\"text-align: right;\">\n",
       "      <th></th>\n",
       "      <th>sub</th>\n",
       "      <th>volatility</th>\n",
       "      <th>rt</th>\n",
       "    </tr>\n",
       "  </thead>\n",
       "  <tbody>\n",
       "    <tr>\n",
       "      <th>0</th>\n",
       "      <td>s1</td>\n",
       "      <td>high</td>\n",
       "      <td>1.174967</td>\n",
       "    </tr>\n",
       "    <tr>\n",
       "      <th>1</th>\n",
       "      <td>s1</td>\n",
       "      <td>low</td>\n",
       "      <td>0.940426</td>\n",
       "    </tr>\n",
       "    <tr>\n",
       "      <th>2</th>\n",
       "      <td>s10</td>\n",
       "      <td>high</td>\n",
       "      <td>0.826142</td>\n",
       "    </tr>\n",
       "    <tr>\n",
       "      <th>3</th>\n",
       "      <td>s10</td>\n",
       "      <td>low</td>\n",
       "      <td>0.842970</td>\n",
       "    </tr>\n",
       "    <tr>\n",
       "      <th>4</th>\n",
       "      <td>s11</td>\n",
       "      <td>high</td>\n",
       "      <td>1.017050</td>\n",
       "    </tr>\n",
       "  </tbody>\n",
       "</table>\n",
       "</div>"
      ],
      "text/plain": [
       "   sub volatility        rt\n",
       "0   s1       high  1.174967\n",
       "1   s1        low  0.940426\n",
       "2  s10       high  0.826142\n",
       "3  s10        low  0.842970\n",
       "4  s11       high  1.017050"
      ]
     },
     "execution_count": 16,
     "metadata": {},
     "output_type": "execute_result"
    }
   ],
   "source": [
    "# Your Turn:\n",
    "# above we have obtained valide dataset `vdat`, now please group by `sub` and `volatility` and calculate the mean of `rt` for each group.\n",
    "# Hint: use `groupby` method and `mean` method.\n",
    "grouped = vdat.groupby([___, ___]).__.mean().reset_index()\n",
    "grouped.head()"
   ]
  },
  {
   "cell_type": "markdown",
   "metadata": {},
   "source": [
    "### 5. Chaining operations\n",
    "\n",
    "Now, we can chain operations from the raw data to final mean RTs for each subject, grouped by condition. \n",
    "For example,\n",
    "\n",
    "```python\n",
    "mrt = ndata.query('accuracy == 1')\\\n",
    "    .groupby(['subno','session','dimension'])\\\n",
    "    .agg({\"resp\":\"count\",\n",
    "         \"rt\":\"mean\"})\\\n",
    "    .rename(columns={\"resp\":\"count\"})\\\n",
    "    .reset_index()\n",
    "mrt.head()\n",
    "```\n"
   ]
  },
  {
   "cell_type": "code",
   "execution_count": null,
   "metadata": {},
   "outputs": [],
   "source": [
    "# Your Turn: use imported data `dat` with chaining rules to the final `grouped` dataset\n",
    "# please complete your code here. \n"
   ]
  },
  {
   "cell_type": "markdown",
   "metadata": {},
   "source": [
    "### 6. Merging and joing data\n",
    "\n",
    "Combine data from multiple DataFrames using SQL-like joins.\n",
    "\n",
    "```python\n",
    "# Merge two dataframes on a common column\n",
    "pd.merge(df1, df2, on='common_column')\n",
    "```\t\n",
    "\n",
    "### 7. Reshaping Data\n",
    "\n",
    "Reshape data using pivot tables\n",
    "\n",
    "```python\n",
    "# Pivot table\n",
    "df.pivot_table(index='subject', columns='condition', values='RT', aggfunc='mean')\n",
    "\n",
    "# Melting (unpivoting) data\n",
    "pd.melt(df, id_vars=['subject'], value_vars=['RT', 'correct'], var_name='metric', value_name='value')\n",
    "```\n"
   ]
  },
  {
   "cell_type": "code",
   "execution_count": null,
   "metadata": {},
   "outputs": [
    {
     "data": {
      "text/html": [
       "<div>\n",
       "<style scoped>\n",
       "    .dataframe tbody tr th:only-of-type {\n",
       "        vertical-align: middle;\n",
       "    }\n",
       "\n",
       "    .dataframe tbody tr th {\n",
       "        vertical-align: top;\n",
       "    }\n",
       "\n",
       "    .dataframe thead th {\n",
       "        text-align: right;\n",
       "    }\n",
       "</style>\n",
       "<table border=\"1\" class=\"dataframe\">\n",
       "  <thead>\n",
       "    <tr style=\"text-align: right;\">\n",
       "      <th>volatility</th>\n",
       "      <th>high</th>\n",
       "      <th>low</th>\n",
       "    </tr>\n",
       "    <tr>\n",
       "      <th>sub</th>\n",
       "      <th></th>\n",
       "      <th></th>\n",
       "    </tr>\n",
       "  </thead>\n",
       "  <tbody>\n",
       "    <tr>\n",
       "      <th>s1</th>\n",
       "      <td>1.174967</td>\n",
       "      <td>0.940426</td>\n",
       "    </tr>\n",
       "    <tr>\n",
       "      <th>s10</th>\n",
       "      <td>0.826142</td>\n",
       "      <td>0.842970</td>\n",
       "    </tr>\n",
       "    <tr>\n",
       "      <th>...</th>\n",
       "      <td>...</td>\n",
       "      <td>...</td>\n",
       "    </tr>\n",
       "    <tr>\n",
       "      <th>s8</th>\n",
       "      <td>0.995962</td>\n",
       "      <td>1.068627</td>\n",
       "    </tr>\n",
       "    <tr>\n",
       "      <th>s9</th>\n",
       "      <td>1.568039</td>\n",
       "      <td>1.150984</td>\n",
       "    </tr>\n",
       "  </tbody>\n",
       "</table>\n",
       "<p>24 rows × 2 columns</p>\n",
       "</div>"
      ],
      "text/plain": [
       "volatility      high       low\n",
       "sub                           \n",
       "s1          1.174967  0.940426\n",
       "s10         0.826142  0.842970\n",
       "..               ...       ...\n",
       "s8          0.995962  1.068627\n",
       "s9          1.568039  1.150984\n",
       "\n",
       "[24 rows x 2 columns]"
      ]
     },
     "execution_count": 17,
     "metadata": {},
     "output_type": "execute_result"
    }
   ],
   "source": [
    "vdat.pivot_table(index='sub', columns='volatility', values='rt', aggfunc='mean')\n"
   ]
  },
  {
   "cell_type": "markdown",
   "metadata": {},
   "source": [
    "### 8. Exporting Data\n",
    "\n",
    "Finally, you can export the processed data to a file for further analysis or sharing.\n",
    "\n",
    "```python\n",
    "df.to_csv('processed_data.csv', index=False)\n",
    "```\n"
   ]
  },
  {
   "cell_type": "markdown",
   "metadata": {
    "colab_type": "text",
    "id": "YO-Edm4kteJ_"
   },
   "source": [
    "## Visualization with Seaborn\n",
    "\n",
    "Visualization in data science, particularly using Seaborn, aligns with the principles of declarative programming, chaining, and vectorization. Seaborn is a Python library built on Matplotlib, designed to make statistical graphics intuitive, efficient, and visually appealing by reducing boilerplate code.\n",
    "\n",
    "Seaborn focuses on what you want to visualize, not how the visualization is constructed. This is achieved by abstracting the complexity of low-level plotting (handled by Matplotlib) and providing high-level, expressive commands.\n",
    "\n",
    "Example: Scatter plot\n",
    "\n",
    "```python\n",
    "import seaborn as sns\n",
    "import matplotlib.pyplot as plt\n",
    "\n",
    "# Declarative: Specify the data and mapping\n",
    "sns.scatterplot(data=df, x='col1', y='col2', hue='category')\n",
    "plt.show()\n",
    "```\n",
    "\n",
    "### Core Seaborn Visualization Types\n",
    "\n",
    "Below are key types of Seaborn plots:\n",
    "\n",
    "1. Relational Plots (Relationships between variables)\n",
    "Relational plots explore how variables are related using scatter or line plots.\n",
    "\n",
    "```python\n",
    "sns.relplot(data=df, x='col1', y='col2', hue='category', style='type')\n",
    "```\n",
    "\n",
    "2. Categorical Plots (Relationships between numerical and categorical variables)\n",
    "Categorical plots show relationships between numerical and categorical variables.\n",
    "\n",
    "```python\n",
    "sns.catplot(data=df, x='col1', y='col2', hue='category', kind='box')\n",
    "```\n",
    "\n",
    "3. Distribution Plots (Univariate and bivariate distributions)\n",
    "Distribution plots visualize univariate and bivariate distributions.\n",
    "\n",
    "```python\n",
    "sns.displot(data=df, x='col1', kind='kde')\n",
    "```\n"
   ]
  },
  {
   "cell_type": "code",
   "execution_count": null,
   "metadata": {},
   "outputs": [
    {
     "data": {
      "text/plain": [
       "<seaborn.axisgrid.FacetGrid at 0x176474f90>"
      ]
     },
     "execution_count": 19,
     "metadata": {},
     "output_type": "execute_result"
    },
    {
     "data": {
      "image/png": "[encoded data removed]",
      "text/plain": [
       "<Figure size 511.111x500 with 1 Axes>"
      ]
     },
     "metadata": {},
     "output_type": "display_data"
    }
   ],
   "source": [
    "# now use seaborn to plot the grouped data\n",
    "sns.catplot(data=grouped, x='___', y='___', kind='___', errorbar='sd')"
   ]
  },
  {
   "cell_type": "markdown",
   "metadata": {},
   "source": [
    "__Reflection Question:__ How does Seaborn's declarative syntax and chaining operations align with data science principles? "
   ]
  },
  {
   "cell_type": "markdown",
   "metadata": {},
   "source": [
    "## Visualization with Altair \n",
    "\n",
    "Altair is a declarative statistical visualization library for Python, based on Vega and Vega-Lite.\n",
    "\n",
    "Altair offers a powerful and concise visualization grammar that enables you to build a wide range of statistical visualizations quickly.\n",
    "\n",
    "### 1. Declarative Programming in Altair\n",
    "Altair focuses on *what* the visualization should represent rather than *how* it should be rendered. You define mappings between data and visual properties (e.g., axes, colors, sizes), and Altair handles the rendering process."
   ]
  },
  {
   "cell_type": "code",
   "execution_count": 31,
   "metadata": {},
   "outputs": [
    {
     "data": {
      "text/html": [
       "<div>\n",
       "<style scoped>\n",
       "    .dataframe tbody tr th:only-of-type {\n",
       "        vertical-align: middle;\n",
       "    }\n",
       "\n",
       "    .dataframe tbody tr th {\n",
       "        vertical-align: top;\n",
       "    }\n",
       "\n",
       "    .dataframe thead th {\n",
       "        text-align: right;\n",
       "    }\n",
       "</style>\n",
       "<table border=\"1\" class=\"dataframe\">\n",
       "  <thead>\n",
       "    <tr style=\"text-align: right;\">\n",
       "      <th></th>\n",
       "      <th>sepal length (cm)</th>\n",
       "      <th>sepal width (cm)</th>\n",
       "      <th>petal length (cm)</th>\n",
       "      <th>petal width (cm)</th>\n",
       "      <th>species</th>\n",
       "    </tr>\n",
       "  </thead>\n",
       "  <tbody>\n",
       "    <tr>\n",
       "      <th>0</th>\n",
       "      <td>5.1</td>\n",
       "      <td>3.5</td>\n",
       "      <td>1.4</td>\n",
       "      <td>0.2</td>\n",
       "      <td>setosa</td>\n",
       "    </tr>\n",
       "    <tr>\n",
       "      <th>1</th>\n",
       "      <td>4.9</td>\n",
       "      <td>3.0</td>\n",
       "      <td>1.4</td>\n",
       "      <td>0.2</td>\n",
       "      <td>setosa</td>\n",
       "    </tr>\n",
       "    <tr>\n",
       "      <th>2</th>\n",
       "      <td>4.7</td>\n",
       "      <td>3.2</td>\n",
       "      <td>1.3</td>\n",
       "      <td>0.2</td>\n",
       "      <td>setosa</td>\n",
       "    </tr>\n",
       "    <tr>\n",
       "      <th>3</th>\n",
       "      <td>4.6</td>\n",
       "      <td>3.1</td>\n",
       "      <td>1.5</td>\n",
       "      <td>0.2</td>\n",
       "      <td>setosa</td>\n",
       "    </tr>\n",
       "    <tr>\n",
       "      <th>4</th>\n",
       "      <td>5.0</td>\n",
       "      <td>3.6</td>\n",
       "      <td>1.4</td>\n",
       "      <td>0.2</td>\n",
       "      <td>setosa</td>\n",
       "    </tr>\n",
       "  </tbody>\n",
       "</table>\n",
       "</div>"
      ],
      "text/plain": [
       "   sepal length (cm)  sepal width (cm)  petal length (cm)  petal width (cm)  \\\n",
       "0                5.1               3.5                1.4               0.2   \n",
       "1                4.9               3.0                1.4               0.2   \n",
       "2                4.7               3.2                1.3               0.2   \n",
       "3                4.6               3.1                1.5               0.2   \n",
       "4                5.0               3.6                1.4               0.2   \n",
       "\n",
       "  species  \n",
       "0  setosa  \n",
       "1  setosa  \n",
       "2  setosa  \n",
       "3  setosa  \n",
       "4  setosa  "
      ]
     },
     "execution_count": 31,
     "metadata": {},
     "output_type": "execute_result"
    }
   ],
   "source": [
    "iris_df.head()"
   ]
  },
  {
   "cell_type": "code",
   "execution_count": 33,
   "metadata": {},
   "outputs": [
    {
     "data": {
      "text/html": [
       "\n",
       "<style>\n",
       "  #altair-viz-1d10012db86a423397c791313da64f53.vega-embed {\n",
       "    width: 100%;\n",
       "    display: flex;\n",
       "  }\n",
       "\n",
       "  #altair-viz-1d10012db86a423397c791313da64f53.vega-embed details,\n",
       "  #altair-viz-1d10012db86a423397c791313da64f53.vega-embed details summary {\n",
       "    position: relative;\n",
       "  }\n",
       "</style>\n",
       "<div id=\"altair-viz-1d10012db86a423397c791313da64f53\"></div>\n",
       "<script type=\"text/javascript\">\n",
       "  var VEGA_DEBUG = (typeof VEGA_DEBUG == \"undefined\") ? {} : VEGA_DEBUG;\n",
       "  (function(spec, embedOpt){\n",
       "    let outputDiv = document.currentScript.previousElementSibling;\n",
       "    if (outputDiv.id !== \"altair-viz-1d10012db86a423397c791313da64f53\") {\n",
       "      outputDiv = document.getElementById(\"altair-viz-1d10012db86a423397c791313da64f53\");\n",
       "    }\n",
       "    const paths = {\n",
       "      \"vega\": \"https://cdn.jsdelivr.net/npm/vega@5?noext\",\n",
       "      \"vega-lib\": \"https://cdn.jsdelivr.net/npm/vega-lib?noext\",\n",
       "      \"vega-lite\": \"https://cdn.jsdelivr.net/npm/vega-lite@5.16.3?noext\",\n",
       "      \"vega-embed\": \"https://cdn.jsdelivr.net/npm/vega-embed@6?noext\",\n",
       "    };\n",
       "\n",
       "    function maybeLoadScript(lib, version) {\n",
       "      var key = `${lib.replace(\"-\", \"\")}_version`;\n",
       "      return (VEGA_DEBUG[key] == version) ?\n",
       "        Promise.resolve(paths[lib]) :\n",
       "        new Promise(function(resolve, reject) {\n",
       "          var s = document.createElement('script');\n",
       "          document.getElementsByTagName(\"head\")[0].appendChild(s);\n",
       "          s.async = true;\n",
       "          s.onload = () => {\n",
       "            VEGA_DEBUG[key] = version;\n",
       "            return resolve(paths[lib]);\n",
       "          };\n",
       "          s.onerror = () => reject(`Error loading script: ${paths[lib]}`);\n",
       "          s.src = paths[lib];\n",
       "        });\n",
       "    }\n",
       "\n",
       "    function showError(err) {\n",
       "      outputDiv.innerHTML = `<div class=\"error\" style=\"color:red;\">${err}</div>`;\n",
       "      throw err;\n",
       "    }\n",
       "\n",
       "    function displayChart(vegaEmbed) {\n",
       "      vegaEmbed(outputDiv, spec, embedOpt)\n",
       "        .catch(err => showError(`Javascript Error: ${err.message}<br>This usually means there's a typo in your chart specification. See the javascript console for the full traceback.`));\n",
       "    }\n",
       "\n",
       "    if(typeof define === \"function\" && define.amd) {\n",
       "      requirejs.config({paths});\n",
       "      require([\"vega-embed\"], displayChart, err => showError(`Error loading script: ${err.message}`));\n",
       "    } else {\n",
       "      maybeLoadScript(\"vega\", \"5\")\n",
       "        .then(() => maybeLoadScript(\"vega-lite\", \"5.16.3\"))\n",
       "        .then(() => maybeLoadScript(\"vega-embed\", \"6\"))\n",
       "        .catch(showError)\n",
       "        .then(() => displayChart(vegaEmbed));\n",
       "    }\n",
       "  })({\"config\": {\"view\": {\"continuousWidth\": 300, \"continuousHeight\": 300}}, \"data\": {\"name\": \"data-81093bcf5924db2878e2d5fba5fb25f1\"}, \"mark\": {\"type\": \"point\"}, \"encoding\": {\"color\": {\"field\": \"species\", \"type\": \"nominal\"}, \"x\": {\"field\": \"SepalLength\", \"type\": \"quantitative\"}, \"y\": {\"field\": \"SepalWidth\", \"type\": \"quantitative\"}}, \"params\": [{\"name\": \"param_5\", \"select\": {\"type\": \"interval\", \"encodings\": [\"x\", \"y\"]}, \"bind\": \"scales\"}], \"$schema\": \"https://vega.github.io/schema/vega-lite/v5.16.3.json\", \"datasets\": {\"data-81093bcf5924db2878e2d5fba5fb25f1\": [{\"SepalLength\": 5.1, \"SepalWidth\": 3.5, \"PetalLength\": 1.4, \"PetalWidth\": 0.2, \"species\": \"setosa\"}, {\"SepalLength\": 4.9, \"SepalWidth\": 3.0, \"PetalLength\": 1.4, \"PetalWidth\": 0.2, \"species\": \"setosa\"}, {\"SepalLength\": 4.7, \"SepalWidth\": 3.2, \"PetalLength\": 1.3, \"PetalWidth\": 0.2, \"species\": \"setosa\"}, {\"SepalLength\": 4.6, \"SepalWidth\": 3.1, \"PetalLength\": 1.5, \"PetalWidth\": 0.2, \"species\": \"setosa\"}, {\"SepalLength\": 5.0, \"SepalWidth\": 3.6, \"PetalLength\": 1.4, \"PetalWidth\": 0.2, \"species\": \"setosa\"}, {\"SepalLength\": 5.4, \"SepalWidth\": 3.9, \"PetalLength\": 1.7, \"PetalWidth\": 0.4, \"species\": \"setosa\"}, {\"SepalLength\": 4.6, \"SepalWidth\": 3.4, \"PetalLength\": 1.4, \"PetalWidth\": 0.3, \"species\": \"setosa\"}, {\"SepalLength\": 5.0, \"SepalWidth\": 3.4, \"PetalLength\": 1.5, \"PetalWidth\": 0.2, \"species\": \"setosa\"}, {\"SepalLength\": 4.4, \"SepalWidth\": 2.9, \"PetalLength\": 1.4, \"PetalWidth\": 0.2, \"species\": \"setosa\"}, {\"SepalLength\": 4.9, \"SepalWidth\": 3.1, \"PetalLength\": 1.5, \"PetalWidth\": 0.1, \"species\": \"setosa\"}, {\"SepalLength\": 5.4, \"SepalWidth\": 3.7, \"PetalLength\": 1.5, \"PetalWidth\": 0.2, \"species\": \"setosa\"}, {\"SepalLength\": 4.8, \"SepalWidth\": 3.4, \"PetalLength\": 1.6, \"PetalWidth\": 0.2, \"species\": \"setosa\"}, {\"SepalLength\": 4.8, \"SepalWidth\": 3.0, \"PetalLength\": 1.4, \"PetalWidth\": 0.1, \"species\": \"setosa\"}, {\"SepalLength\": 4.3, \"SepalWidth\": 3.0, \"PetalLength\": 1.1, \"PetalWidth\": 0.1, \"species\": \"setosa\"}, {\"SepalLength\": 5.8, \"SepalWidth\": 4.0, \"PetalLength\": 1.2, \"PetalWidth\": 0.2, \"species\": \"setosa\"}, {\"SepalLength\": 5.7, \"SepalWidth\": 4.4, \"PetalLength\": 1.5, \"PetalWidth\": 0.4, \"species\": \"setosa\"}, {\"SepalLength\": 5.4, \"SepalWidth\": 3.9, \"PetalLength\": 1.3, \"PetalWidth\": 0.4, \"species\": \"setosa\"}, {\"SepalLength\": 5.1, \"SepalWidth\": 3.5, \"PetalLength\": 1.4, \"PetalWidth\": 0.3, \"species\": \"setosa\"}, {\"SepalLength\": 5.7, \"SepalWidth\": 3.8, \"PetalLength\": 1.7, \"PetalWidth\": 0.3, \"species\": \"setosa\"}, {\"SepalLength\": 5.1, \"SepalWidth\": 3.8, \"PetalLength\": 1.5, \"PetalWidth\": 0.3, \"species\": \"setosa\"}, {\"SepalLength\": 5.4, \"SepalWidth\": 3.4, \"PetalLength\": 1.7, \"PetalWidth\": 0.2, \"species\": \"setosa\"}, {\"SepalLength\": 5.1, \"SepalWidth\": 3.7, \"PetalLength\": 1.5, \"PetalWidth\": 0.4, \"species\": \"setosa\"}, {\"SepalLength\": 4.6, \"SepalWidth\": 3.6, \"PetalLength\": 1.0, \"PetalWidth\": 0.2, \"species\": \"setosa\"}, {\"SepalLength\": 5.1, \"SepalWidth\": 3.3, \"PetalLength\": 1.7, \"PetalWidth\": 0.5, \"species\": \"setosa\"}, {\"SepalLength\": 4.8, \"SepalWidth\": 3.4, \"PetalLength\": 1.9, \"PetalWidth\": 0.2, \"species\": \"setosa\"}, {\"SepalLength\": 5.0, \"SepalWidth\": 3.0, \"PetalLength\": 1.6, \"PetalWidth\": 0.2, \"species\": \"setosa\"}, {\"SepalLength\": 5.0, \"SepalWidth\": 3.4, \"PetalLength\": 1.6, \"PetalWidth\": 0.4, \"species\": \"setosa\"}, {\"SepalLength\": 5.2, \"SepalWidth\": 3.5, \"PetalLength\": 1.5, \"PetalWidth\": 0.2, \"species\": \"setosa\"}, {\"SepalLength\": 5.2, \"SepalWidth\": 3.4, \"PetalLength\": 1.4, \"PetalWidth\": 0.2, \"species\": \"setosa\"}, {\"SepalLength\": 4.7, \"SepalWidth\": 3.2, \"PetalLength\": 1.6, \"PetalWidth\": 0.2, \"species\": \"setosa\"}, {\"SepalLength\": 4.8, \"SepalWidth\": 3.1, \"PetalLength\": 1.6, \"PetalWidth\": 0.2, \"species\": \"setosa\"}, {\"SepalLength\": 5.4, \"SepalWidth\": 3.4, \"PetalLength\": 1.5, \"PetalWidth\": 0.4, \"species\": \"setosa\"}, {\"SepalLength\": 5.2, \"SepalWidth\": 4.1, \"PetalLength\": 1.5, \"PetalWidth\": 0.1, \"species\": \"setosa\"}, {\"SepalLength\": 5.5, \"SepalWidth\": 4.2, \"PetalLength\": 1.4, \"PetalWidth\": 0.2, \"species\": \"setosa\"}, {\"SepalLength\": 4.9, \"SepalWidth\": 3.1, \"PetalLength\": 1.5, \"PetalWidth\": 0.2, \"species\": \"setosa\"}, {\"SepalLength\": 5.0, \"SepalWidth\": 3.2, \"PetalLength\": 1.2, \"PetalWidth\": 0.2, \"species\": \"setosa\"}, {\"SepalLength\": 5.5, \"SepalWidth\": 3.5, \"PetalLength\": 1.3, \"PetalWidth\": 0.2, \"species\": \"setosa\"}, {\"SepalLength\": 4.9, \"SepalWidth\": 3.6, \"PetalLength\": 1.4, \"PetalWidth\": 0.1, \"species\": \"setosa\"}, {\"SepalLength\": 4.4, \"SepalWidth\": 3.0, \"PetalLength\": 1.3, \"PetalWidth\": 0.2, \"species\": \"setosa\"}, {\"SepalLength\": 5.1, \"SepalWidth\": 3.4, \"PetalLength\": 1.5, \"PetalWidth\": 0.2, \"species\": \"setosa\"}, {\"SepalLength\": 5.0, \"SepalWidth\": 3.5, \"PetalLength\": 1.3, \"PetalWidth\": 0.3, \"species\": \"setosa\"}, {\"SepalLength\": 4.5, \"SepalWidth\": 2.3, \"PetalLength\": 1.3, \"PetalWidth\": 0.3, \"species\": \"setosa\"}, {\"SepalLength\": 4.4, \"SepalWidth\": 3.2, \"PetalLength\": 1.3, \"PetalWidth\": 0.2, \"species\": \"setosa\"}, {\"SepalLength\": 5.0, \"SepalWidth\": 3.5, \"PetalLength\": 1.6, \"PetalWidth\": 0.6, \"species\": \"setosa\"}, {\"SepalLength\": 5.1, \"SepalWidth\": 3.8, \"PetalLength\": 1.9, \"PetalWidth\": 0.4, \"species\": \"setosa\"}, {\"SepalLength\": 4.8, \"SepalWidth\": 3.0, \"PetalLength\": 1.4, \"PetalWidth\": 0.3, \"species\": \"setosa\"}, {\"SepalLength\": 5.1, \"SepalWidth\": 3.8, \"PetalLength\": 1.6, \"PetalWidth\": 0.2, \"species\": \"setosa\"}, {\"SepalLength\": 4.6, \"SepalWidth\": 3.2, \"PetalLength\": 1.4, \"PetalWidth\": 0.2, \"species\": \"setosa\"}, {\"SepalLength\": 5.3, \"SepalWidth\": 3.7, \"PetalLength\": 1.5, \"PetalWidth\": 0.2, \"species\": \"setosa\"}, {\"SepalLength\": 5.0, \"SepalWidth\": 3.3, \"PetalLength\": 1.4, \"PetalWidth\": 0.2, \"species\": \"setosa\"}, {\"SepalLength\": 7.0, \"SepalWidth\": 3.2, \"PetalLength\": 4.7, \"PetalWidth\": 1.4, \"species\": \"versicolor\"}, {\"SepalLength\": 6.4, \"SepalWidth\": 3.2, \"PetalLength\": 4.5, \"PetalWidth\": 1.5, \"species\": \"versicolor\"}, {\"SepalLength\": 6.9, \"SepalWidth\": 3.1, \"PetalLength\": 4.9, \"PetalWidth\": 1.5, \"species\": \"versicolor\"}, {\"SepalLength\": 5.5, \"SepalWidth\": 2.3, \"PetalLength\": 4.0, \"PetalWidth\": 1.3, \"species\": \"versicolor\"}, {\"SepalLength\": 6.5, \"SepalWidth\": 2.8, \"PetalLength\": 4.6, \"PetalWidth\": 1.5, \"species\": \"versicolor\"}, {\"SepalLength\": 5.7, \"SepalWidth\": 2.8, \"PetalLength\": 4.5, \"PetalWidth\": 1.3, \"species\": \"versicolor\"}, {\"SepalLength\": 6.3, \"SepalWidth\": 3.3, \"PetalLength\": 4.7, \"PetalWidth\": 1.6, \"species\": \"versicolor\"}, {\"SepalLength\": 4.9, \"SepalWidth\": 2.4, \"PetalLength\": 3.3, \"PetalWidth\": 1.0, \"species\": \"versicolor\"}, {\"SepalLength\": 6.6, \"SepalWidth\": 2.9, \"PetalLength\": 4.6, \"PetalWidth\": 1.3, \"species\": \"versicolor\"}, {\"SepalLength\": 5.2, \"SepalWidth\": 2.7, \"PetalLength\": 3.9, \"PetalWidth\": 1.4, \"species\": \"versicolor\"}, {\"SepalLength\": 5.0, \"SepalWidth\": 2.0, \"PetalLength\": 3.5, \"PetalWidth\": 1.0, \"species\": \"versicolor\"}, {\"SepalLength\": 5.9, \"SepalWidth\": 3.0, \"PetalLength\": 4.2, \"PetalWidth\": 1.5, \"species\": \"versicolor\"}, {\"SepalLength\": 6.0, \"SepalWidth\": 2.2, \"PetalLength\": 4.0, \"PetalWidth\": 1.0, \"species\": \"versicolor\"}, {\"SepalLength\": 6.1, \"SepalWidth\": 2.9, \"PetalLength\": 4.7, \"PetalWidth\": 1.4, \"species\": \"versicolor\"}, {\"SepalLength\": 5.6, \"SepalWidth\": 2.9, \"PetalLength\": 3.6, \"PetalWidth\": 1.3, \"species\": \"versicolor\"}, {\"SepalLength\": 6.7, \"SepalWidth\": 3.1, \"PetalLength\": 4.4, \"PetalWidth\": 1.4, \"species\": \"versicolor\"}, {\"SepalLength\": 5.6, \"SepalWidth\": 3.0, \"PetalLength\": 4.5, \"PetalWidth\": 1.5, \"species\": \"versicolor\"}, {\"SepalLength\": 5.8, \"SepalWidth\": 2.7, \"PetalLength\": 4.1, \"PetalWidth\": 1.0, \"species\": \"versicolor\"}, {\"SepalLength\": 6.2, \"SepalWidth\": 2.2, \"PetalLength\": 4.5, \"PetalWidth\": 1.5, \"species\": \"versicolor\"}, {\"SepalLength\": 5.6, \"SepalWidth\": 2.5, \"PetalLength\": 3.9, \"PetalWidth\": 1.1, \"species\": \"versicolor\"}, {\"SepalLength\": 5.9, \"SepalWidth\": 3.2, \"PetalLength\": 4.8, \"PetalWidth\": 1.8, \"species\": \"versicolor\"}, {\"SepalLength\": 6.1, \"SepalWidth\": 2.8, \"PetalLength\": 4.0, \"PetalWidth\": 1.3, \"species\": \"versicolor\"}, {\"SepalLength\": 6.3, \"SepalWidth\": 2.5, \"PetalLength\": 4.9, \"PetalWidth\": 1.5, \"species\": \"versicolor\"}, {\"SepalLength\": 6.1, \"SepalWidth\": 2.8, \"PetalLength\": 4.7, \"PetalWidth\": 1.2, \"species\": \"versicolor\"}, {\"SepalLength\": 6.4, \"SepalWidth\": 2.9, \"PetalLength\": 4.3, \"PetalWidth\": 1.3, \"species\": \"versicolor\"}, {\"SepalLength\": 6.6, \"SepalWidth\": 3.0, \"PetalLength\": 4.4, \"PetalWidth\": 1.4, \"species\": \"versicolor\"}, {\"SepalLength\": 6.8, \"SepalWidth\": 2.8, \"PetalLength\": 4.8, \"PetalWidth\": 1.4, \"species\": \"versicolor\"}, {\"SepalLength\": 6.7, \"SepalWidth\": 3.0, \"PetalLength\": 5.0, \"PetalWidth\": 1.7, \"species\": \"versicolor\"}, {\"SepalLength\": 6.0, \"SepalWidth\": 2.9, \"PetalLength\": 4.5, \"PetalWidth\": 1.5, \"species\": \"versicolor\"}, {\"SepalLength\": 5.7, \"SepalWidth\": 2.6, \"PetalLength\": 3.5, \"PetalWidth\": 1.0, \"species\": \"versicolor\"}, {\"SepalLength\": 5.5, \"SepalWidth\": 2.4, \"PetalLength\": 3.8, \"PetalWidth\": 1.1, \"species\": \"versicolor\"}, {\"SepalLength\": 5.5, \"SepalWidth\": 2.4, \"PetalLength\": 3.7, \"PetalWidth\": 1.0, \"species\": \"versicolor\"}, {\"SepalLength\": 5.8, \"SepalWidth\": 2.7, \"PetalLength\": 3.9, \"PetalWidth\": 1.2, \"species\": \"versicolor\"}, {\"SepalLength\": 6.0, \"SepalWidth\": 2.7, \"PetalLength\": 5.1, \"PetalWidth\": 1.6, \"species\": \"versicolor\"}, {\"SepalLength\": 5.4, \"SepalWidth\": 3.0, \"PetalLength\": 4.5, \"PetalWidth\": 1.5, \"species\": \"versicolor\"}, {\"SepalLength\": 6.0, \"SepalWidth\": 3.4, \"PetalLength\": 4.5, \"PetalWidth\": 1.6, \"species\": \"versicolor\"}, {\"SepalLength\": 6.7, \"SepalWidth\": 3.1, \"PetalLength\": 4.7, \"PetalWidth\": 1.5, \"species\": \"versicolor\"}, {\"SepalLength\": 6.3, \"SepalWidth\": 2.3, \"PetalLength\": 4.4, \"PetalWidth\": 1.3, \"species\": \"versicolor\"}, {\"SepalLength\": 5.6, \"SepalWidth\": 3.0, \"PetalLength\": 4.1, \"PetalWidth\": 1.3, \"species\": \"versicolor\"}, {\"SepalLength\": 5.5, \"SepalWidth\": 2.5, \"PetalLength\": 4.0, \"PetalWidth\": 1.3, \"species\": \"versicolor\"}, {\"SepalLength\": 5.5, \"SepalWidth\": 2.6, \"PetalLength\": 4.4, \"PetalWidth\": 1.2, \"species\": \"versicolor\"}, {\"SepalLength\": 6.1, \"SepalWidth\": 3.0, \"PetalLength\": 4.6, \"PetalWidth\": 1.4, \"species\": \"versicolor\"}, {\"SepalLength\": 5.8, \"SepalWidth\": 2.6, \"PetalLength\": 4.0, \"PetalWidth\": 1.2, \"species\": \"versicolor\"}, {\"SepalLength\": 5.0, \"SepalWidth\": 2.3, \"PetalLength\": 3.3, \"PetalWidth\": 1.0, \"species\": \"versicolor\"}, {\"SepalLength\": 5.6, \"SepalWidth\": 2.7, \"PetalLength\": 4.2, \"PetalWidth\": 1.3, \"species\": \"versicolor\"}, {\"SepalLength\": 5.7, \"SepalWidth\": 3.0, \"PetalLength\": 4.2, \"PetalWidth\": 1.2, \"species\": \"versicolor\"}, {\"SepalLength\": 5.7, \"SepalWidth\": 2.9, \"PetalLength\": 4.2, \"PetalWidth\": 1.3, \"species\": \"versicolor\"}, {\"SepalLength\": 6.2, \"SepalWidth\": 2.9, \"PetalLength\": 4.3, \"PetalWidth\": 1.3, \"species\": \"versicolor\"}, {\"SepalLength\": 5.1, \"SepalWidth\": 2.5, \"PetalLength\": 3.0, \"PetalWidth\": 1.1, \"species\": \"versicolor\"}, {\"SepalLength\": 5.7, \"SepalWidth\": 2.8, \"PetalLength\": 4.1, \"PetalWidth\": 1.3, \"species\": \"versicolor\"}, {\"SepalLength\": 6.3, \"SepalWidth\": 3.3, \"PetalLength\": 6.0, \"PetalWidth\": 2.5, \"species\": \"virginica\"}, {\"SepalLength\": 5.8, \"SepalWidth\": 2.7, \"PetalLength\": 5.1, \"PetalWidth\": 1.9, \"species\": \"virginica\"}, {\"SepalLength\": 7.1, \"SepalWidth\": 3.0, \"PetalLength\": 5.9, \"PetalWidth\": 2.1, \"species\": \"virginica\"}, {\"SepalLength\": 6.3, \"SepalWidth\": 2.9, \"PetalLength\": 5.6, \"PetalWidth\": 1.8, \"species\": \"virginica\"}, {\"SepalLength\": 6.5, \"SepalWidth\": 3.0, \"PetalLength\": 5.8, \"PetalWidth\": 2.2, \"species\": \"virginica\"}, {\"SepalLength\": 7.6, \"SepalWidth\": 3.0, \"PetalLength\": 6.6, \"PetalWidth\": 2.1, \"species\": \"virginica\"}, {\"SepalLength\": 4.9, \"SepalWidth\": 2.5, \"PetalLength\": 4.5, \"PetalWidth\": 1.7, \"species\": \"virginica\"}, {\"SepalLength\": 7.3, \"SepalWidth\": 2.9, \"PetalLength\": 6.3, \"PetalWidth\": 1.8, \"species\": \"virginica\"}, {\"SepalLength\": 6.7, \"SepalWidth\": 2.5, \"PetalLength\": 5.8, \"PetalWidth\": 1.8, \"species\": \"virginica\"}, {\"SepalLength\": 7.2, \"SepalWidth\": 3.6, \"PetalLength\": 6.1, \"PetalWidth\": 2.5, \"species\": \"virginica\"}, {\"SepalLength\": 6.5, \"SepalWidth\": 3.2, \"PetalLength\": 5.1, \"PetalWidth\": 2.0, \"species\": \"virginica\"}, {\"SepalLength\": 6.4, \"SepalWidth\": 2.7, \"PetalLength\": 5.3, \"PetalWidth\": 1.9, \"species\": \"virginica\"}, {\"SepalLength\": 6.8, \"SepalWidth\": 3.0, \"PetalLength\": 5.5, \"PetalWidth\": 2.1, \"species\": \"virginica\"}, {\"SepalLength\": 5.7, \"SepalWidth\": 2.5, \"PetalLength\": 5.0, \"PetalWidth\": 2.0, \"species\": \"virginica\"}, {\"SepalLength\": 5.8, \"SepalWidth\": 2.8, \"PetalLength\": 5.1, \"PetalWidth\": 2.4, \"species\": \"virginica\"}, {\"SepalLength\": 6.4, \"SepalWidth\": 3.2, \"PetalLength\": 5.3, \"PetalWidth\": 2.3, \"species\": \"virginica\"}, {\"SepalLength\": 6.5, \"SepalWidth\": 3.0, \"PetalLength\": 5.5, \"PetalWidth\": 1.8, \"species\": \"virginica\"}, {\"SepalLength\": 7.7, \"SepalWidth\": 3.8, \"PetalLength\": 6.7, \"PetalWidth\": 2.2, \"species\": \"virginica\"}, {\"SepalLength\": 7.7, \"SepalWidth\": 2.6, \"PetalLength\": 6.9, \"PetalWidth\": 2.3, \"species\": \"virginica\"}, {\"SepalLength\": 6.0, \"SepalWidth\": 2.2, \"PetalLength\": 5.0, \"PetalWidth\": 1.5, \"species\": \"virginica\"}, {\"SepalLength\": 6.9, \"SepalWidth\": 3.2, \"PetalLength\": 5.7, \"PetalWidth\": 2.3, \"species\": \"virginica\"}, {\"SepalLength\": 5.6, \"SepalWidth\": 2.8, \"PetalLength\": 4.9, \"PetalWidth\": 2.0, \"species\": \"virginica\"}, {\"SepalLength\": 7.7, \"SepalWidth\": 2.8, \"PetalLength\": 6.7, \"PetalWidth\": 2.0, \"species\": \"virginica\"}, {\"SepalLength\": 6.3, \"SepalWidth\": 2.7, \"PetalLength\": 4.9, \"PetalWidth\": 1.8, \"species\": \"virginica\"}, {\"SepalLength\": 6.7, \"SepalWidth\": 3.3, \"PetalLength\": 5.7, \"PetalWidth\": 2.1, \"species\": \"virginica\"}, {\"SepalLength\": 7.2, \"SepalWidth\": 3.2, \"PetalLength\": 6.0, \"PetalWidth\": 1.8, \"species\": \"virginica\"}, {\"SepalLength\": 6.2, \"SepalWidth\": 2.8, \"PetalLength\": 4.8, \"PetalWidth\": 1.8, \"species\": \"virginica\"}, {\"SepalLength\": 6.1, \"SepalWidth\": 3.0, \"PetalLength\": 4.9, \"PetalWidth\": 1.8, \"species\": \"virginica\"}, {\"SepalLength\": 6.4, \"SepalWidth\": 2.8, \"PetalLength\": 5.6, \"PetalWidth\": 2.1, \"species\": \"virginica\"}, {\"SepalLength\": 7.2, \"SepalWidth\": 3.0, \"PetalLength\": 5.8, \"PetalWidth\": 1.6, \"species\": \"virginica\"}, {\"SepalLength\": 7.4, \"SepalWidth\": 2.8, \"PetalLength\": 6.1, \"PetalWidth\": 1.9, \"species\": \"virginica\"}, {\"SepalLength\": 7.9, \"SepalWidth\": 3.8, \"PetalLength\": 6.4, \"PetalWidth\": 2.0, \"species\": \"virginica\"}, {\"SepalLength\": 6.4, \"SepalWidth\": 2.8, \"PetalLength\": 5.6, \"PetalWidth\": 2.2, \"species\": \"virginica\"}, {\"SepalLength\": 6.3, \"SepalWidth\": 2.8, \"PetalLength\": 5.1, \"PetalWidth\": 1.5, \"species\": \"virginica\"}, {\"SepalLength\": 6.1, \"SepalWidth\": 2.6, \"PetalLength\": 5.6, \"PetalWidth\": 1.4, \"species\": \"virginica\"}, {\"SepalLength\": 7.7, \"SepalWidth\": 3.0, \"PetalLength\": 6.1, \"PetalWidth\": 2.3, \"species\": \"virginica\"}, {\"SepalLength\": 6.3, \"SepalWidth\": 3.4, \"PetalLength\": 5.6, \"PetalWidth\": 2.4, \"species\": \"virginica\"}, {\"SepalLength\": 6.4, \"SepalWidth\": 3.1, \"PetalLength\": 5.5, \"PetalWidth\": 1.8, \"species\": \"virginica\"}, {\"SepalLength\": 6.0, \"SepalWidth\": 3.0, \"PetalLength\": 4.8, \"PetalWidth\": 1.8, \"species\": \"virginica\"}, {\"SepalLength\": 6.9, \"SepalWidth\": 3.1, \"PetalLength\": 5.4, \"PetalWidth\": 2.1, \"species\": \"virginica\"}, {\"SepalLength\": 6.7, \"SepalWidth\": 3.1, \"PetalLength\": 5.6, \"PetalWidth\": 2.4, \"species\": \"virginica\"}, {\"SepalLength\": 6.9, \"SepalWidth\": 3.1, \"PetalLength\": 5.1, \"PetalWidth\": 2.3, \"species\": \"virginica\"}, {\"SepalLength\": 5.8, \"SepalWidth\": 2.7, \"PetalLength\": 5.1, \"PetalWidth\": 1.9, \"species\": \"virginica\"}, {\"SepalLength\": 6.8, \"SepalWidth\": 3.2, \"PetalLength\": 5.9, \"PetalWidth\": 2.3, \"species\": \"virginica\"}, {\"SepalLength\": 6.7, \"SepalWidth\": 3.3, \"PetalLength\": 5.7, \"PetalWidth\": 2.5, \"species\": \"virginica\"}, {\"SepalLength\": 6.7, \"SepalWidth\": 3.0, \"PetalLength\": 5.2, \"PetalWidth\": 2.3, \"species\": \"virginica\"}, {\"SepalLength\": 6.3, \"SepalWidth\": 2.5, \"PetalLength\": 5.0, \"PetalWidth\": 1.9, \"species\": \"virginica\"}, {\"SepalLength\": 6.5, \"SepalWidth\": 3.0, \"PetalLength\": 5.2, \"PetalWidth\": 2.0, \"species\": \"virginica\"}, {\"SepalLength\": 6.2, \"SepalWidth\": 3.4, \"PetalLength\": 5.4, \"PetalWidth\": 2.3, \"species\": \"virginica\"}, {\"SepalLength\": 5.9, \"SepalWidth\": 3.0, \"PetalLength\": 5.1, \"PetalWidth\": 1.8, \"species\": \"virginica\"}]}}, {\"mode\": \"vega-lite\"});\n",
       "</script>"
      ],
      "text/plain": [
       "alt.Chart(...)"
      ]
     },
     "execution_count": 33,
     "metadata": {},
     "output_type": "execute_result"
    }
   ],
   "source": [
    "import altair as alt\n",
    "from sklearn import datasets\n",
    "import pandas as pd\n",
    "\n",
    "\n",
    "iris = datasets.load_iris()\n",
    "\n",
    "iris_df = pd.DataFrame(iris.data, columns=iris.feature_names)\n",
    "iris_df['species'] = iris.target\n",
    "iris_df['species'] = iris_df['species'].map({0: 'setosa', 1: 'versicolor', 2: 'virginica'})\n",
    "# rename columns\n",
    "iris_df.columns = ['SepalLength', 'SepalWidth', 'PetalLength', 'PetalWidth', 'species']\n",
    "\n",
    "alt.Chart(iris_df).mark_point().encode(\n",
    "    x='SepalLength',\n",
    "    y='SepalWidth',\n",
    "    color='species'\n",
    ").interactive()\n"
   ]
  },
  {
   "cell_type": "markdown",
   "metadata": {},
   "source": [
    "#### The Chart Object\n",
    "\n",
    "The fundamental object in Altair is the Chart, which takes a dataframe as a single argument. \n",
    "Each top-level chart object (i.e. `Chart`, `LayerChart`,\n",
    "and `VConcatChart`, `HConcatChart`, `RepeatChart`,\n",
    "`FacetChart`) accepts a dataset as its first argument.\n",
    "The dataset can be specified in one of three ways:\n",
    "\n",
    "- as a `Pandas DataFrame <http://pandas.pydata.org/pandas-docs/stable/generated/pandas.DataFrame.html>`_\n",
    "- as a `Data` or related object (i.e. `UrlData`, `InlineData`, `NamedData`)\n",
    "- as a url string pointing to a ``json`` or ``csv`` formatted text file\n",
    "\n",
    "```python\n",
    "chart = alt.Chart(df)\n",
    "```\n",
    "\n",
    "#### Encodings and Marks\n",
    "\n",
    "With this chart object in hand, we can now specify how we would like the\n",
    "data to be visualized. This is done via the ``mark`` attribute of the chart\n",
    "object, which is most conveniently accessed via the ``Chart.mark_*`` methods.\n",
    "For example, we can show the data as a point using `Chart.mark_point`:\n",
    "\n",
    "```python\n",
    "alt.Chart(iris).mark_point()\n",
    "```\n",
    "\n",
    "Altair provides a number of mark properties:\n",
    "\n",
    "\n",
    "1.   area: `mark_area()`\n",
    "2.   bar: `mark_bar()`\n",
    "3. line: `mark_line()`\n",
    "4. point: `mark_point()`, `mark_circle()`, `mark_square()`\n",
    "5. text: `mark_text()`\n",
    "\n",
    "`mark_*()` accept a number of parameters. Please see [user guide here for details](https://altair-viz.github.io/user_guide/marks.html).\n",
    "\n",
    "### Encodings\n",
    "\n",
    "Above it draws only one point, because we haven't assign what for `x` and what for `y` etc. This is done by `encode()` method, which builds a key-value mapping between encoding channels (such as `x`,`y`,`color`,`shape`,`size`, etc.) to columns in the dataset, accessed by colmun name. See above example. \n",
    "\n",
    "Altair provides a number of encoding channels that can be useful in different circumstances:\n",
    "\n",
    "__Position Channels__:\n",
    "\n",
    "* x  - The x-axis value\n",
    "* y - The y-axis value\n",
    "* x2 - Second x value for ranges (e.g., error bars)\n",
    "* y2 - second y value for ranges (e.g., error bars for y)\n",
    "\n",
    "__Mark Property Channels__:\n",
    "\n",
    "* color - the color of the mark\n",
    "* fill - the fill color for the mark\n",
    "* opacity - the opacity of the mark\n",
    "* shape - the shape of the mark\n",
    "* size - the size of the mark\n",
    "* stroke - the stroke of the mark\n",
    "\n",
    "__Text and other channels__\n",
    "\n",
    "* text - text to use for the mark\n",
    "* tooktip - the tooltip value\n",
    "* detail - additional property to group by\n",
    "\n",
    "__Facet Channels__\n",
    "\n",
    "* column - The column of a faceted plot\n",
    "* row - the row of a faceted plot\n",
    "\n",
    "### Encoding data type\n",
    "\n",
    "By default Altair will look the data type and use them correspondently. Alternative, you can specify them explicitly. There are __four__ main types:\n",
    "\n",
    "Data Type  |    Shorthand Code | Description\n",
    "--- | ---- | ----\n",
    "quantitative |  ``Q``   |        a continuous real-valued quantity\n",
    "ordinal      | ``O``    |       a discrete ordered quantity\n",
    "nominal     |  ``N``  |         a discrete unordered category\n",
    "temporal    |  ``T``  |         a time or date value\n",
    "\n",
    "The types can either be expressed in a long-form using the channel encoding classes such as X and Y, or in short-form using the Shorthand Syntax.\n",
    "\n",
    "THe shorthand form (e.g., `x = \"name:Q\"`) is useful when doing quick data explorations. The long-form, `alt.X('name', type = 'quantitative')` is useful when doing more fine-tuned adjustments to the encoding, such as binning, axis and scale properties, or more.  \n",
    "\n",
    "```python\n",
    "alt.Chart(pd.DataFrame({'a': list('CCCDDDEEE'),\n",
    "                     'b': [2, 7, 4, 1, 2, 6, 8, 4, 7]})).mark_bar().encode(\n",
    "    y='a:N',\n",
    "    x='average(b):Q'\n",
    ")\n",
    "```"
   ]
  },
  {
   "cell_type": "markdown",
   "metadata": {},
   "source": [
    "### 2 Method Chaining in Altair\n",
    "\n",
    "Altair’s API encourages method chaining, allowing you to construct complex visualizations step by step, without intermediate variables.\n",
    "\n",
    "Example: Adding Customizations\n",
    "\n",
    "```python\n",
    "chart = alt.Chart(df).mark_circle(size=60, color='blue').encode(\n",
    "    x='x',\n",
    "    y='y'\n",
    ").properties(\n",
    "    title='Simple Scatter Plot',\n",
    "    width=400,\n",
    "    height=300\n",
    ")\n",
    "chart\n",
    "```\n",
    "- Chaining: Each step modifies the chart object without breaking the flow.\n",
    "- Properties: Easily customize chart size, title, and other parameters.\n",
    "\n"
   ]
  },
  {
   "cell_type": "markdown",
   "metadata": {},
   "source": [
    "### Core Altair Visualization Types\n",
    "\n",
    "1. Relational Plots (Relationships between variables)\n",
    "\n",
    "Altair supports a wide range of relational plots, including scatter plots, line plots, and area plots.\n",
    "\n",
    "```python\n",
    "alt.Chart(df).mark_point().encode(\n",
    "\tx='x',\n",
    "\ty='y',\n",
    "\tcolor='category',\n",
    "\tsize='value'\n",
    ")\n",
    "```\n",
    "\n",
    "2. Distribution Plots (Univariate and bivariate distributions)\n",
    "Altair provides various distribution plots, such as histograms, kernel density plots, and box plots.\n",
    "\n",
    "```python\n",
    "alt.Chart(df).mark_bar().encode(\n",
    "\tx='x:Q', # Quantitative variable\n",
    "\ty='count()', #Automatic count aggregation and binning\n",
    "\tcolor='category'\n",
    ")\n",
    "```\n",
    "\n",
    "3. Categorical Plots (Relationships between numerical and categorical variables)\n",
    "Altair supports categorical plots like bar charts, stacked bar charts, and grouped bar charts.\n",
    "\n",
    "```python\n",
    "alt.Chart(df).mark_bar().encode(\n",
    "\tx='category',\n",
    "\ty='average(value)',\n",
    "\tcolor='category'\n",
    ")\n",
    "```\n",
    "\n",
    "4. Layering and Composition\n",
    "Altair allows you to layer multiple plots and compose them into a single visualization.\n",
    "\n",
    "```python\n",
    "points = alt.Chart(df).mark_point().encode(x='x', y='y')\n",
    "line = alt.Chart(df).mark_line().encode(x='x', y='y')\n",
    "\n",
    "layered_chart = points + line\n",
    "layered_chart\n",
    "```\n",
    "\n",
    "Example of Facet Chart\n",
    "\n",
    "```python\n",
    "alt.Chart(df).mark_point().encode(\n",
    "\tx='x',\n",
    "\ty='y',\n",
    "\tcolor='category'\n",
    ").facet(\n",
    "\tcolumn='category'\n",
    ")\n",
    "```"
   ]
  },
  {
   "cell_type": "code",
   "execution_count": 35,
   "metadata": {},
   "outputs": [
    {
     "data": {
      "text/html": [
       "\n",
       "<style>\n",
       "  #altair-viz-2d836cb8fd8447ab85703d77bc13251c.vega-embed {\n",
       "    width: 100%;\n",
       "    display: flex;\n",
       "  }\n",
       "\n",
       "  #altair-viz-2d836cb8fd8447ab85703d77bc13251c.vega-embed details,\n",
       "  #altair-viz-2d836cb8fd8447ab85703d77bc13251c.vega-embed details summary {\n",
       "    position: relative;\n",
       "  }\n",
       "</style>\n",
       "<div id=\"altair-viz-2d836cb8fd8447ab85703d77bc13251c\"></div>\n",
       "<script type=\"text/javascript\">\n",
       "  var VEGA_DEBUG = (typeof VEGA_DEBUG == \"undefined\") ? {} : VEGA_DEBUG;\n",
       "  (function(spec, embedOpt){\n",
       "    let outputDiv = document.currentScript.previousElementSibling;\n",
       "    if (outputDiv.id !== \"altair-viz-2d836cb8fd8447ab85703d77bc13251c\") {\n",
       "      outputDiv = document.getElementById(\"altair-viz-2d836cb8fd8447ab85703d77bc13251c\");\n",
       "    }\n",
       "    const paths = {\n",
       "      \"vega\": \"https://cdn.jsdelivr.net/npm/vega@5?noext\",\n",
       "      \"vega-lib\": \"https://cdn.jsdelivr.net/npm/vega-lib?noext\",\n",
       "      \"vega-lite\": \"https://cdn.jsdelivr.net/npm/vega-lite@5.16.3?noext\",\n",
       "      \"vega-embed\": \"https://cdn.jsdelivr.net/npm/vega-embed@6?noext\",\n",
       "    };\n",
       "\n",
       "    function maybeLoadScript(lib, version) {\n",
       "      var key = `${lib.replace(\"-\", \"\")}_version`;\n",
       "      return (VEGA_DEBUG[key] == version) ?\n",
       "        Promise.resolve(paths[lib]) :\n",
       "        new Promise(function(resolve, reject) {\n",
       "          var s = document.createElement('script');\n",
       "          document.getElementsByTagName(\"head\")[0].appendChild(s);\n",
       "          s.async = true;\n",
       "          s.onload = () => {\n",
       "            VEGA_DEBUG[key] = version;\n",
       "            return resolve(paths[lib]);\n",
       "          };\n",
       "          s.onerror = () => reject(`Error loading script: ${paths[lib]}`);\n",
       "          s.src = paths[lib];\n",
       "        });\n",
       "    }\n",
       "\n",
       "    function showError(err) {\n",
       "      outputDiv.innerHTML = `<div class=\"error\" style=\"color:red;\">${err}</div>`;\n",
       "      throw err;\n",
       "    }\n",
       "\n",
       "    function displayChart(vegaEmbed) {\n",
       "      vegaEmbed(outputDiv, spec, embedOpt)\n",
       "        .catch(err => showError(`Javascript Error: ${err.message}<br>This usually means there's a typo in your chart specification. See the javascript console for the full traceback.`));\n",
       "    }\n",
       "\n",
       "    if(typeof define === \"function\" && define.amd) {\n",
       "      requirejs.config({paths});\n",
       "      require([\"vega-embed\"], displayChart, err => showError(`Error loading script: ${err.message}`));\n",
       "    } else {\n",
       "      maybeLoadScript(\"vega\", \"5\")\n",
       "        .then(() => maybeLoadScript(\"vega-lite\", \"5.16.3\"))\n",
       "        .then(() => maybeLoadScript(\"vega-embed\", \"6\"))\n",
       "        .catch(showError)\n",
       "        .then(() => displayChart(vegaEmbed));\n",
       "    }\n",
       "  })({\"config\": {\"view\": {\"continuousWidth\": 300, \"continuousHeight\": 300}}, \"hconcat\": [{\"mark\": {\"type\": \"point\"}, \"encoding\": {\"color\": {\"field\": \"species\", \"type\": \"nominal\"}, \"x\": {\"field\": \"SepalLength\", \"type\": \"quantitative\"}, \"y\": {\"field\": \"SepalWidth\", \"type\": \"quantitative\"}}, \"height\": 150, \"name\": \"view_1\", \"title\": \"Ordinal\", \"width\": 150}, {\"mark\": {\"type\": \"point\"}, \"encoding\": {\"color\": {\"field\": \"PetalWidth\", \"type\": \"quantitative\"}, \"x\": {\"field\": \"SepalLength\", \"type\": \"quantitative\"}, \"y\": {\"field\": \"SepalWidth\", \"type\": \"quantitative\"}}, \"height\": 150, \"name\": \"view_2\", \"title\": \"Quantitative\", \"width\": 150}], \"data\": {\"name\": \"data-81093bcf5924db2878e2d5fba5fb25f1\"}, \"params\": [{\"name\": \"param_6\", \"select\": {\"type\": \"interval\", \"encodings\": [\"x\", \"y\"]}, \"bind\": \"scales\", \"views\": [\"view_1\", \"view_2\"]}], \"$schema\": \"https://vega.github.io/schema/vega-lite/v5.16.3.json\", \"datasets\": {\"data-81093bcf5924db2878e2d5fba5fb25f1\": [{\"SepalLength\": 5.1, \"SepalWidth\": 3.5, \"PetalLength\": 1.4, \"PetalWidth\": 0.2, \"species\": \"setosa\"}, {\"SepalLength\": 4.9, \"SepalWidth\": 3.0, \"PetalLength\": 1.4, \"PetalWidth\": 0.2, \"species\": \"setosa\"}, {\"SepalLength\": 4.7, \"SepalWidth\": 3.2, \"PetalLength\": 1.3, \"PetalWidth\": 0.2, \"species\": \"setosa\"}, {\"SepalLength\": 4.6, \"SepalWidth\": 3.1, \"PetalLength\": 1.5, \"PetalWidth\": 0.2, \"species\": \"setosa\"}, {\"SepalLength\": 5.0, \"SepalWidth\": 3.6, \"PetalLength\": 1.4, \"PetalWidth\": 0.2, \"species\": \"setosa\"}, {\"SepalLength\": 5.4, \"SepalWidth\": 3.9, \"PetalLength\": 1.7, \"PetalWidth\": 0.4, \"species\": \"setosa\"}, {\"SepalLength\": 4.6, \"SepalWidth\": 3.4, \"PetalLength\": 1.4, \"PetalWidth\": 0.3, \"species\": \"setosa\"}, {\"SepalLength\": 5.0, \"SepalWidth\": 3.4, \"PetalLength\": 1.5, \"PetalWidth\": 0.2, \"species\": \"setosa\"}, {\"SepalLength\": 4.4, \"SepalWidth\": 2.9, \"PetalLength\": 1.4, \"PetalWidth\": 0.2, \"species\": \"setosa\"}, {\"SepalLength\": 4.9, \"SepalWidth\": 3.1, \"PetalLength\": 1.5, \"PetalWidth\": 0.1, \"species\": \"setosa\"}, {\"SepalLength\": 5.4, \"SepalWidth\": 3.7, \"PetalLength\": 1.5, \"PetalWidth\": 0.2, \"species\": \"setosa\"}, {\"SepalLength\": 4.8, \"SepalWidth\": 3.4, \"PetalLength\": 1.6, \"PetalWidth\": 0.2, \"species\": \"setosa\"}, {\"SepalLength\": 4.8, \"SepalWidth\": 3.0, \"PetalLength\": 1.4, \"PetalWidth\": 0.1, \"species\": \"setosa\"}, {\"SepalLength\": 4.3, \"SepalWidth\": 3.0, \"PetalLength\": 1.1, \"PetalWidth\": 0.1, \"species\": \"setosa\"}, {\"SepalLength\": 5.8, \"SepalWidth\": 4.0, \"PetalLength\": 1.2, \"PetalWidth\": 0.2, \"species\": \"setosa\"}, {\"SepalLength\": 5.7, \"SepalWidth\": 4.4, \"PetalLength\": 1.5, \"PetalWidth\": 0.4, \"species\": \"setosa\"}, {\"SepalLength\": 5.4, \"SepalWidth\": 3.9, \"PetalLength\": 1.3, \"PetalWidth\": 0.4, \"species\": \"setosa\"}, {\"SepalLength\": 5.1, \"SepalWidth\": 3.5, \"PetalLength\": 1.4, \"PetalWidth\": 0.3, \"species\": \"setosa\"}, {\"SepalLength\": 5.7, \"SepalWidth\": 3.8, \"PetalLength\": 1.7, \"PetalWidth\": 0.3, \"species\": \"setosa\"}, {\"SepalLength\": 5.1, \"SepalWidth\": 3.8, \"PetalLength\": 1.5, \"PetalWidth\": 0.3, \"species\": \"setosa\"}, {\"SepalLength\": 5.4, \"SepalWidth\": 3.4, \"PetalLength\": 1.7, \"PetalWidth\": 0.2, \"species\": \"setosa\"}, {\"SepalLength\": 5.1, \"SepalWidth\": 3.7, \"PetalLength\": 1.5, \"PetalWidth\": 0.4, \"species\": \"setosa\"}, {\"SepalLength\": 4.6, \"SepalWidth\": 3.6, \"PetalLength\": 1.0, \"PetalWidth\": 0.2, \"species\": \"setosa\"}, {\"SepalLength\": 5.1, \"SepalWidth\": 3.3, \"PetalLength\": 1.7, \"PetalWidth\": 0.5, \"species\": \"setosa\"}, {\"SepalLength\": 4.8, \"SepalWidth\": 3.4, \"PetalLength\": 1.9, \"PetalWidth\": 0.2, \"species\": \"setosa\"}, {\"SepalLength\": 5.0, \"SepalWidth\": 3.0, \"PetalLength\": 1.6, \"PetalWidth\": 0.2, \"species\": \"setosa\"}, {\"SepalLength\": 5.0, \"SepalWidth\": 3.4, \"PetalLength\": 1.6, \"PetalWidth\": 0.4, \"species\": \"setosa\"}, {\"SepalLength\": 5.2, \"SepalWidth\": 3.5, \"PetalLength\": 1.5, \"PetalWidth\": 0.2, \"species\": \"setosa\"}, {\"SepalLength\": 5.2, \"SepalWidth\": 3.4, \"PetalLength\": 1.4, \"PetalWidth\": 0.2, \"species\": \"setosa\"}, {\"SepalLength\": 4.7, \"SepalWidth\": 3.2, \"PetalLength\": 1.6, \"PetalWidth\": 0.2, \"species\": \"setosa\"}, {\"SepalLength\": 4.8, \"SepalWidth\": 3.1, \"PetalLength\": 1.6, \"PetalWidth\": 0.2, \"species\": \"setosa\"}, {\"SepalLength\": 5.4, \"SepalWidth\": 3.4, \"PetalLength\": 1.5, \"PetalWidth\": 0.4, \"species\": \"setosa\"}, {\"SepalLength\": 5.2, \"SepalWidth\": 4.1, \"PetalLength\": 1.5, \"PetalWidth\": 0.1, \"species\": \"setosa\"}, {\"SepalLength\": 5.5, \"SepalWidth\": 4.2, \"PetalLength\": 1.4, \"PetalWidth\": 0.2, \"species\": \"setosa\"}, {\"SepalLength\": 4.9, \"SepalWidth\": 3.1, \"PetalLength\": 1.5, \"PetalWidth\": 0.2, \"species\": \"setosa\"}, {\"SepalLength\": 5.0, \"SepalWidth\": 3.2, \"PetalLength\": 1.2, \"PetalWidth\": 0.2, \"species\": \"setosa\"}, {\"SepalLength\": 5.5, \"SepalWidth\": 3.5, \"PetalLength\": 1.3, \"PetalWidth\": 0.2, \"species\": \"setosa\"}, {\"SepalLength\": 4.9, \"SepalWidth\": 3.6, \"PetalLength\": 1.4, \"PetalWidth\": 0.1, \"species\": \"setosa\"}, {\"SepalLength\": 4.4, \"SepalWidth\": 3.0, \"PetalLength\": 1.3, \"PetalWidth\": 0.2, \"species\": \"setosa\"}, {\"SepalLength\": 5.1, \"SepalWidth\": 3.4, \"PetalLength\": 1.5, \"PetalWidth\": 0.2, \"species\": \"setosa\"}, {\"SepalLength\": 5.0, \"SepalWidth\": 3.5, \"PetalLength\": 1.3, \"PetalWidth\": 0.3, \"species\": \"setosa\"}, {\"SepalLength\": 4.5, \"SepalWidth\": 2.3, \"PetalLength\": 1.3, \"PetalWidth\": 0.3, \"species\": \"setosa\"}, {\"SepalLength\": 4.4, \"SepalWidth\": 3.2, \"PetalLength\": 1.3, \"PetalWidth\": 0.2, \"species\": \"setosa\"}, {\"SepalLength\": 5.0, \"SepalWidth\": 3.5, \"PetalLength\": 1.6, \"PetalWidth\": 0.6, \"species\": \"setosa\"}, {\"SepalLength\": 5.1, \"SepalWidth\": 3.8, \"PetalLength\": 1.9, \"PetalWidth\": 0.4, \"species\": \"setosa\"}, {\"SepalLength\": 4.8, \"SepalWidth\": 3.0, \"PetalLength\": 1.4, \"PetalWidth\": 0.3, \"species\": \"setosa\"}, {\"SepalLength\": 5.1, \"SepalWidth\": 3.8, \"PetalLength\": 1.6, \"PetalWidth\": 0.2, \"species\": \"setosa\"}, {\"SepalLength\": 4.6, \"SepalWidth\": 3.2, \"PetalLength\": 1.4, \"PetalWidth\": 0.2, \"species\": \"setosa\"}, {\"SepalLength\": 5.3, \"SepalWidth\": 3.7, \"PetalLength\": 1.5, \"PetalWidth\": 0.2, \"species\": \"setosa\"}, {\"SepalLength\": 5.0, \"SepalWidth\": 3.3, \"PetalLength\": 1.4, \"PetalWidth\": 0.2, \"species\": \"setosa\"}, {\"SepalLength\": 7.0, \"SepalWidth\": 3.2, \"PetalLength\": 4.7, \"PetalWidth\": 1.4, \"species\": \"versicolor\"}, {\"SepalLength\": 6.4, \"SepalWidth\": 3.2, \"PetalLength\": 4.5, \"PetalWidth\": 1.5, \"species\": \"versicolor\"}, {\"SepalLength\": 6.9, \"SepalWidth\": 3.1, \"PetalLength\": 4.9, \"PetalWidth\": 1.5, \"species\": \"versicolor\"}, {\"SepalLength\": 5.5, \"SepalWidth\": 2.3, \"PetalLength\": 4.0, \"PetalWidth\": 1.3, \"species\": \"versicolor\"}, {\"SepalLength\": 6.5, \"SepalWidth\": 2.8, \"PetalLength\": 4.6, \"PetalWidth\": 1.5, \"species\": \"versicolor\"}, {\"SepalLength\": 5.7, \"SepalWidth\": 2.8, \"PetalLength\": 4.5, \"PetalWidth\": 1.3, \"species\": \"versicolor\"}, {\"SepalLength\": 6.3, \"SepalWidth\": 3.3, \"PetalLength\": 4.7, \"PetalWidth\": 1.6, \"species\": \"versicolor\"}, {\"SepalLength\": 4.9, \"SepalWidth\": 2.4, \"PetalLength\": 3.3, \"PetalWidth\": 1.0, \"species\": \"versicolor\"}, {\"SepalLength\": 6.6, \"SepalWidth\": 2.9, \"PetalLength\": 4.6, \"PetalWidth\": 1.3, \"species\": \"versicolor\"}, {\"SepalLength\": 5.2, \"SepalWidth\": 2.7, \"PetalLength\": 3.9, \"PetalWidth\": 1.4, \"species\": \"versicolor\"}, {\"SepalLength\": 5.0, \"SepalWidth\": 2.0, \"PetalLength\": 3.5, \"PetalWidth\": 1.0, \"species\": \"versicolor\"}, {\"SepalLength\": 5.9, \"SepalWidth\": 3.0, \"PetalLength\": 4.2, \"PetalWidth\": 1.5, \"species\": \"versicolor\"}, {\"SepalLength\": 6.0, \"SepalWidth\": 2.2, \"PetalLength\": 4.0, \"PetalWidth\": 1.0, \"species\": \"versicolor\"}, {\"SepalLength\": 6.1, \"SepalWidth\": 2.9, \"PetalLength\": 4.7, \"PetalWidth\": 1.4, \"species\": \"versicolor\"}, {\"SepalLength\": 5.6, \"SepalWidth\": 2.9, \"PetalLength\": 3.6, \"PetalWidth\": 1.3, \"species\": \"versicolor\"}, {\"SepalLength\": 6.7, \"SepalWidth\": 3.1, \"PetalLength\": 4.4, \"PetalWidth\": 1.4, \"species\": \"versicolor\"}, {\"SepalLength\": 5.6, \"SepalWidth\": 3.0, \"PetalLength\": 4.5, \"PetalWidth\": 1.5, \"species\": \"versicolor\"}, {\"SepalLength\": 5.8, \"SepalWidth\": 2.7, \"PetalLength\": 4.1, \"PetalWidth\": 1.0, \"species\": \"versicolor\"}, {\"SepalLength\": 6.2, \"SepalWidth\": 2.2, \"PetalLength\": 4.5, \"PetalWidth\": 1.5, \"species\": \"versicolor\"}, {\"SepalLength\": 5.6, \"SepalWidth\": 2.5, \"PetalLength\": 3.9, \"PetalWidth\": 1.1, \"species\": \"versicolor\"}, {\"SepalLength\": 5.9, \"SepalWidth\": 3.2, \"PetalLength\": 4.8, \"PetalWidth\": 1.8, \"species\": \"versicolor\"}, {\"SepalLength\": 6.1, \"SepalWidth\": 2.8, \"PetalLength\": 4.0, \"PetalWidth\": 1.3, \"species\": \"versicolor\"}, {\"SepalLength\": 6.3, \"SepalWidth\": 2.5, \"PetalLength\": 4.9, \"PetalWidth\": 1.5, \"species\": \"versicolor\"}, {\"SepalLength\": 6.1, \"SepalWidth\": 2.8, \"PetalLength\": 4.7, \"PetalWidth\": 1.2, \"species\": \"versicolor\"}, {\"SepalLength\": 6.4, \"SepalWidth\": 2.9, \"PetalLength\": 4.3, \"PetalWidth\": 1.3, \"species\": \"versicolor\"}, {\"SepalLength\": 6.6, \"SepalWidth\": 3.0, \"PetalLength\": 4.4, \"PetalWidth\": 1.4, \"species\": \"versicolor\"}, {\"SepalLength\": 6.8, \"SepalWidth\": 2.8, \"PetalLength\": 4.8, \"PetalWidth\": 1.4, \"species\": \"versicolor\"}, {\"SepalLength\": 6.7, \"SepalWidth\": 3.0, \"PetalLength\": 5.0, \"PetalWidth\": 1.7, \"species\": \"versicolor\"}, {\"SepalLength\": 6.0, \"SepalWidth\": 2.9, \"PetalLength\": 4.5, \"PetalWidth\": 1.5, \"species\": \"versicolor\"}, {\"SepalLength\": 5.7, \"SepalWidth\": 2.6, \"PetalLength\": 3.5, \"PetalWidth\": 1.0, \"species\": \"versicolor\"}, {\"SepalLength\": 5.5, \"SepalWidth\": 2.4, \"PetalLength\": 3.8, \"PetalWidth\": 1.1, \"species\": \"versicolor\"}, {\"SepalLength\": 5.5, \"SepalWidth\": 2.4, \"PetalLength\": 3.7, \"PetalWidth\": 1.0, \"species\": \"versicolor\"}, {\"SepalLength\": 5.8, \"SepalWidth\": 2.7, \"PetalLength\": 3.9, \"PetalWidth\": 1.2, \"species\": \"versicolor\"}, {\"SepalLength\": 6.0, \"SepalWidth\": 2.7, \"PetalLength\": 5.1, \"PetalWidth\": 1.6, \"species\": \"versicolor\"}, {\"SepalLength\": 5.4, \"SepalWidth\": 3.0, \"PetalLength\": 4.5, \"PetalWidth\": 1.5, \"species\": \"versicolor\"}, {\"SepalLength\": 6.0, \"SepalWidth\": 3.4, \"PetalLength\": 4.5, \"PetalWidth\": 1.6, \"species\": \"versicolor\"}, {\"SepalLength\": 6.7, \"SepalWidth\": 3.1, \"PetalLength\": 4.7, \"PetalWidth\": 1.5, \"species\": \"versicolor\"}, {\"SepalLength\": 6.3, \"SepalWidth\": 2.3, \"PetalLength\": 4.4, \"PetalWidth\": 1.3, \"species\": \"versicolor\"}, {\"SepalLength\": 5.6, \"SepalWidth\": 3.0, \"PetalLength\": 4.1, \"PetalWidth\": 1.3, \"species\": \"versicolor\"}, {\"SepalLength\": 5.5, \"SepalWidth\": 2.5, \"PetalLength\": 4.0, \"PetalWidth\": 1.3, \"species\": \"versicolor\"}, {\"SepalLength\": 5.5, \"SepalWidth\": 2.6, \"PetalLength\": 4.4, \"PetalWidth\": 1.2, \"species\": \"versicolor\"}, {\"SepalLength\": 6.1, \"SepalWidth\": 3.0, \"PetalLength\": 4.6, \"PetalWidth\": 1.4, \"species\": \"versicolor\"}, {\"SepalLength\": 5.8, \"SepalWidth\": 2.6, \"PetalLength\": 4.0, \"PetalWidth\": 1.2, \"species\": \"versicolor\"}, {\"SepalLength\": 5.0, \"SepalWidth\": 2.3, \"PetalLength\": 3.3, \"PetalWidth\": 1.0, \"species\": \"versicolor\"}, {\"SepalLength\": 5.6, \"SepalWidth\": 2.7, \"PetalLength\": 4.2, \"PetalWidth\": 1.3, \"species\": \"versicolor\"}, {\"SepalLength\": 5.7, \"SepalWidth\": 3.0, \"PetalLength\": 4.2, \"PetalWidth\": 1.2, \"species\": \"versicolor\"}, {\"SepalLength\": 5.7, \"SepalWidth\": 2.9, \"PetalLength\": 4.2, \"PetalWidth\": 1.3, \"species\": \"versicolor\"}, {\"SepalLength\": 6.2, \"SepalWidth\": 2.9, \"PetalLength\": 4.3, \"PetalWidth\": 1.3, \"species\": \"versicolor\"}, {\"SepalLength\": 5.1, \"SepalWidth\": 2.5, \"PetalLength\": 3.0, \"PetalWidth\": 1.1, \"species\": \"versicolor\"}, {\"SepalLength\": 5.7, \"SepalWidth\": 2.8, \"PetalLength\": 4.1, \"PetalWidth\": 1.3, \"species\": \"versicolor\"}, {\"SepalLength\": 6.3, \"SepalWidth\": 3.3, \"PetalLength\": 6.0, \"PetalWidth\": 2.5, \"species\": \"virginica\"}, {\"SepalLength\": 5.8, \"SepalWidth\": 2.7, \"PetalLength\": 5.1, \"PetalWidth\": 1.9, \"species\": \"virginica\"}, {\"SepalLength\": 7.1, \"SepalWidth\": 3.0, \"PetalLength\": 5.9, \"PetalWidth\": 2.1, \"species\": \"virginica\"}, {\"SepalLength\": 6.3, \"SepalWidth\": 2.9, \"PetalLength\": 5.6, \"PetalWidth\": 1.8, \"species\": \"virginica\"}, {\"SepalLength\": 6.5, \"SepalWidth\": 3.0, \"PetalLength\": 5.8, \"PetalWidth\": 2.2, \"species\": \"virginica\"}, {\"SepalLength\": 7.6, \"SepalWidth\": 3.0, \"PetalLength\": 6.6, \"PetalWidth\": 2.1, \"species\": \"virginica\"}, {\"SepalLength\": 4.9, \"SepalWidth\": 2.5, \"PetalLength\": 4.5, \"PetalWidth\": 1.7, \"species\": \"virginica\"}, {\"SepalLength\": 7.3, \"SepalWidth\": 2.9, \"PetalLength\": 6.3, \"PetalWidth\": 1.8, \"species\": \"virginica\"}, {\"SepalLength\": 6.7, \"SepalWidth\": 2.5, \"PetalLength\": 5.8, \"PetalWidth\": 1.8, \"species\": \"virginica\"}, {\"SepalLength\": 7.2, \"SepalWidth\": 3.6, \"PetalLength\": 6.1, \"PetalWidth\": 2.5, \"species\": \"virginica\"}, {\"SepalLength\": 6.5, \"SepalWidth\": 3.2, \"PetalLength\": 5.1, \"PetalWidth\": 2.0, \"species\": \"virginica\"}, {\"SepalLength\": 6.4, \"SepalWidth\": 2.7, \"PetalLength\": 5.3, \"PetalWidth\": 1.9, \"species\": \"virginica\"}, {\"SepalLength\": 6.8, \"SepalWidth\": 3.0, \"PetalLength\": 5.5, \"PetalWidth\": 2.1, \"species\": \"virginica\"}, {\"SepalLength\": 5.7, \"SepalWidth\": 2.5, \"PetalLength\": 5.0, \"PetalWidth\": 2.0, \"species\": \"virginica\"}, {\"SepalLength\": 5.8, \"SepalWidth\": 2.8, \"PetalLength\": 5.1, \"PetalWidth\": 2.4, \"species\": \"virginica\"}, {\"SepalLength\": 6.4, \"SepalWidth\": 3.2, \"PetalLength\": 5.3, \"PetalWidth\": 2.3, \"species\": \"virginica\"}, {\"SepalLength\": 6.5, \"SepalWidth\": 3.0, \"PetalLength\": 5.5, \"PetalWidth\": 1.8, \"species\": \"virginica\"}, {\"SepalLength\": 7.7, \"SepalWidth\": 3.8, \"PetalLength\": 6.7, \"PetalWidth\": 2.2, \"species\": \"virginica\"}, {\"SepalLength\": 7.7, \"SepalWidth\": 2.6, \"PetalLength\": 6.9, \"PetalWidth\": 2.3, \"species\": \"virginica\"}, {\"SepalLength\": 6.0, \"SepalWidth\": 2.2, \"PetalLength\": 5.0, \"PetalWidth\": 1.5, \"species\": \"virginica\"}, {\"SepalLength\": 6.9, \"SepalWidth\": 3.2, \"PetalLength\": 5.7, \"PetalWidth\": 2.3, \"species\": \"virginica\"}, {\"SepalLength\": 5.6, \"SepalWidth\": 2.8, \"PetalLength\": 4.9, \"PetalWidth\": 2.0, \"species\": \"virginica\"}, {\"SepalLength\": 7.7, \"SepalWidth\": 2.8, \"PetalLength\": 6.7, \"PetalWidth\": 2.0, \"species\": \"virginica\"}, {\"SepalLength\": 6.3, \"SepalWidth\": 2.7, \"PetalLength\": 4.9, \"PetalWidth\": 1.8, \"species\": \"virginica\"}, {\"SepalLength\": 6.7, \"SepalWidth\": 3.3, \"PetalLength\": 5.7, \"PetalWidth\": 2.1, \"species\": \"virginica\"}, {\"SepalLength\": 7.2, \"SepalWidth\": 3.2, \"PetalLength\": 6.0, \"PetalWidth\": 1.8, \"species\": \"virginica\"}, {\"SepalLength\": 6.2, \"SepalWidth\": 2.8, \"PetalLength\": 4.8, \"PetalWidth\": 1.8, \"species\": \"virginica\"}, {\"SepalLength\": 6.1, \"SepalWidth\": 3.0, \"PetalLength\": 4.9, \"PetalWidth\": 1.8, \"species\": \"virginica\"}, {\"SepalLength\": 6.4, \"SepalWidth\": 2.8, \"PetalLength\": 5.6, \"PetalWidth\": 2.1, \"species\": \"virginica\"}, {\"SepalLength\": 7.2, \"SepalWidth\": 3.0, \"PetalLength\": 5.8, \"PetalWidth\": 1.6, \"species\": \"virginica\"}, {\"SepalLength\": 7.4, \"SepalWidth\": 2.8, \"PetalLength\": 6.1, \"PetalWidth\": 1.9, \"species\": \"virginica\"}, {\"SepalLength\": 7.9, \"SepalWidth\": 3.8, \"PetalLength\": 6.4, \"PetalWidth\": 2.0, \"species\": \"virginica\"}, {\"SepalLength\": 6.4, \"SepalWidth\": 2.8, \"PetalLength\": 5.6, \"PetalWidth\": 2.2, \"species\": \"virginica\"}, {\"SepalLength\": 6.3, \"SepalWidth\": 2.8, \"PetalLength\": 5.1, \"PetalWidth\": 1.5, \"species\": \"virginica\"}, {\"SepalLength\": 6.1, \"SepalWidth\": 2.6, \"PetalLength\": 5.6, \"PetalWidth\": 1.4, \"species\": \"virginica\"}, {\"SepalLength\": 7.7, \"SepalWidth\": 3.0, \"PetalLength\": 6.1, \"PetalWidth\": 2.3, \"species\": \"virginica\"}, {\"SepalLength\": 6.3, \"SepalWidth\": 3.4, \"PetalLength\": 5.6, \"PetalWidth\": 2.4, \"species\": \"virginica\"}, {\"SepalLength\": 6.4, \"SepalWidth\": 3.1, \"PetalLength\": 5.5, \"PetalWidth\": 1.8, \"species\": \"virginica\"}, {\"SepalLength\": 6.0, \"SepalWidth\": 3.0, \"PetalLength\": 4.8, \"PetalWidth\": 1.8, \"species\": \"virginica\"}, {\"SepalLength\": 6.9, \"SepalWidth\": 3.1, \"PetalLength\": 5.4, \"PetalWidth\": 2.1, \"species\": \"virginica\"}, {\"SepalLength\": 6.7, \"SepalWidth\": 3.1, \"PetalLength\": 5.6, \"PetalWidth\": 2.4, \"species\": \"virginica\"}, {\"SepalLength\": 6.9, \"SepalWidth\": 3.1, \"PetalLength\": 5.1, \"PetalWidth\": 2.3, \"species\": \"virginica\"}, {\"SepalLength\": 5.8, \"SepalWidth\": 2.7, \"PetalLength\": 5.1, \"PetalWidth\": 1.9, \"species\": \"virginica\"}, {\"SepalLength\": 6.8, \"SepalWidth\": 3.2, \"PetalLength\": 5.9, \"PetalWidth\": 2.3, \"species\": \"virginica\"}, {\"SepalLength\": 6.7, \"SepalWidth\": 3.3, \"PetalLength\": 5.7, \"PetalWidth\": 2.5, \"species\": \"virginica\"}, {\"SepalLength\": 6.7, \"SepalWidth\": 3.0, \"PetalLength\": 5.2, \"PetalWidth\": 2.3, \"species\": \"virginica\"}, {\"SepalLength\": 6.3, \"SepalWidth\": 2.5, \"PetalLength\": 5.0, \"PetalWidth\": 1.9, \"species\": \"virginica\"}, {\"SepalLength\": 6.5, \"SepalWidth\": 3.0, \"PetalLength\": 5.2, \"PetalWidth\": 2.0, \"species\": \"virginica\"}, {\"SepalLength\": 6.2, \"SepalWidth\": 3.4, \"PetalLength\": 5.4, \"PetalWidth\": 2.3, \"species\": \"virginica\"}, {\"SepalLength\": 5.9, \"SepalWidth\": 3.0, \"PetalLength\": 5.1, \"PetalWidth\": 1.8, \"species\": \"virginica\"}]}}, {\"mode\": \"vega-lite\"});\n",
       "</script>"
      ],
      "text/plain": [
       "alt.HConcatChart(...)"
      ]
     },
     "execution_count": 35,
     "metadata": {},
     "output_type": "execute_result"
    }
   ],
   "source": [
    "base = alt.Chart(iris_df).mark_point().encode(\n",
    "    x = 'SepalLength:Q',\n",
    "    y = 'SepalWidth:Q'\n",
    ").properties(\n",
    "    width = 150,\n",
    "    height = 150\n",
    ")\n",
    "\n",
    "alt.hconcat(\n",
    "    base.encode(color = 'species:N').properties(title = 'Ordinal'),\n",
    "    base.encode(color = 'PetalWidth:Q').properties(title = 'Quantitative'),\n",
    ").interactive()"
   ]
  },
  {
   "cell_type": "markdown",
   "metadata": {},
   "source": [
    "### Altair Practice Challenge\n",
    "\n",
    "Now, let's practice creating a simple scatter plot using Altair. We still use the same dataset from the distractor suppression study.\n",
    "\n",
    "Please create similar scatter plot as above using Altair. \n",
    "\n"
   ]
  }
 ],
 "metadata": {
  "colab": {
   "collapsed_sections": [
    "4TPCKI_V2TbM",
    "uznj_NJmteJZ",
    "2cVOjDR3teJf",
    "uT2lRhswteJo",
    "b15DlxrGteJ8",
    "YO-Edm4kteJ_",
    "9jCQEutcteKJ"
   ],
   "name": "Python for R Users - Pandas.ipynb",
   "provenance": [],
   "version": "0.3.2"
  },
  "kernelspec": {
   "display_name": "base",
   "language": "python",
   "name": "python3"
  },
  "language_info": {
   "codemirror_mode": {
    "name": "ipython",
    "version": 3
   },
   "file_extension": ".py",
   "mimetype": "text/x-python",
   "name": "python",
   "nbconvert_exporter": "python",
   "pygments_lexer": "ipython3",
   "version": "3.11.7"
  }
 },
 "nbformat": 4,
 "nbformat_minor": 2
}
