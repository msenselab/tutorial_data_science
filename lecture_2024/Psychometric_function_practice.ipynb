{
  "cells": [
    {
      "cell_type": "markdown",
      "metadata": {
        "id": "view-in-github",
        "colab_type": "text"
      },
      "source": [
        "<a href=\"https://colab.research.google.com/github/strongway/tutorial_data_science/blob/master/lecture_2024/Psychometric_function_practice.ipynb\" target=\"_parent\"><img src=\"https://colab.research.google.com/assets/colab-badge.svg\" alt=\"Open In Colab\"/></a>"
      ]
    },
    {
      "cell_type": "markdown",
      "metadata": {
        "id": "BqxRUDEbXJ6m"
      },
      "source": [
        "# Psychometric function (PF)\n",
        "\n",
        "__updated: Dec. 2024__\n",
        "\n",
        "The psychometric function (PF) describes the relationship between human performance, such as classification, on a psychophysical task and sensory inputs like stimulus intensity. Recall that a general psychometric function:\n",
        "\n",
        "$$\\Psi(x,\\alpha, \\beta, \\gamma, \\lambda) = \\gamma + (1-\\gamma -\\lambda) F(x, \\alpha, \\beta)$$\n",
        "\n",
        "where $\\alpha$ is the threshold, $\\beta$ the discrmination sensitivity, $\\gamma$ the chance level, and $\\lambda$ the lapse rate.\n",
        "Several candidate functions can be used for psychometric functions $F(x,\\alpha, \\beta)$:\n",
        "\n",
        "* logit function\n",
        "* cumulative Gaussian function\n",
        "* Weibull\n",
        "\n",
        "The Logit function is relatively simple:\n",
        "\n",
        "$$ \\log \\frac{P}{1-P} = \\beta(x-\\alpha), $$\n",
        "where $P$ represents the proportion of positive responses, and $1-P$ is the proportion of negative responses. The term $\\log \\frac{P}{1-P}$, also known as the log-likelihood of two alternative responses (ordecision variable), is modeled as a linear function of the stimulus intensity, $X$. This equation can be rewritten as:  \n",
        "\n",
        "$$ P = \\frac{1}{1+ e^{-\\beta(x-\\alpha)}}$$\n",
        "\n",
        "From this formular, we can easily determine the __point of subjective equality__ (PSE, $\\alpha$) and the __just noticeable difference__ (JND). The JND is defined as the difference between the thresholds at $P=0.5$ and $P=0.75$ (for 1AFC). It is given by\n",
        "\n",
        "$$JND = \\log3/\\beta$$\n",
        "\n",
        "This relationship shows that the slope $\\beta$ becomes steeper, the JND decreases.\n",
        "\n",
        "## Fitting the psychometric function\n",
        "\n",
        "To fit generative psychometric functions, you can use libraries like `statsmodels`, `sklearn`, or `pingouin`. Additionally, specialized packages are available for this purpose, such as `python-psignifit` developed by Wichmann’s lab in Tübingen as a Python adaptation of their original MATLAB toolbox—and Bayesfit.\n",
        "\n",
        "In this tutorial, we will primarily use the python-psignifit package. The concepts covered here can also be adapted to other packages, offering flexibility depending on your specific requirements.\n",
        "\n",
        "For more detailed information about `python-psignifit, refer to its [official GitHub repository](https://github.com/wichmann-lab/python-psignifit).\n"
      ]
    },
    {
      "cell_type": "markdown",
      "metadata": {
        "id": "gwWgLlmaXXtF"
      },
      "source": [
        "## Usage of `Python-psignifit` package\n",
        "\n",
        "\n",
        "Recall the session **Logistic regression**, we have introduced this package. Let's have a quick review on this.\n"
      ]
    },
    {
      "cell_type": "code",
      "execution_count": null,
      "metadata": {
        "id": "xw81qUsx0HBW"
      },
      "outputs": [],
      "source": [
        "!pip install psignifit"
      ]
    },
    {
      "cell_type": "code",
      "execution_count": null,
      "metadata": {
        "id": "vcPCr5Xq0P32"
      },
      "outputs": [],
      "source": [
        "%matplotlib inline\n",
        "\n",
        "import numpy as np\n",
        "import pandas as pd\n",
        "import statsmodels.api as sm\n",
        "import psignifit as ps\n",
        "import seaborn as sns\n",
        "\n",
        "import matplotlib.pyplot as plt\n",
        "\n",
        "# we creat one hypothetical data, first column (intensity), second column (number of correct trials), third column (number of total trials)\n",
        "data = np.array([[0.0010,   45,   90],\n",
        "                 [0.0015,   50,   90],\n",
        "                 [0.0020,   44,   90],\n",
        "                 [0.0025,   44,   90],\n",
        "                 [0.0030,   52,   90],\n",
        "                 [0.0035,   53,   90],\n",
        "                 [0.0040,   62,   90],\n",
        "                 [0.0045,   64,   90],\n",
        "                 [0.0050,   76,   90],\n",
        "                 [0.0060,   79,   90],\n",
        "                 [0.0070,   88,   90],\n",
        "                 [0.0080,   90,   90],\n",
        "                 [0.0100,   90,   90]])\n",
        "\n"
      ]
    },
    {
      "cell_type": "markdown",
      "metadata": {
        "id": "A0ShbfC_Z7CU"
      },
      "source": [
        "Second, you need a dictionary which allow you to change options for the fitting process."
      ]
    },
    {
      "cell_type": "code",
      "execution_count": null,
      "metadata": {
        "id": "fek22YwlZyMS",
        "outputId": "8f61b995-8ff6-4b13-b925-00a1af7f6e8f"
      },
      "outputs": [
        {
          "data": {
            "text/plain": [
              "{'gamma': 0.5,\n",
              " 'eta': 0.00015087126483529433,\n",
              " 'lambda': 3.1531558203240214e-09,\n",
              " 'threshold': 0.004634536661499031,\n",
              " 'width': 0.0048302581622860115}"
            ]
          },
          "execution_count": 18,
          "metadata": {},
          "output_type": "execute_result"
        }
      ],
      "source": [
        "config = {\n",
        "\t'sigmoid': 'logistic',\n",
        "\t'experiment_type': '2AFC'\n",
        "}\n",
        "\n",
        "results = ps.psignifit(data, **config)\n",
        "#output threshold\n",
        "results.parameter_estimate"
      ]
    },
    {
      "cell_type": "markdown",
      "metadata": {
        "id": "6wACZZDg2s6R"
      },
      "source": [
        "- `threshold`, the stimulus value of equal-odds\n",
        "\n",
        "- `width`, the difference between the 5 and the 95 percentile of the unscaled sigmoid\n",
        "\n",
        "- `lambda`, the lapse rate (upper asymptote of the sigmoid)\n",
        "\n",
        "- `gamma`, the guess rate (lower asymptote of the sigmoid). This parameter is fixed for nAFC experiment types.\n",
        "\n",
        "- `eta`,the overdispersion parameter. A value near zero indicates your data behaves binomially distributed, whereas values near one indicate severely overdispersed data."
      ]
    },
    {
      "cell_type": "markdown",
      "metadata": {
        "id": "Uzo8OIZSbOuC"
      },
      "source": [
        "Let's visualize the results."
      ]
    },
    {
      "cell_type": "markdown",
      "metadata": {
        "id": "V1PqHw5PYp_7"
      },
      "source": [
        "The package also provide a basic plots - `psigniplot.plot_psychometric_function(result)`."
      ]
    },
    {
      "cell_type": "code",
      "execution_count": null,
      "metadata": {
        "colab": {
          "base_uri": "https://localhost:8080/",
          "height": 329
        },
        "id": "THB0188I4mAn",
        "outputId": "40bd3ead-8a23-44f9-d450-b149afb99e8c"
      },
      "outputs": [
        {
          "data": {
            "text/plain": [
              "<Axes: xlabel='Stimulus Level', ylabel='Proportion Correct'>"
            ]
          },
          "execution_count": 14,
          "metadata": {},
          "output_type": "execute_result"
        },
        {
          "data": {
            "image/png": "[encoded data removed]",
            "text/plain": [
              "<Figure size 640x480 with 1 Axes>"
            ]
          },
          "metadata": {},
          "output_type": "display_data"
        }
      ],
      "source": [
        "from psignifit import psigniplot as pp\n",
        "pp.plot_psychometric_function(results)"
      ]
    },
    {
      "cell_type": "markdown",
      "metadata": {
        "id": "pExzIqQDb5k1"
      },
      "source": [
        "more plots can be found in the official document [here](https://psignifit.readthedocs.io/en/latest/examples/plotting.html)"
      ]
    },
    {
      "cell_type": "markdown",
      "metadata": {
        "id": "QbjiHdSAbYKR"
      },
      "source": [
        "## A case study: Temporal bisection\n",
        "\n",
        "Recall in the lecture on 'logistic regression', we have used this example.\n",
        "\n",
        "**Paper**:\n",
        "Zhu, X., Baykan, C., Müller, H. J., & Shi, Z. (2021). Temporal bisection is influenced by ensemble statistics of the stimulus set. Attention, Perception & Psychophysics, 83(3), 1201–1214. https://doi.org/10.3758/s13414-020-02202-z\n",
        "\n",
        "In this study we compare how ensemble statistics influence temporal bisection. We estimated the point of subjective equality (PSE) for each condition and use this PSE to judge if there are any significant changes in duration perception.\n",
        "\n",
        "The results from Experiment 2 looks like this:\n",
        "\n",
        "![](https://media.springernature.com/full/springer-static/image/art%3A10.3758%2Fs13414-020-02202-z/MediaObjects/13414_2020_2202_Fig3_HTML.png?as=webp)\n",
        "\n",
        "\n",
        "The raw data are available in my github [here](https://raw.githubusercontent.com/msenselab/sets_in_bisection/master/data/AllData_exp2.csv)."
      ]
    },
    {
      "cell_type": "code",
      "execution_count": null,
      "metadata": {
        "colab": {
          "base_uri": "https://localhost:8080/",
          "height": 206
        },
        "id": "8_Soz22ucTbV",
        "outputId": "008d945f-f890-4e55-822d-9561a188c2f0"
      },
      "outputs": [
        {
          "data": {
            "text/html": [
              "<div>\n",
              "<style scoped>\n",
              "    .dataframe tbody tr th:only-of-type {\n",
              "        vertical-align: middle;\n",
              "    }\n",
              "\n",
              "    .dataframe tbody tr th {\n",
              "        vertical-align: top;\n",
              "    }\n",
              "\n",
              "    .dataframe thead th {\n",
              "        text-align: right;\n",
              "    }\n",
              "</style>\n",
              "<table border=\"1\" class=\"dataframe\">\n",
              "  <thead>\n",
              "    <tr style=\"text-align: right;\">\n",
              "      <th></th>\n",
              "      <th>subj</th>\n",
              "      <th>condition</th>\n",
              "      <th>duration</th>\n",
              "      <th>correct</th>\n",
              "      <th>total</th>\n",
              "    </tr>\n",
              "  </thead>\n",
              "  <tbody>\n",
              "    <tr>\n",
              "      <th>0</th>\n",
              "      <td>1</td>\n",
              "      <td>1</td>\n",
              "      <td>0.4</td>\n",
              "      <td>2</td>\n",
              "      <td>126</td>\n",
              "    </tr>\n",
              "    <tr>\n",
              "      <th>1</th>\n",
              "      <td>1</td>\n",
              "      <td>1</td>\n",
              "      <td>0.6</td>\n",
              "      <td>6</td>\n",
              "      <td>108</td>\n",
              "    </tr>\n",
              "    <tr>\n",
              "      <th>2</th>\n",
              "      <td>1</td>\n",
              "      <td>1</td>\n",
              "      <td>0.8</td>\n",
              "      <td>49</td>\n",
              "      <td>90</td>\n",
              "    </tr>\n",
              "    <tr>\n",
              "      <th>3</th>\n",
              "      <td>1</td>\n",
              "      <td>1</td>\n",
              "      <td>1.0</td>\n",
              "      <td>64</td>\n",
              "      <td>72</td>\n",
              "    </tr>\n",
              "    <tr>\n",
              "      <th>4</th>\n",
              "      <td>1</td>\n",
              "      <td>1</td>\n",
              "      <td>1.2</td>\n",
              "      <td>54</td>\n",
              "      <td>54</td>\n",
              "    </tr>\n",
              "  </tbody>\n",
              "</table>\n",
              "</div>"
            ],
            "text/plain": [
              "   subj  condition  duration  correct  total\n",
              "0     1          1       0.4        2    126\n",
              "1     1          1       0.6        6    108\n",
              "2     1          1       0.8       49     90\n",
              "3     1          1       1.0       64     72\n",
              "4     1          1       1.2       54     54"
            ]
          },
          "execution_count": 23,
          "metadata": {},
          "output_type": "execute_result"
        }
      ],
      "source": [
        "# Here the code we paractice last time\n",
        "# Step 1: Prepare the data\n",
        "bisection = pd.read_csv('https://raw.githubusercontent.com/msenselab/sets_in_bisection/master/data/AllData_exp2.csv')\n",
        "mresp = bisection.groupby(['NSub', 'cond', 'curDur']).agg({'RP':'sum', 'NB':'count'}).reset_index()\n",
        "mresp.columns = ['subj','condition', 'duration', 'correct','total']\n",
        "mresp.head()"
      ]
    },
    {
      "cell_type": "code",
      "execution_count": null,
      "metadata": {
        "colab": {
          "base_uri": "https://localhost:8080/",
          "height": 206
        },
        "id": "zsDAsXSvloY-",
        "outputId": "31d29394-b441-4dca-9bf2-cd88d4f19207"
      },
      "outputs": [
        {
          "data": {
            "text/html": [
              "<div>\n",
              "<style scoped>\n",
              "    .dataframe tbody tr th:only-of-type {\n",
              "        vertical-align: middle;\n",
              "    }\n",
              "\n",
              "    .dataframe tbody tr th {\n",
              "        vertical-align: top;\n",
              "    }\n",
              "\n",
              "    .dataframe thead th {\n",
              "        text-align: right;\n",
              "    }\n",
              "</style>\n",
              "<table border=\"1\" class=\"dataframe\">\n",
              "  <thead>\n",
              "    <tr style=\"text-align: right;\">\n",
              "      <th></th>\n",
              "      <th>subj</th>\n",
              "      <th>context</th>\n",
              "      <th>threshold</th>\n",
              "    </tr>\n",
              "  </thead>\n",
              "  <tbody>\n",
              "    <tr>\n",
              "      <th>0</th>\n",
              "      <td>1</td>\n",
              "      <td>1</td>\n",
              "      <td>0.802505</td>\n",
              "    </tr>\n",
              "    <tr>\n",
              "      <th>1</th>\n",
              "      <td>1</td>\n",
              "      <td>2</td>\n",
              "      <td>0.913571</td>\n",
              "    </tr>\n",
              "    <tr>\n",
              "      <th>2</th>\n",
              "      <td>2</td>\n",
              "      <td>1</td>\n",
              "      <td>0.730375</td>\n",
              "    </tr>\n",
              "    <tr>\n",
              "      <th>3</th>\n",
              "      <td>2</td>\n",
              "      <td>2</td>\n",
              "      <td>0.875113</td>\n",
              "    </tr>\n",
              "  </tbody>\n",
              "</table>\n",
              "</div>"
            ],
            "text/plain": [
              "   subj  context  threshold\n",
              "0     1        1   0.802505\n",
              "1     1        2   0.913571\n",
              "2     2        1   0.730375\n",
              "3     2        2   0.875113"
            ]
          },
          "execution_count": 32,
          "metadata": {},
          "output_type": "execute_result"
        }
      ],
      "source": [
        "# 2. prepare for the psychometric function estimation\n",
        "thresholds_df = []\n",
        "# initialize the config dictionary\n",
        "config = {\n",
        "    'sigmoid': 'logistic',\n",
        "    'experiment_type': 'yes/no' # short / long\n",
        "}\n",
        "# for illustration, we only fit two subjects (query('subj < 3'))\n",
        "for (subj, context), group in mresp.query('subj < 3').groupby(['subj', 'condition']):\n",
        "    #group contain the same columns as mresp\n",
        "    data = group[['duration','correct','total']].to_numpy()\n",
        "\n",
        "    res = ps.psignifit(data, **config)\n",
        "    # Extract the threshold value\n",
        "    threshold = res.parameter_estimate['threshold']\n",
        "    thresholds_df.append({'subj':subj, 'context':context, 'threshold':threshold})\n",
        "\n",
        "# convert the list of dictionaries to a data frame\n",
        "thresholds_df = pd.DataFrame(thresholds_df)\n",
        "thresholds_df.head()"
      ]
    },
    {
      "cell_type": "markdown",
      "metadata": {
        "id": "zVmgO79QdhsI"
      },
      "source": [
        "__Note:__ The above logistic analysis  assumes the response curve is logistic curve is symmetrical. That is, the logistic function has the same guess rate $\\gamma$ or lapse rate $\\lambda$."
      ]
    },
    {
      "cell_type": "markdown",
      "metadata": {
        "id": "J2vunVq82s6R"
      },
      "source": [
        "## Group Task\n",
        "\n",
        "For group practice, we will use a recent published study:\n",
        "\n",
        "Baykan, C., Zhu, X., Zinchenko, A., & Shi, Z. (2024). Blocked versus interleaved: How range contexts modulate time perception and its EEG signatures. Psychophysiology, 61(8), e14585. https://doi.org/10.1111/psyp.14585\n",
        "\n",
        "The data of this study is available here: https://doi.gin.g-node.org/10.12751/g-node.7snfwg/\n",
        "\n",
        "Your tasks are:\n",
        "\n",
        "1. read raw data from their Experiment 1, and analyze psychometric functions for individual participants.\n",
        "2. Extract the PSEs and JNDs and make statistical tests\n",
        "3. Visualize group psychometric functions, replicating their Figure 2.\n",
        "\n",
        "![fig. 2](https://media.springernature.com/full/springer-static/image/art%3A10.1007%2Fs00221-023-06670-1/MediaObjects/221_2023_6670_Fig2_HTML.png?as=webp)"
      ]
    },
    {
      "cell_type": "markdown",
      "metadata": {
        "id": "XQupNgRD2s6S"
      },
      "source": [
        "### Step 1: Read raw data"
      ]
    },
    {
      "cell_type": "code",
      "execution_count": null,
      "metadata": {
        "id": "AEuOylNM2s6S",
        "outputId": "4a514452-fd89-4c4a-b958-1381a2a0939b"
      },
      "outputs": [
        {
          "data": {
            "text/html": [
              "<div>\n",
              "<style scoped>\n",
              "    .dataframe tbody tr th:only-of-type {\n",
              "        vertical-align: middle;\n",
              "    }\n",
              "\n",
              "    .dataframe tbody tr th {\n",
              "        vertical-align: top;\n",
              "    }\n",
              "\n",
              "    .dataframe thead th {\n",
              "        text-align: right;\n",
              "    }\n",
              "</style>\n",
              "<table border=\"1\" class=\"dataframe\">\n",
              "  <thead>\n",
              "    <tr style=\"text-align: right;\">\n",
              "      <th></th>\n",
              "      <th>Unnamed: 0</th>\n",
              "      <th>cond</th>\n",
              "      <th>RP</th>\n",
              "      <th>Exp</th>\n",
              "      <th>SubName</th>\n",
              "      <th>targetDur</th>\n",
              "    </tr>\n",
              "  </thead>\n",
              "  <tbody>\n",
              "    <tr>\n",
              "      <th>0</th>\n",
              "      <td>1</td>\n",
              "      <td>PS</td>\n",
              "      <td>0</td>\n",
              "      <td>Exp1</td>\n",
              "      <td>sub-012</td>\n",
              "      <td>400</td>\n",
              "    </tr>\n",
              "    <tr>\n",
              "      <th>1</th>\n",
              "      <td>2</td>\n",
              "      <td>PS</td>\n",
              "      <td>0</td>\n",
              "      <td>Exp1</td>\n",
              "      <td>sub-012</td>\n",
              "      <td>504</td>\n",
              "    </tr>\n",
              "    <tr>\n",
              "      <th>2</th>\n",
              "      <td>3</td>\n",
              "      <td>PS</td>\n",
              "      <td>0</td>\n",
              "      <td>Exp1</td>\n",
              "      <td>sub-012</td>\n",
              "      <td>636</td>\n",
              "    </tr>\n",
              "    <tr>\n",
              "      <th>3</th>\n",
              "      <td>4</td>\n",
              "      <td>PS</td>\n",
              "      <td>1</td>\n",
              "      <td>Exp1</td>\n",
              "      <td>sub-012</td>\n",
              "      <td>1008</td>\n",
              "    </tr>\n",
              "    <tr>\n",
              "      <th>4</th>\n",
              "      <td>5</td>\n",
              "      <td>PS</td>\n",
              "      <td>1</td>\n",
              "      <td>Exp1</td>\n",
              "      <td>sub-012</td>\n",
              "      <td>1600</td>\n",
              "    </tr>\n",
              "  </tbody>\n",
              "</table>\n",
              "</div>"
            ],
            "text/plain": [
              "   Unnamed: 0 cond  RP   Exp  SubName  targetDur\n",
              "0           1   PS   0  Exp1  sub-012        400\n",
              "1           2   PS   0  Exp1  sub-012        504\n",
              "2           3   PS   0  Exp1  sub-012        636\n",
              "3           4   PS   1  Exp1  sub-012       1008\n",
              "4           5   PS   1  Exp1  sub-012       1600"
            ]
          },
          "execution_count": 55,
          "metadata": {},
          "output_type": "execute_result"
        }
      ],
      "source": [
        "pd.options.mode.chained_assignment=None\n",
        "# import data\n",
        "# raw data from github\n",
        "raw = pd.read_csv('https://gin.g-node.org/msense/EEG_bisection/raw/master/derivates/data/allData_exp1_beh.csv')\n",
        "raw.head()"
      ]
    },
    {
      "cell_type": "markdown",
      "metadata": {
        "id": "7gwEK4Vf2s6S"
      },
      "source": [
        "### Step 2: pivot table of Long Responses\n",
        "\n",
        "Using `signifit` requires pivot table of 'correct' (long) responses for each condition. You should get similar tables as shown below:  "
      ]
    },
    {
      "cell_type": "markdown",
      "metadata": {
        "id": "8Umql4dN2s6S"
      },
      "source": [
        "The data show two manipulated conditions: Positive Skew (PS) and Negative Skew (NS) sampled durations. The target duration (targetDur) ranged from 400 ms to 1600 ms. 'Long' responses were coded in the column `RP`, and subject ID in `SubName`."
      ]
    },
    {
      "cell_type": "code",
      "execution_count": null,
      "metadata": {
        "id": "WPPExhns2s6S",
        "outputId": "917e994c-c3cf-4335-ddc4-e2e9348fbfc1"
      },
      "outputs": [
        {
          "data": {
            "text/html": [
              "<div>\n",
              "<style scoped>\n",
              "    .dataframe tbody tr th:only-of-type {\n",
              "        vertical-align: middle;\n",
              "    }\n",
              "\n",
              "    .dataframe tbody tr th {\n",
              "        vertical-align: top;\n",
              "    }\n",
              "\n",
              "    .dataframe thead th {\n",
              "        text-align: right;\n",
              "    }\n",
              "</style>\n",
              "<table border=\"1\" class=\"dataframe\">\n",
              "  <thead>\n",
              "    <tr style=\"text-align: right;\">\n",
              "      <th></th>\n",
              "      <th>subj</th>\n",
              "      <th>condition</th>\n",
              "      <th>duration</th>\n",
              "      <th>Long</th>\n",
              "      <th>total</th>\n",
              "    </tr>\n",
              "  </thead>\n",
              "  <tbody>\n",
              "    <tr>\n",
              "      <th>0</th>\n",
              "      <td>sub-001</td>\n",
              "      <td>NS</td>\n",
              "      <td>400</td>\n",
              "      <td>8</td>\n",
              "      <td>96</td>\n",
              "    </tr>\n",
              "    <tr>\n",
              "      <th>1</th>\n",
              "      <td>sub-001</td>\n",
              "      <td>NS</td>\n",
              "      <td>730</td>\n",
              "      <td>40</td>\n",
              "      <td>96</td>\n",
              "    </tr>\n",
              "    <tr>\n",
              "      <th>2</th>\n",
              "      <td>sub-001</td>\n",
              "      <td>NS</td>\n",
              "      <td>992</td>\n",
              "      <td>67</td>\n",
              "      <td>96</td>\n",
              "    </tr>\n",
              "    <tr>\n",
              "      <th>3</th>\n",
              "      <td>sub-001</td>\n",
              "      <td>NS</td>\n",
              "      <td>1200</td>\n",
              "      <td>86</td>\n",
              "      <td>96</td>\n",
              "    </tr>\n",
              "    <tr>\n",
              "      <th>4</th>\n",
              "      <td>sub-001</td>\n",
              "      <td>NS</td>\n",
              "      <td>1366</td>\n",
              "      <td>88</td>\n",
              "      <td>96</td>\n",
              "    </tr>\n",
              "  </tbody>\n",
              "</table>\n",
              "</div>"
            ],
            "text/plain": [
              "      subj condition  duration  Long  total\n",
              "0  sub-001        NS       400     8     96\n",
              "1  sub-001        NS       730    40     96\n",
              "2  sub-001        NS       992    67     96\n",
              "3  sub-001        NS      1200    86     96\n",
              "4  sub-001        NS      1366    88     96"
            ]
          },
          "execution_count": 56,
          "metadata": {},
          "output_type": "execute_result"
        }
      ],
      "source": [
        "# your task is to form a table similar to the below, say you store in thresholds_df"
      ]
    },
    {
      "cell_type": "markdown",
      "metadata": {
        "id": "givxNNaz2s6S"
      },
      "source": [
        "### Step 3: estimate psychometric functions\n",
        "\n",
        "For each condition each participant, you need to estimate the threshold (PSE) and JND.\n",
        "\n",
        "Tips: suppose you obtain a results from psignifit as `res`, you can get the threshold using `res.parameter_estimate['threshold']` for the PSE.\n",
        "Additionally, we can get a threshold at any points. Recall that the JND = (Threshold_0.75 - Threshold_0.25)/2, we can use the following code to estimate the JND:\n",
        "\n",
        "```python\n",
        "low, CI = res.threshold(0.25, unscaled = True)\n",
        "high, CI = res.threshold(0.75, unscaled = True)\n",
        "JND = (high-low)/2\n",
        "```\n"
      ]
    },
    {
      "cell_type": "code",
      "execution_count": null,
      "metadata": {
        "id": "F6Tv2D6C2s6S",
        "outputId": "5ca7188b-0849-4a48-ac1f-6eff997e6e4a"
      },
      "outputs": [
        {
          "data": {
            "text/html": [
              "<div>\n",
              "<style scoped>\n",
              "    .dataframe tbody tr th:only-of-type {\n",
              "        vertical-align: middle;\n",
              "    }\n",
              "\n",
              "    .dataframe tbody tr th {\n",
              "        vertical-align: top;\n",
              "    }\n",
              "\n",
              "    .dataframe thead th {\n",
              "        text-align: right;\n",
              "    }\n",
              "</style>\n",
              "<table border=\"1\" class=\"dataframe\">\n",
              "  <thead>\n",
              "    <tr style=\"text-align: right;\">\n",
              "      <th></th>\n",
              "      <th>subj</th>\n",
              "      <th>context</th>\n",
              "      <th>threshold</th>\n",
              "      <th>jnd</th>\n",
              "    </tr>\n",
              "  </thead>\n",
              "  <tbody>\n",
              "    <tr>\n",
              "      <th>0</th>\n",
              "      <td>sub-001</td>\n",
              "      <td>NS</td>\n",
              "      <td>790.749348</td>\n",
              "      <td>190.557888</td>\n",
              "    </tr>\n",
              "    <tr>\n",
              "      <th>1</th>\n",
              "      <td>sub-001</td>\n",
              "      <td>PS</td>\n",
              "      <td>617.887938</td>\n",
              "      <td>174.712131</td>\n",
              "    </tr>\n",
              "    <tr>\n",
              "      <th>2</th>\n",
              "      <td>sub-002</td>\n",
              "      <td>NS</td>\n",
              "      <td>992.802512</td>\n",
              "      <td>134.640442</td>\n",
              "    </tr>\n",
              "    <tr>\n",
              "      <th>3</th>\n",
              "      <td>sub-002</td>\n",
              "      <td>PS</td>\n",
              "      <td>991.165315</td>\n",
              "      <td>179.951882</td>\n",
              "    </tr>\n",
              "    <tr>\n",
              "      <th>4</th>\n",
              "      <td>sub-003</td>\n",
              "      <td>NS</td>\n",
              "      <td>1528.942196</td>\n",
              "      <td>150.481332</td>\n",
              "    </tr>\n",
              "  </tbody>\n",
              "</table>\n",
              "</div>"
            ],
            "text/plain": [
              "      subj context    threshold         jnd\n",
              "0  sub-001      NS   790.749348  190.557888\n",
              "1  sub-001      PS   617.887938  174.712131\n",
              "2  sub-002      NS   992.802512  134.640442\n",
              "3  sub-002      PS   991.165315  179.951882\n",
              "4  sub-003      NS  1528.942196  150.481332"
            ]
          },
          "execution_count": 79,
          "metadata": {},
          "output_type": "execute_result"
        }
      ],
      "source": [
        "# your task is to estimate thresholds and jnd and store in a table like the below"
      ]
    },
    {
      "cell_type": "markdown",
      "metadata": {
        "id": "GamOK8Kd2s6S"
      },
      "source": [
        "### Step 4. Visualize the average psychometric functions, PSEs, JNDs\n",
        "\n",
        "Your task is to replicate the original Figure 2."
      ]
    },
    {
      "cell_type": "code",
      "execution_count": null,
      "metadata": {
        "id": "TfGHLWuL2s6S"
      },
      "outputs": [],
      "source": [
        "# first estimate two psychometric function results, say res_ps and res_ns\n"
      ]
    },
    {
      "cell_type": "code",
      "execution_count": null,
      "metadata": {
        "id": "xBE34Un22s6S",
        "outputId": "09f87ded-5e8a-46d6-b0d4-951c41536cc3"
      },
      "outputs": [
        {
          "data": {
            "image/png": "[encoded data removed]",
            "text/plain": [
              "<Figure size 350x350 with 1 Axes>"
            ]
          },
          "metadata": {},
          "output_type": "display_data"
        },
        {
          "data": {
            "image/png": "[encoded data removed]",
            "text/plain": [
              "<Figure size 700x350 with 2 Axes>"
            ]
          },
          "metadata": {},
          "output_type": "display_data"
        }
      ],
      "source": [
        "# next visualize res_ps and res_ps for subplot 1\n",
        "fig, ax1 = plt.subplots(1, 1, figsize = (3.5,3.5))\n",
        "#plot the psychometric functions from above res_ps and res_ns\n",
        "# Fix me here\n",
        "\n",
        "# display the plots\n",
        "plt.tight_layout()\n",
        "plt.show()\n",
        "\n",
        "# then plot the thresholds and JNDs from thresholds_df\n",
        "fig, (ax2, ax3) = plt.subplots(1,2, figsize = (7, 3.5))\n",
        "# boxplot for thresholds\n",
        "\n",
        "#Fix ME\n",
        "\n",
        "# boxplot for JNDs\n",
        "#Fix me\n",
        "\n",
        "# display the plots\n",
        "plt.tight_layout()\n",
        "plt.show()"
      ]
    },
    {
      "cell_type": "code",
      "execution_count": null,
      "metadata": {
        "id": "0hADIDzk2s6S",
        "outputId": "ebc10c27-bb67-4857-a2d0-22537a675c40"
      },
      "outputs": [
        {
          "data": {
            "text/html": [
              "<div>\n",
              "<style scoped>\n",
              "    .dataframe tbody tr th:only-of-type {\n",
              "        vertical-align: middle;\n",
              "    }\n",
              "\n",
              "    .dataframe tbody tr th {\n",
              "        vertical-align: top;\n",
              "    }\n",
              "\n",
              "    .dataframe thead th {\n",
              "        text-align: right;\n",
              "    }\n",
              "</style>\n",
              "<table border=\"1\" class=\"dataframe\">\n",
              "  <thead>\n",
              "    <tr style=\"text-align: right;\">\n",
              "      <th></th>\n",
              "      <th>Contrast</th>\n",
              "      <th>A</th>\n",
              "      <th>B</th>\n",
              "      <th>Paired</th>\n",
              "      <th>Parametric</th>\n",
              "      <th>T</th>\n",
              "      <th>dof</th>\n",
              "      <th>alternative</th>\n",
              "      <th>p-unc</th>\n",
              "      <th>BF10</th>\n",
              "      <th>hedges</th>\n",
              "    </tr>\n",
              "  </thead>\n",
              "  <tbody>\n",
              "    <tr>\n",
              "      <th>0</th>\n",
              "      <td>context</td>\n",
              "      <td>NS</td>\n",
              "      <td>PS</td>\n",
              "      <td>True</td>\n",
              "      <td>True</td>\n",
              "      <td>2.909891</td>\n",
              "      <td>18.0</td>\n",
              "      <td>two-sided</td>\n",
              "      <td>0.009344</td>\n",
              "      <td>5.505</td>\n",
              "      <td>0.383116</td>\n",
              "    </tr>\n",
              "  </tbody>\n",
              "</table>\n",
              "</div>"
            ],
            "text/plain": [
              "  Contrast   A   B  Paired  Parametric         T   dof alternative     p-unc  \\\n",
              "0  context  NS  PS    True        True  2.909891  18.0   two-sided  0.009344   \n",
              "\n",
              "    BF10    hedges  \n",
              "0  5.505  0.383116  "
            ]
          },
          "execution_count": 113,
          "metadata": {},
          "output_type": "execute_result"
        }
      ],
      "source": [
        "import pingouin as pg\n",
        "\n",
        "# next do pairwise test for threshold\n",
        "# Fix me\n"
      ]
    },
    {
      "cell_type": "code",
      "execution_count": null,
      "metadata": {
        "id": "DT8-mhqL2s6S",
        "outputId": "dfea098a-b1e7-463b-8b8c-7efc68962eab"
      },
      "outputs": [
        {
          "data": {
            "text/html": [
              "<div>\n",
              "<style scoped>\n",
              "    .dataframe tbody tr th:only-of-type {\n",
              "        vertical-align: middle;\n",
              "    }\n",
              "\n",
              "    .dataframe tbody tr th {\n",
              "        vertical-align: top;\n",
              "    }\n",
              "\n",
              "    .dataframe thead th {\n",
              "        text-align: right;\n",
              "    }\n",
              "</style>\n",
              "<table border=\"1\" class=\"dataframe\">\n",
              "  <thead>\n",
              "    <tr style=\"text-align: right;\">\n",
              "      <th></th>\n",
              "      <th>Contrast</th>\n",
              "      <th>A</th>\n",
              "      <th>B</th>\n",
              "      <th>Paired</th>\n",
              "      <th>Parametric</th>\n",
              "      <th>T</th>\n",
              "      <th>dof</th>\n",
              "      <th>alternative</th>\n",
              "      <th>p-unc</th>\n",
              "      <th>BF10</th>\n",
              "      <th>hedges</th>\n",
              "    </tr>\n",
              "  </thead>\n",
              "  <tbody>\n",
              "    <tr>\n",
              "      <th>0</th>\n",
              "      <td>context</td>\n",
              "      <td>NS</td>\n",
              "      <td>PS</td>\n",
              "      <td>True</td>\n",
              "      <td>True</td>\n",
              "      <td>1.178502</td>\n",
              "      <td>18.0</td>\n",
              "      <td>two-sided</td>\n",
              "      <td>0.253942</td>\n",
              "      <td>0.435</td>\n",
              "      <td>0.14607</td>\n",
              "    </tr>\n",
              "  </tbody>\n",
              "</table>\n",
              "</div>"
            ],
            "text/plain": [
              "  Contrast   A   B  Paired  Parametric         T   dof alternative     p-unc  \\\n",
              "0  context  NS  PS    True        True  1.178502  18.0   two-sided  0.253942   \n",
              "\n",
              "    BF10   hedges  \n",
              "0  0.435  0.14607  "
            ]
          },
          "execution_count": 114,
          "metadata": {},
          "output_type": "execute_result"
        }
      ],
      "source": [
        "# Fix me: pairwise t-test for JND"
      ]
    }
  ],
  "metadata": {
    "colab": {
      "provenance": [],
      "include_colab_link": true
    },
    "kernelspec": {
      "display_name": "base",
      "language": "python",
      "name": "python3"
    },
    "language_info": {
      "codemirror_mode": {
        "name": "ipython",
        "version": 3
      },
      "file_extension": ".py",
      "mimetype": "text/x-python",
      "name": "python",
      "nbconvert_exporter": "python",
      "pygments_lexer": "ipython3",
      "version": "3.11.7"
    }
  },
  "nbformat": 4,
  "nbformat_minor": 0
}