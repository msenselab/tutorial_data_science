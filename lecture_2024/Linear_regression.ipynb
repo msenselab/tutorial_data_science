{
 "cells": [
  {
   "cell_type": "markdown",
   "metadata": {
    "id": "MeQmkNMRNnMo"
   },
   "source": [
    "# Linear regression for computational neuroscience\n",
    "\n",
    "Z. Shi (2024)\n",
    "\n",
    "In neurobiological modeling, we often work with arrays of variables. For instance, these arrays can represent the activities of all neurons in a network at a specific time, the firing rates of neurons during various small time intervals, or the weights of all synapses affecting a postsynaptic cell. The most suitable way to describe and analyze the behavior of these arrays is through the language of vectors and matrices."
   ]
  },
  {
   "cell_type": "markdown",
   "metadata": {
    "id": "tfV0qv5WNTwY"
   },
   "source": [
    "## Matrix and Vector (Optional)\n",
    "\n",
    "There are several arithmetic operations defined on vectors and matrices."
   ]
  },
  {
   "cell_type": "code",
   "execution_count": 3,
   "metadata": {
    "colab": {
     "base_uri": "https://localhost:8080/"
    },
    "id": "jYEkkZ1GNoqD",
    "outputId": "d0b13af7-5b6d-4823-effc-e63ec052b9ff"
   },
   "outputs": [
    {
     "name": "stdout",
     "output_type": "stream",
     "text": [
      "[3 6 9]\n",
      "[-3 -3 -3]\n"
     ]
    }
   ],
   "source": [
    "import numpy as np\n",
    "\n",
    "a = np.array([1,2,3])\n",
    "b = np.array([4,5,6])\n",
    "print(3*a)\n",
    "print(a - b)\n"
   ]
  },
  {
   "cell_type": "code",
   "execution_count": 4,
   "metadata": {
    "colab": {
     "base_uri": "https://localhost:8080/",
     "height": 272
    },
    "id": "6N4a4PD3_TnQ",
    "outputId": "4c524ffd-779d-4536-f48e-09e7da3ba8e2"
   },
   "outputs": [
    {
     "name": "stdout",
     "output_type": "stream",
     "text": [
      "[[0.28221499 0.53825175 0.43595973]\n",
      " [0.34342708 0.38806844 0.55377176]]\n",
      "[[0.20735471 0.7348756  0.61477561]\n",
      " [0.76100155 0.13661949 0.69195585]]\n",
      "[[0.4895697  1.27312735 1.05073534]\n",
      " [1.10442863 0.52468793 1.24572761]]\n"
     ]
    }
   ],
   "source": [
    "x = np.random.random((2,3))\n",
    "y = np.random.random((2,3))\n",
    "print(x)\n",
    "print(y)\n",
    "print(x+y)"
   ]
  },
  {
   "cell_type": "markdown",
   "metadata": {
    "id": "1iqIXpHyQ24H"
   },
   "source": [
    "#### Broadcasting\n",
    "\n",
    "Broadcasting is a powerful mechanism that allows numpy to work with arrays of different shapes when performing arithmetic operations. \n",
    "\n"
   ]
  },
  {
   "cell_type": "code",
   "execution_count": 7,
   "metadata": {
    "colab": {
     "base_uri": "https://localhost:8080/",
     "height": 85
    },
    "id": "8mQUMLvTRVa7",
    "outputId": "b2301475-3ec7-43ab-d8aa-c39ae79aed1b"
   },
   "outputs": [
    {
     "name": "stdout",
     "output_type": "stream",
     "text": [
      "(4, 3)\n",
      "(3,)\n"
     ]
    },
    {
     "data": {
      "text/plain": [
       "array([[-4.5, -4.5, -4.5],\n",
       "       [-1.5, -1.5, -1.5],\n",
       "       [ 1.5,  1.5,  1.5],\n",
       "       [ 4.5,  4.5,  4.5]])"
      ]
     },
     "execution_count": 7,
     "metadata": {},
     "output_type": "execute_result"
    }
   ],
   "source": [
    "x = np.array([[1,2,3], \n",
    "\t\t\t  [4,5,6], \n",
    "\t\t\t  [7,8,9], \n",
    "\t\t\t  [10, 11, 12]])\n",
    "print(x.shape)\n",
    "xm = np.mean(x, axis=0)\n",
    "print(xm.shape)\n",
    "x-xm"
   ]
  },
  {
   "cell_type": "markdown",
   "metadata": {
    "id": "IVLWkADD4aP3"
   },
   "source": [
    "### Multiplication\n",
    "\n",
    "There are three types of multiplications for matrices. \n",
    "\n",
    "1. __Matrix multiply__\n",
    "\n",
    "$$A_{m,n} B_{n,p} = \n",
    " \\begin{pmatrix}\n",
    "  a_{0,0} &  \\cdots & a_{0,n-1} \\\\\n",
    "  a_{1,0} &  \\cdots & a_{1,n-1} \\\\\n",
    "  \\vdots  &  \\ddots & \\vdots  \\\\\n",
    "  a_{m-1,1}  & \\cdots & a_{m-1,n-1} \n",
    " \\end{pmatrix} \\begin{pmatrix}\n",
    "  b_{0,0} &  \\cdots & b_{0,p-1} \\\\\n",
    "  b_{1,0} &  \\cdots & b_{1,p-1} \\\\\n",
    "  \\vdots  &  \\ddots & \\vdots  \\\\\n",
    "  b_{n-1,1}  & \\cdots & b_{n-1,p-1} \n",
    " \\end{pmatrix} \\\\\n",
    " = \\begin{pmatrix}\n",
    "  \\sum_j a_{0,j}b_{j,o} &  \\cdots & \\sum_j a_{m-1,j}b_{j,o} \\\\\n",
    "  \\sum_j a_{1,j}b_{j,o} &  \\cdots & \\sum_j a_{m-1,j}b_{j,1} \\\\\n",
    "  \\vdots  &  \\ddots & \\vdots  \\\\\n",
    "  \\sum_j a_{m-1,j}b_{j,o}  & \\cdots & \\sum_j a_{m-1,j}b_{j,p-1} \n",
    " \\end{pmatrix} $$"
   ]
  },
  {
   "cell_type": "code",
   "execution_count": 8,
   "metadata": {
    "colab": {
     "base_uri": "https://localhost:8080/",
     "height": 102
    },
    "id": "ufZ-9wRPN69T",
    "outputId": "9e4ac03f-9847-4c62-fdac-82d435839175"
   },
   "outputs": [],
   "source": [
    "X = np.array([[1,2,3],\n",
    "\t\t\t  [4,5,6]])\n",
    "Y = np.array([[7,8],\n",
    "\t\t\t  [9,10],\n",
    "\t\t\t  [11,12]])"
   ]
  },
  {
   "cell_type": "code",
   "execution_count": 9,
   "metadata": {
    "colab": {
     "base_uri": "https://localhost:8080/",
     "height": 51
    },
    "id": "DdLj-437N-Gu",
    "outputId": "f15b0050-06fd-4640-b58c-b25cb9af0e1e"
   },
   "outputs": [
    {
     "data": {
      "text/plain": [
       "array([[ 58,  64],\n",
       "       [139, 154]])"
      ]
     },
     "execution_count": 9,
     "metadata": {},
     "output_type": "execute_result"
    }
   ],
   "source": [
    "# multiple in python is X.dot(Y), or np.dot(X,Y)\n",
    "# please check the finnal output dimension!\n",
    "X.dot(Y)"
   ]
  },
  {
   "cell_type": "code",
   "execution_count": 10,
   "metadata": {
    "colab": {
     "base_uri": "https://localhost:8080/",
     "height": 68
    },
    "id": "Ueme2PLu7YbJ",
    "outputId": "64f1057a-eaab-4c3b-b6b2-609529838afa"
   },
   "outputs": [],
   "source": [
    "# Question: What is the output of Y.dot(X)?\n"
   ]
  },
  {
   "cell_type": "markdown",
   "metadata": {
    "id": "9ci2dl_r7kGD"
   },
   "source": [
    "__2. Inner Product__\n",
    "\n",
    "$X\\cdot Y = [x_{ij}*y_{ij}]$\n",
    "\n",
    "Note, inner product must be applied to the matrices with the __same dimension__!"
   ]
  },
  {
   "cell_type": "code",
   "execution_count": 11,
   "metadata": {
    "colab": {
     "base_uri": "https://localhost:8080/",
     "height": 51
    },
    "id": "epJVtfR08Eek",
    "outputId": "37b1b575-09a4-4f57-98d7-ad461b11eb31"
   },
   "outputs": [
    {
     "data": {
      "text/plain": [
       "array([[ 7, 18, 33],\n",
       "       [32, 50, 72]])"
      ]
     },
     "execution_count": 11,
     "metadata": {},
     "output_type": "execute_result"
    }
   ],
   "source": [
    "# please try to run X*Y, and see what is the output. \n",
    "\n",
    "X*Y.T "
   ]
  },
  {
   "cell_type": "markdown",
   "metadata": {
    "id": "zTR14SFq9f32"
   },
   "source": [
    "#### Example\n",
    "\n",
    "Suppose we have 4 neurons with initial values `[1, 2, 1, 2]` and they all send their signals to a postsynaptic cell with weights `[0.2, 0.3, 0.5, 0.6]`. The input received by the postsynaptic cell, denoted as `I`, will be:\n",
    "\n",
    "$I = \\sum(1,2,1,2) \\cdot (0.2,0.3,0.5,0.6) = (1,2,1,2) \n",
    "\\begin{pmatrix}0.2 \\\\ 0.3 \\\\ 0.5 \\\\ 0.6\\end{pmatrix}$"
   ]
  },
  {
   "cell_type": "code",
   "execution_count": 12,
   "metadata": {
    "colab": {
     "base_uri": "https://localhost:8080/",
     "height": 34
    },
    "id": "qPeOYeyp8ZbH",
    "outputId": "ec585eee-5ebd-4fbd-c42f-8aaec82a51e3"
   },
   "outputs": [
    {
     "name": "stdout",
     "output_type": "stream",
     "text": [
      "2.5\n"
     ]
    }
   ],
   "source": [
    "# implementation\n",
    "neurons = np.array([1,2,1,2])\n",
    "weights = np.array([0.2, 0.3, 0.5, 0.6])\n",
    "I = np.sum(neurons*weights)\n",
    "print(I)"
   ]
  },
  {
   "cell_type": "code",
   "execution_count": 13,
   "metadata": {
    "colab": {
     "base_uri": "https://localhost:8080/",
     "height": 34
    },
    "id": "qwN_GrAl-T0E",
    "outputId": "7822cab1-4af7-4653-d2c1-b701a2e7cc56"
   },
   "outputs": [
    {
     "data": {
      "text/plain": [
       "2.5"
      ]
     },
     "execution_count": 13,
     "metadata": {},
     "output_type": "execute_result"
    }
   ],
   "source": [
    "# alternative implementation using matrix\n",
    "np.inner(weights, neurons)"
   ]
  },
  {
   "cell_type": "markdown",
   "metadata": {
    "id": "2hJGbnClAB0R"
   },
   "source": [
    "__3. Outer product__\n",
    "\n",
    "please try yourself to see what the output of $neurons^T\\cdot weights$ is. "
   ]
  },
  {
   "cell_type": "code",
   "execution_count": 14,
   "metadata": {
    "colab": {
     "base_uri": "https://localhost:8080/",
     "height": 85
    },
    "id": "Wh54N0k4Amvv",
    "outputId": "961d5c13-cdc8-4767-a437-31003a55bb5b"
   },
   "outputs": [
    {
     "data": {
      "text/plain": [
       "array([[0.2, 0.4, 0.2, 0.4],\n",
       "       [0.3, 0.6, 0.3, 0.6],\n",
       "       [0.5, 1. , 0.5, 1. ],\n",
       "       [0.6, 1.2, 0.6, 1.2]])"
      ]
     },
     "execution_count": 14,
     "metadata": {},
     "output_type": "execute_result"
    }
   ],
   "source": [
    "# \n",
    "np.outer(weights, neurons)"
   ]
  },
  {
   "cell_type": "markdown",
   "metadata": {
    "id": "C8rQ9k2D7fcT"
   },
   "source": [
    "## 1. Simple Linear Regression\n",
    "\n",
    "Linear regression aims to establish a relationship between the output $y$ and the input $X$ in a linear manner. Mathematically, if $\\hat{y}$ represents the predicted value, the relationship can be expressed as:\n",
    "\n",
    "$$\\hat{y}(w, x) = w_0 + w_1 x_1 + ... + w_p x_p$$\n",
    "\n",
    "Here, the vector $w = (w_1,..., w_p)$ represents the coefficients (`coef_`), and $w_0$ represents the intercept (`intercept_`).\n",
    "\n",
    "`LinearRegression` fits a linear model with coefficients $w = (w_0, ..., w_p)$ to minimize the residual sum of squares between the observed targets in the dataset and the targets predicted by the linear approximation. Mathematically, it solves the following problem:\n",
    "\n",
    "$$ \\min_{w} || X w - y||_2^2$$\n",
    "\n",
    "![alt text](https://scikit-learn.org/stable/_images/sphx_glr_plot_ols_001.png)\n",
    "\n",
    "### 5 Steps for Linear Regression\n",
    "\n",
    "1. Import necessary packages\n",
    "2. Provide the data\n",
    "3. Create a regression model and fit it with the existing data\n",
    "4. Evaluate the model's performance (goodness of fit)\n",
    "5. Use the model for making predictions\n",
    "\n"
   ]
  },
  {
   "cell_type": "markdown",
   "metadata": {
    "id": "u_3BXgH2-no9"
   },
   "source": [
    "### Linear Regression using `statsmodels`\n",
    "\n",
    "`statsmodels` offers extensive statistical models, tests, and data exploration tools, providing more detailed statistics.\n",
    "\n",
    "`pingouin` also supports simple linear regression.\n"
   ]
  },
  {
   "cell_type": "code",
   "execution_count": null,
   "metadata": {
    "id": "mFm_9v6NVxhj"
   },
   "outputs": [],
   "source": [
    "!pip install pingouin"
   ]
  },
  {
   "cell_type": "code",
   "execution_count": 16,
   "metadata": {
    "id": "DJisCGov_Fg6"
   },
   "outputs": [],
   "source": [
    "import numpy as np\n",
    "import pandas as pd\n",
    "import seaborn as sns\n",
    "import matplotlib.pyplot as plt\n",
    "\n",
    "import statsmodels.api as sm\n",
    "import statsmodels.formula.api as smf\n",
    "import pingouin as pg\n",
    "%matplotlib inline"
   ]
  },
  {
   "cell_type": "markdown",
   "metadata": {
    "id": "qpQhPfkhWT4z"
   },
   "source": [
    "Let's use this [dataset][sdata], which contains the salary and experience data. We'll explore the data and perform linear regression to understand the relationship between years of experience and salary.\n",
    "\n",
    "[sdata]: https://raw.githubusercontent.com/contactsunny/data-science-examples/master/salaryData.csv"
   ]
  },
  {
   "cell_type": "code",
   "execution_count": 17,
   "metadata": {
    "colab": {
     "base_uri": "https://localhost:8080/",
     "height": 206
    },
    "id": "sDxRcTiAWbr3",
    "outputId": "ffffcca2-fd7b-440a-f042-7e8d4f4e46ef"
   },
   "outputs": [
    {
     "data": {
      "text/html": [
       "<div>\n",
       "<style scoped>\n",
       "    .dataframe tbody tr th:only-of-type {\n",
       "        vertical-align: middle;\n",
       "    }\n",
       "\n",
       "    .dataframe tbody tr th {\n",
       "        vertical-align: top;\n",
       "    }\n",
       "\n",
       "    .dataframe thead th {\n",
       "        text-align: right;\n",
       "    }\n",
       "</style>\n",
       "<table border=\"1\" class=\"dataframe\">\n",
       "  <thead>\n",
       "    <tr style=\"text-align: right;\">\n",
       "      <th></th>\n",
       "      <th>YearsExperience</th>\n",
       "      <th>Salary</th>\n",
       "    </tr>\n",
       "  </thead>\n",
       "  <tbody>\n",
       "    <tr>\n",
       "      <th>25</th>\n",
       "      <td>9.0</td>\n",
       "      <td>105582.0</td>\n",
       "    </tr>\n",
       "    <tr>\n",
       "      <th>26</th>\n",
       "      <td>9.5</td>\n",
       "      <td>116969.0</td>\n",
       "    </tr>\n",
       "    <tr>\n",
       "      <th>27</th>\n",
       "      <td>9.6</td>\n",
       "      <td>112635.0</td>\n",
       "    </tr>\n",
       "    <tr>\n",
       "      <th>28</th>\n",
       "      <td>10.3</td>\n",
       "      <td>122391.0</td>\n",
       "    </tr>\n",
       "    <tr>\n",
       "      <th>29</th>\n",
       "      <td>10.5</td>\n",
       "      <td>121872.0</td>\n",
       "    </tr>\n",
       "  </tbody>\n",
       "</table>\n",
       "</div>"
      ],
      "text/plain": [
       "    YearsExperience    Salary\n",
       "25              9.0  105582.0\n",
       "26              9.5  116969.0\n",
       "27              9.6  112635.0\n",
       "28             10.3  122391.0\n",
       "29             10.5  121872.0"
      ]
     },
     "execution_count": 17,
     "metadata": {},
     "output_type": "execute_result"
    }
   ],
   "source": [
    "# import csv file using pandas.read_csv\n",
    "dataset = pd.read_csv('https://raw.githubusercontent.com/contactsunny/data-science-examples/master/salaryData.csv')\n",
    "\n",
    "dataset.tail()"
   ]
  },
  {
   "cell_type": "markdown",
   "metadata": {},
   "source": [
    "Seaborn `lmplot` provides a convenient interface to visualize the relationship between two variables."
   ]
  },
  {
   "cell_type": "code",
   "execution_count": 18,
   "metadata": {
    "colab": {
     "base_uri": "https://localhost:8080/",
     "height": 387
    },
    "id": "E2L5vej5WoZf",
    "outputId": "e4a5b229-0a8f-47a5-d42c-10bfc349c482"
   },
   "outputs": [
    {
     "data": {
      "text/plain": [
       "<seaborn.axisgrid.FacetGrid at 0x1762cf250>"
      ]
     },
     "execution_count": 18,
     "metadata": {},
     "output_type": "execute_result"
    },
    {
     "data": {
      "image/png": "[encoded data removed]",
      "text/plain": [
       "<Figure size 500x500 with 1 Axes>"
      ]
     },
     "metadata": {},
     "output_type": "display_data"
    }
   ],
   "source": [
    "sns.lmplot(data = dataset, x = 'YearsExperience', y = 'Salary')"
   ]
  },
  {
   "cell_type": "markdown",
   "metadata": {
    "id": "v8VlZS6gCnrp"
   },
   "source": [
    "In `statsmodels`, linear regression is referred to as 'Ordinary Least Squares' (OLS). There are other types of linear regression models available, such as Generalized Least Squares, Weighted Least Squares, and Linear Mixed Effects Models, which we will not cover here. For more information on these models, please refer to [the official website](https://www.statsmodels.org/dev/examples/index.html#linear-regression-models).\n",
    "\n",
    "There are two ways to perform regression:\n",
    "\n",
    "1. Using Numpy arrays\n",
    "2. Using Pandas DataFrame with formulas"
   ]
  },
  {
   "cell_type": "code",
   "execution_count": 19,
   "metadata": {
    "colab": {
     "base_uri": "https://localhost:8080/",
     "height": 451
    },
    "id": "raW5O1l3AO21",
    "outputId": "a91c1ffa-0bb8-4815-cb42-aae63766f134"
   },
   "outputs": [
    {
     "data": {
      "text/html": [
       "<table class=\"simpletable\">\n",
       "<caption>OLS Regression Results</caption>\n",
       "<tr>\n",
       "  <th>Dep. Variable:</th>         <td>Salary</td>      <th>  R-squared:         </th> <td>   0.957</td>\n",
       "</tr>\n",
       "<tr>\n",
       "  <th>Model:</th>                   <td>OLS</td>       <th>  Adj. R-squared:    </th> <td>   0.955</td>\n",
       "</tr>\n",
       "<tr>\n",
       "  <th>Method:</th>             <td>Least Squares</td>  <th>  F-statistic:       </th> <td>   622.5</td>\n",
       "</tr>\n",
       "<tr>\n",
       "  <th>Date:</th>             <td>Sun, 10 Nov 2024</td> <th>  Prob (F-statistic):</th> <td>1.14e-20</td>\n",
       "</tr>\n",
       "<tr>\n",
       "  <th>Time:</th>                 <td>16:04:17</td>     <th>  Log-Likelihood:    </th> <td> -301.44</td>\n",
       "</tr>\n",
       "<tr>\n",
       "  <th>No. Observations:</th>      <td>    30</td>      <th>  AIC:               </th> <td>   606.9</td>\n",
       "</tr>\n",
       "<tr>\n",
       "  <th>Df Residuals:</th>          <td>    28</td>      <th>  BIC:               </th> <td>   609.7</td>\n",
       "</tr>\n",
       "<tr>\n",
       "  <th>Df Model:</th>              <td>     1</td>      <th>                     </th>     <td> </td>   \n",
       "</tr>\n",
       "<tr>\n",
       "  <th>Covariance Type:</th>      <td>nonrobust</td>    <th>                     </th>     <td> </td>   \n",
       "</tr>\n",
       "</table>\n",
       "<table class=\"simpletable\">\n",
       "<tr>\n",
       "         <td></td>            <th>coef</th>     <th>std err</th>      <th>t</th>      <th>P>|t|</th>  <th>[0.025</th>    <th>0.975]</th>  \n",
       "</tr>\n",
       "<tr>\n",
       "  <th>const</th>           <td> 2.579e+04</td> <td> 2273.053</td> <td>   11.347</td> <td> 0.000</td> <td> 2.11e+04</td> <td> 3.04e+04</td>\n",
       "</tr>\n",
       "<tr>\n",
       "  <th>YearsExperience</th> <td> 9449.9623</td> <td>  378.755</td> <td>   24.950</td> <td> 0.000</td> <td> 8674.119</td> <td> 1.02e+04</td>\n",
       "</tr>\n",
       "</table>\n",
       "<table class=\"simpletable\">\n",
       "<tr>\n",
       "  <th>Omnibus:</th>       <td> 2.140</td> <th>  Durbin-Watson:     </th> <td>   1.648</td>\n",
       "</tr>\n",
       "<tr>\n",
       "  <th>Prob(Omnibus):</th> <td> 0.343</td> <th>  Jarque-Bera (JB):  </th> <td>   1.569</td>\n",
       "</tr>\n",
       "<tr>\n",
       "  <th>Skew:</th>          <td> 0.363</td> <th>  Prob(JB):          </th> <td>   0.456</td>\n",
       "</tr>\n",
       "<tr>\n",
       "  <th>Kurtosis:</th>      <td> 2.147</td> <th>  Cond. No.          </th> <td>    13.2</td>\n",
       "</tr>\n",
       "</table><br/><br/>Notes:<br/>[1] Standard Errors assume that the covariance matrix of the errors is correctly specified."
      ],
      "text/latex": [
       "\\begin{center}\n",
       "\\begin{tabular}{lclc}\n",
       "\\toprule\n",
       "\\textbf{Dep. Variable:}    &      Salary      & \\textbf{  R-squared:         } &     0.957   \\\\\n",
       "\\textbf{Model:}            &       OLS        & \\textbf{  Adj. R-squared:    } &     0.955   \\\\\n",
       "\\textbf{Method:}           &  Least Squares   & \\textbf{  F-statistic:       } &     622.5   \\\\\n",
       "\\textbf{Date:}             & Sun, 10 Nov 2024 & \\textbf{  Prob (F-statistic):} &  1.14e-20   \\\\\n",
       "\\textbf{Time:}             &     16:04:17     & \\textbf{  Log-Likelihood:    } &   -301.44   \\\\\n",
       "\\textbf{No. Observations:} &          30      & \\textbf{  AIC:               } &     606.9   \\\\\n",
       "\\textbf{Df Residuals:}     &          28      & \\textbf{  BIC:               } &     609.7   \\\\\n",
       "\\textbf{Df Model:}         &           1      & \\textbf{                     } &             \\\\\n",
       "\\textbf{Covariance Type:}  &    nonrobust     & \\textbf{                     } &             \\\\\n",
       "\\bottomrule\n",
       "\\end{tabular}\n",
       "\\begin{tabular}{lcccccc}\n",
       "                         & \\textbf{coef} & \\textbf{std err} & \\textbf{t} & \\textbf{P$> |$t$|$} & \\textbf{[0.025} & \\textbf{0.975]}  \\\\\n",
       "\\midrule\n",
       "\\textbf{const}           &    2.579e+04  &     2273.053     &    11.347  &         0.000        &     2.11e+04    &     3.04e+04     \\\\\n",
       "\\textbf{YearsExperience} &    9449.9623  &      378.755     &    24.950  &         0.000        &     8674.119    &     1.02e+04     \\\\\n",
       "\\bottomrule\n",
       "\\end{tabular}\n",
       "\\begin{tabular}{lclc}\n",
       "\\textbf{Omnibus:}       &  2.140 & \\textbf{  Durbin-Watson:     } &    1.648  \\\\\n",
       "\\textbf{Prob(Omnibus):} &  0.343 & \\textbf{  Jarque-Bera (JB):  } &    1.569  \\\\\n",
       "\\textbf{Skew:}          &  0.363 & \\textbf{  Prob(JB):          } &    0.456  \\\\\n",
       "\\textbf{Kurtosis:}      &  2.147 & \\textbf{  Cond. No.          } &     13.2  \\\\\n",
       "\\bottomrule\n",
       "\\end{tabular}\n",
       "%\\caption{OLS Regression Results}\n",
       "\\end{center}\n",
       "\n",
       "Notes: \\newline\n",
       " [1] Standard Errors assume that the covariance matrix of the errors is correctly specified."
      ],
      "text/plain": [
       "<class 'statsmodels.iolib.summary.Summary'>\n",
       "\"\"\"\n",
       "                            OLS Regression Results                            \n",
       "==============================================================================\n",
       "Dep. Variable:                 Salary   R-squared:                       0.957\n",
       "Model:                            OLS   Adj. R-squared:                  0.955\n",
       "Method:                 Least Squares   F-statistic:                     622.5\n",
       "Date:                Sun, 10 Nov 2024   Prob (F-statistic):           1.14e-20\n",
       "Time:                        16:04:17   Log-Likelihood:                -301.44\n",
       "No. Observations:                  30   AIC:                             606.9\n",
       "Df Residuals:                      28   BIC:                             609.7\n",
       "Df Model:                           1                                         \n",
       "Covariance Type:            nonrobust                                         \n",
       "===================================================================================\n",
       "                      coef    std err          t      P>|t|      [0.025      0.975]\n",
       "-----------------------------------------------------------------------------------\n",
       "const            2.579e+04   2273.053     11.347      0.000    2.11e+04    3.04e+04\n",
       "YearsExperience  9449.9623    378.755     24.950      0.000    8674.119    1.02e+04\n",
       "==============================================================================\n",
       "Omnibus:                        2.140   Durbin-Watson:                   1.648\n",
       "Prob(Omnibus):                  0.343   Jarque-Bera (JB):                1.569\n",
       "Skew:                           0.363   Prob(JB):                        0.456\n",
       "Kurtosis:                       2.147   Cond. No.                         13.2\n",
       "==============================================================================\n",
       "\n",
       "Notes:\n",
       "[1] Standard Errors assume that the covariance matrix of the errors is correctly specified.\n",
       "\"\"\""
      ]
     },
     "execution_count": 19,
     "metadata": {},
     "output_type": "execute_result"
    }
   ],
   "source": [
    "# Method 1: Numpy arrays, you need to explicitly specify the column of constant\n",
    "Xc = sm.add_constant(dataset.YearsExperience)\n",
    "# linear model OLS\n",
    "model = sm.OLS(dataset.Salary,Xc).fit()\n",
    "model.summary()"
   ]
  },
  {
   "cell_type": "code",
   "execution_count": 11,
   "metadata": {
    "colab": {
     "base_uri": "https://localhost:8080/",
     "height": 451
    },
    "id": "Qmm-56OuXtCi",
    "outputId": "8c6459f5-ef04-4b94-ba61-a431a8d6939d"
   },
   "outputs": [
    {
     "data": {
      "text/html": [
       "<table class=\"simpletable\">\n",
       "<caption>OLS Regression Results</caption>\n",
       "<tr>\n",
       "  <th>Dep. Variable:</th>         <td>Salary</td>      <th>  R-squared:         </th> <td>   0.957</td>\n",
       "</tr>\n",
       "<tr>\n",
       "  <th>Model:</th>                   <td>OLS</td>       <th>  Adj. R-squared:    </th> <td>   0.955</td>\n",
       "</tr>\n",
       "<tr>\n",
       "  <th>Method:</th>             <td>Least Squares</td>  <th>  F-statistic:       </th> <td>   622.5</td>\n",
       "</tr>\n",
       "<tr>\n",
       "  <th>Date:</th>             <td>Tue, 23 Nov 2021</td> <th>  Prob (F-statistic):</th> <td>1.14e-20</td>\n",
       "</tr>\n",
       "<tr>\n",
       "  <th>Time:</th>                 <td>10:39:53</td>     <th>  Log-Likelihood:    </th> <td> -301.44</td>\n",
       "</tr>\n",
       "<tr>\n",
       "  <th>No. Observations:</th>      <td>    30</td>      <th>  AIC:               </th> <td>   606.9</td>\n",
       "</tr>\n",
       "<tr>\n",
       "  <th>Df Residuals:</th>          <td>    28</td>      <th>  BIC:               </th> <td>   609.7</td>\n",
       "</tr>\n",
       "<tr>\n",
       "  <th>Df Model:</th>              <td>     1</td>      <th>                     </th>     <td> </td>   \n",
       "</tr>\n",
       "<tr>\n",
       "  <th>Covariance Type:</th>      <td>nonrobust</td>    <th>                     </th>     <td> </td>   \n",
       "</tr>\n",
       "</table>\n",
       "<table class=\"simpletable\">\n",
       "<tr>\n",
       "         <td></td>            <th>coef</th>     <th>std err</th>      <th>t</th>      <th>P>|t|</th>  <th>[0.025</th>    <th>0.975]</th>  \n",
       "</tr>\n",
       "<tr>\n",
       "  <th>Intercept</th>       <td> 2.579e+04</td> <td> 2273.053</td> <td>   11.347</td> <td> 0.000</td> <td> 2.11e+04</td> <td> 3.04e+04</td>\n",
       "</tr>\n",
       "<tr>\n",
       "  <th>YearsExperience</th> <td> 9449.9623</td> <td>  378.755</td> <td>   24.950</td> <td> 0.000</td> <td> 8674.119</td> <td> 1.02e+04</td>\n",
       "</tr>\n",
       "</table>\n",
       "<table class=\"simpletable\">\n",
       "<tr>\n",
       "  <th>Omnibus:</th>       <td> 2.140</td> <th>  Durbin-Watson:     </th> <td>   1.648</td>\n",
       "</tr>\n",
       "<tr>\n",
       "  <th>Prob(Omnibus):</th> <td> 0.343</td> <th>  Jarque-Bera (JB):  </th> <td>   1.569</td>\n",
       "</tr>\n",
       "<tr>\n",
       "  <th>Skew:</th>          <td> 0.363</td> <th>  Prob(JB):          </th> <td>   0.456</td>\n",
       "</tr>\n",
       "<tr>\n",
       "  <th>Kurtosis:</th>      <td> 2.147</td> <th>  Cond. No.          </th> <td>    13.2</td>\n",
       "</tr>\n",
       "</table><br/><br/>Notes:<br/>[1] Standard Errors assume that the covariance matrix of the errors is correctly specified."
      ],
      "text/plain": [
       "<class 'statsmodels.iolib.summary.Summary'>\n",
       "\"\"\"\n",
       "                            OLS Regression Results                            \n",
       "==============================================================================\n",
       "Dep. Variable:                 Salary   R-squared:                       0.957\n",
       "Model:                            OLS   Adj. R-squared:                  0.955\n",
       "Method:                 Least Squares   F-statistic:                     622.5\n",
       "Date:                Tue, 23 Nov 2021   Prob (F-statistic):           1.14e-20\n",
       "Time:                        10:39:53   Log-Likelihood:                -301.44\n",
       "No. Observations:                  30   AIC:                             606.9\n",
       "Df Residuals:                      28   BIC:                             609.7\n",
       "Df Model:                           1                                         \n",
       "Covariance Type:            nonrobust                                         \n",
       "===================================================================================\n",
       "                      coef    std err          t      P>|t|      [0.025      0.975]\n",
       "-----------------------------------------------------------------------------------\n",
       "Intercept        2.579e+04   2273.053     11.347      0.000    2.11e+04    3.04e+04\n",
       "YearsExperience  9449.9623    378.755     24.950      0.000    8674.119    1.02e+04\n",
       "==============================================================================\n",
       "Omnibus:                        2.140   Durbin-Watson:                   1.648\n",
       "Prob(Omnibus):                  0.343   Jarque-Bera (JB):                1.569\n",
       "Skew:                           0.363   Prob(JB):                        0.456\n",
       "Kurtosis:                       2.147   Cond. No.                         13.2\n",
       "==============================================================================\n",
       "\n",
       "Notes:\n",
       "[1] Standard Errors assume that the covariance matrix of the errors is correctly specified.\n",
       "\"\"\""
      ]
     },
     "execution_count": 11,
     "metadata": {},
     "output_type": "execute_result"
    }
   ],
   "source": [
    "# Method 2: using formula\n",
    "model = smf.ols(formula = 'Salary ~ YearsExperience', data = dataset).fit()\n",
    "model.summary()"
   ]
  },
  {
   "cell_type": "markdown",
   "metadata": {
    "id": "t_zuNTBdYaeo"
   },
   "source": [
    "Both methods give the same results. The latter with formula is easier to understand. \n",
    "\n",
    "#### Introduction to Formulas with `statsmodels`\n",
    "\n",
    "In `statsmodels`, formulas provide a convenient way to specify statistical models using a string representation. The formula syntax is similar to R and allows you to define the relationship between the dependent and independent variables clearly.\n",
    "\n",
    "For example:\n",
    "- `y ~ x` specifies a simple linear regression with `y` as the dependent variable and `x` as the independent variable.\n",
    "- `y ~ x + z` specifies a multiple linear regression with `y` as the dependent variable and `x` and `z` as independent variables.\n",
    "- `y ~ x * z` includes both the main effects of `x` and `z` and their interaction term `x:z`.\n",
    "\n",
    "Using formulas can make the model specification more readable and easier to understand, especially when dealing with complex models."
   ]
  },
  {
   "cell_type": "markdown",
   "metadata": {
    "id": "rN0G5bmyTTQT"
   },
   "source": [
    "## 2. Multivariate linear regression\n",
    "\n",
    "Here we use our recently published multisensory contextual study to illustrate multivariate regression:\n",
    "\n",
    "Chen, S., Shi, Z., Müller, H. J., & Geyer, T. (2021). Multisensory visuo-tactile context learning enhances the guidance of unisensory visual search. Scientific Reports, 11(1), 9439. https://doi.org/10.1038/s41598-021-88946-6\n",
    "\n",
    "In this study, we compared multisensory learning in different configurations (Old vs. New) and different multisensory environments. The original study used hierarchical drift-diffusion model (HDDM) and partial pooling methods to estimate HDDM parameters, which is more complex than what we will do here.\n",
    "\n",
    "Here, we will demonstrate that behavioral data can also be estimated using simple linear regression to interpret the findings. \n",
    "\n",
    "#### data description\n",
    "\n",
    "- subj_idx: subject index\n",
    "- condition: multisensory condition (Visual vs. Tactile, Old vs. New)\n",
    "- epoch: learning epoch (1-8)\n",
    "- rt: reaction time"
   ]
  },
  {
   "cell_type": "code",
   "execution_count": 20,
   "metadata": {
    "colab": {
     "base_uri": "https://localhost:8080/",
     "height": 491
    },
    "id": "aNHo6hISh7qL",
    "outputId": "627d1757-5d27-459d-c0c7-440717819646"
   },
   "outputs": [
    {
     "data": {
      "text/plain": [
       "<seaborn.axisgrid.FacetGrid at 0x17e51f3d0>"
      ]
     },
     "execution_count": 20,
     "metadata": {},
     "output_type": "execute_result"
    },
    {
     "data": {
      "image/png": "[encoded data removed]",
      "text/plain": [
       "<Figure size 620.125x500 with 1 Axes>"
      ]
     },
     "metadata": {},
     "output_type": "display_data"
    }
   ],
   "source": [
    "# first load data and visualize it. \n",
    "data = pd.read_csv('https://osf.io/58wqy/download')\n",
    "mdata = data.groupby(['subj_idx','condition','epoch']).rt.mean().reset_index()\n",
    "sns.catplot(data = mdata, kind = 'point', \n",
    "                    x = 'epoch', y = 'rt', hue = 'condition')\n"
   ]
  },
  {
   "cell_type": "markdown",
   "metadata": {
    "id": "pkOzaVgbb7oW"
   },
   "source": [
    "The above figure illustrates a typical procedural learning effect. Initially, reaction times are slow but gradually become faster, eventually reaching a plateau. In the original paper, we used an exponential function to model this effect: $RT = RT_0 + \\Delta e^{-\\alpha N}$, where $N$ represents the epoch number.\n"
   ]
  },
  {
   "cell_type": "markdown",
   "metadata": {
    "id": "dj5wFjkNOpR7"
   },
   "source": [
    "To simplify our analysis, we apply a log transformation to the epoch variable. This transformation helps us examine if there is a linear relationship between the log-transformed epochs and reaction time (RT). The rationale behind this approach is that the learning benefits diminish as the number of epochs increases. Consequently, achieving the same reduction in RT requires more epochs (or blocks).\n",
    "\n",
    "The above exponential function can be approximated by a linear function in the log-transformed space: $\\ln(RT-RT_0) = a - b \\ln(N)$."
   ]
  },
  {
   "cell_type": "code",
   "execution_count": 22,
   "metadata": {
    "colab": {
     "base_uri": "https://localhost:8080/",
     "height": 279
    },
    "id": "2EIkGzi7KLfc",
    "outputId": "255bec0a-4f73-49cd-90f4-702ebfc7d7ee"
   },
   "outputs": [
    {
     "data": {
      "image/png": "[encoded data removed]",
      "text/plain": [
       "<Figure size 640x480 with 1 Axes>"
      ]
     },
     "metadata": {},
     "output_type": "display_data"
    }
   ],
   "source": [
    "#if we plot in log-scale for x-axis\n",
    "mdata['lepoch']  = np.log(mdata.epoch)\n",
    "mdata['lrt'] = np.log(mdata.rt)\n",
    "mm = mdata.groupby(['lepoch','condition']).lrt.mean().reset_index()\n",
    "f = sns.lineplot(data = mm, \n",
    "                    x = 'lepoch', y = 'lrt', hue = 'condition')\n",
    "plt.show()\n"
   ]
  },
  {
   "cell_type": "markdown",
   "metadata": {
    "id": "C9HBLHUYPMV_"
   },
   "source": [
    "For illustration purposes, we will focus only on the visual-tactile conditions."
   ]
  },
  {
   "cell_type": "code",
   "execution_count": 25,
   "metadata": {},
   "outputs": [
    {
     "data": {
      "text/html": [
       "<div>\n",
       "<style scoped>\n",
       "    .dataframe tbody tr th:only-of-type {\n",
       "        vertical-align: middle;\n",
       "    }\n",
       "\n",
       "    .dataframe tbody tr th {\n",
       "        vertical-align: top;\n",
       "    }\n",
       "\n",
       "    .dataframe thead th {\n",
       "        text-align: right;\n",
       "    }\n",
       "</style>\n",
       "<table border=\"1\" class=\"dataframe\">\n",
       "  <thead>\n",
       "    <tr style=\"text-align: right;\">\n",
       "      <th></th>\n",
       "      <th>lepoch</th>\n",
       "      <th>lrt</th>\n",
       "    </tr>\n",
       "  </thead>\n",
       "  <tbody>\n",
       "    <tr>\n",
       "      <th>0</th>\n",
       "      <td>0.000000</td>\n",
       "      <td>0.199450</td>\n",
       "    </tr>\n",
       "    <tr>\n",
       "      <th>1</th>\n",
       "      <td>0.693147</td>\n",
       "      <td>0.082697</td>\n",
       "    </tr>\n",
       "    <tr>\n",
       "      <th>2</th>\n",
       "      <td>1.098612</td>\n",
       "      <td>0.001376</td>\n",
       "    </tr>\n",
       "    <tr>\n",
       "      <th>3</th>\n",
       "      <td>1.386294</td>\n",
       "      <td>-0.042156</td>\n",
       "    </tr>\n",
       "    <tr>\n",
       "      <th>4</th>\n",
       "      <td>1.609438</td>\n",
       "      <td>-0.084521</td>\n",
       "    </tr>\n",
       "    <tr>\n",
       "      <th>5</th>\n",
       "      <td>1.791759</td>\n",
       "      <td>-0.132181</td>\n",
       "    </tr>\n",
       "    <tr>\n",
       "      <th>6</th>\n",
       "      <td>1.945910</td>\n",
       "      <td>-0.124399</td>\n",
       "    </tr>\n",
       "    <tr>\n",
       "      <th>7</th>\n",
       "      <td>2.079442</td>\n",
       "      <td>-0.156642</td>\n",
       "    </tr>\n",
       "  </tbody>\n",
       "</table>\n",
       "</div>"
      ],
      "text/plain": [
       "     lepoch       lrt\n",
       "0  0.000000  0.199450\n",
       "1  0.693147  0.082697\n",
       "2  1.098612  0.001376\n",
       "3  1.386294 -0.042156\n",
       "4  1.609438 -0.084521\n",
       "5  1.791759 -0.132181\n",
       "6  1.945910 -0.124399\n",
       "7  2.079442 -0.156642"
      ]
     },
     "execution_count": 25,
     "metadata": {},
     "output_type": "execute_result"
    }
   ],
   "source": [
    "vt.groupby('lepoch').lrt.mean().reset_index()"
   ]
  },
  {
   "cell_type": "code",
   "execution_count": 26,
   "metadata": {
    "colab": {
     "base_uri": "https://localhost:8080/",
     "height": 387
    },
    "id": "IQSzimWSilr_",
    "outputId": "8a1fb0e2-39b9-40e1-9326-d3765bfdf45a"
   },
   "outputs": [
    {
     "data": {
      "text/plain": [
       "<seaborn.axisgrid.FacetGrid at 0x17f418290>"
      ]
     },
     "execution_count": 26,
     "metadata": {},
     "output_type": "execute_result"
    },
    {
     "data": {
      "image/png": "[encoded data removed]",
      "text/plain": [
       "<Figure size 620.125x500 with 1 Axes>"
      ]
     },
     "metadata": {},
     "output_type": "display_data"
    }
   ],
   "source": [
    "vt = mdata.query('condition == \"vt_vt_new\" | condition == \"vt_vt_old\"')\n",
    "# visualize\n",
    "sns.lmplot(data = vt.groupby(['lepoch','condition']).lrt.mean().reset_index(), \n",
    "\t\t   x = 'lepoch', y = 'lrt', hue = 'condition')"
   ]
  },
  {
   "cell_type": "markdown",
   "metadata": {
    "id": "waO-SzASDsys"
   },
   "source": [
    "To model both conditions, we should first establish the type of linear models to use.\n",
    "\n",
    "* H1: Assume that the 'old' and 'new' conditions differ only in the intercept, not in the learning rate.\n",
    "* H2: Assume there is an interaction between the context (old/new) and procedural learning (epochs).\n",
    "\n",
    "H1:\n",
    "\n",
    "$$\\ln(RT) = a_0 + a_{d} + b \\cdot \\ln(Epoch), $$\n",
    "where $a_d$ is the difference between the old and new. \n",
    "\n",
    "H2: \n",
    "\n",
    "$$\\ln(RT) = a_0 + a_{d} + (b_0+b_d) \\cdot \\ln(Epoch), $$\n",
    "where $b_d$ is the difference in the slope between two conditions. \n",
    "\n"
   ]
  },
  {
   "cell_type": "code",
   "execution_count": 27,
   "metadata": {
    "colab": {
     "base_uri": "https://localhost:8080/",
     "height": 494
    },
    "id": "aTu_bZXzlxVW",
    "outputId": "10a784a1-6562-4bd2-c191-de480e0ad303"
   },
   "outputs": [
    {
     "data": {
      "text/html": [
       "<table class=\"simpletable\">\n",
       "<caption>OLS Regression Results</caption>\n",
       "<tr>\n",
       "  <th>Dep. Variable:</th>           <td>lrt</td>       <th>  R-squared:         </th> <td>   0.292</td>\n",
       "</tr>\n",
       "<tr>\n",
       "  <th>Model:</th>                   <td>OLS</td>       <th>  Adj. R-squared:    </th> <td>   0.283</td>\n",
       "</tr>\n",
       "<tr>\n",
       "  <th>Method:</th>             <td>Least Squares</td>  <th>  F-statistic:       </th> <td>   30.31</td>\n",
       "</tr>\n",
       "<tr>\n",
       "  <th>Date:</th>             <td>Sun, 10 Nov 2024</td> <th>  Prob (F-statistic):</th> <td>1.93e-16</td>\n",
       "</tr>\n",
       "<tr>\n",
       "  <th>Time:</th>                 <td>16:30:26</td>     <th>  Log-Likelihood:    </th> <td>  39.636</td>\n",
       "</tr>\n",
       "<tr>\n",
       "  <th>No. Observations:</th>      <td>   224</td>      <th>  AIC:               </th> <td>  -71.27</td>\n",
       "</tr>\n",
       "<tr>\n",
       "  <th>Df Residuals:</th>          <td>   220</td>      <th>  BIC:               </th> <td>  -57.62</td>\n",
       "</tr>\n",
       "<tr>\n",
       "  <th>Df Model:</th>              <td>     3</td>      <th>                     </th>     <td> </td>   \n",
       "</tr>\n",
       "<tr>\n",
       "  <th>Covariance Type:</th>      <td>nonrobust</td>    <th>                     </th>     <td> </td>   \n",
       "</tr>\n",
       "</table>\n",
       "<table class=\"simpletable\">\n",
       "<tr>\n",
       "                <td></td>                   <th>coef</th>     <th>std err</th>      <th>t</th>      <th>P>|t|</th>  <th>[0.025</th>    <th>0.975]</th>  \n",
       "</tr>\n",
       "<tr>\n",
       "  <th>Intercept</th>                     <td>    0.2196</td> <td>    0.043</td> <td>    5.051</td> <td> 0.000</td> <td>    0.134</td> <td>    0.305</td>\n",
       "</tr>\n",
       "<tr>\n",
       "  <th>condition[T.vt_vt_old]</th>        <td>   -0.0437</td> <td>    0.061</td> <td>   -0.711</td> <td> 0.478</td> <td>   -0.165</td> <td>    0.077</td>\n",
       "</tr>\n",
       "<tr>\n",
       "  <th>lepoch</th>                        <td>   -0.1445</td> <td>    0.029</td> <td>   -4.918</td> <td> 0.000</td> <td>   -0.202</td> <td>   -0.087</td>\n",
       "</tr>\n",
       "<tr>\n",
       "  <th>lepoch:condition[T.vt_vt_old]</th> <td>   -0.0578</td> <td>    0.042</td> <td>   -1.390</td> <td> 0.166</td> <td>   -0.140</td> <td>    0.024</td>\n",
       "</tr>\n",
       "</table>\n",
       "<table class=\"simpletable\">\n",
       "<tr>\n",
       "  <th>Omnibus:</th>       <td>14.289</td> <th>  Durbin-Watson:     </th> <td>   0.922</td>\n",
       "</tr>\n",
       "<tr>\n",
       "  <th>Prob(Omnibus):</th> <td> 0.001</td> <th>  Jarque-Bera (JB):  </th> <td>  15.494</td>\n",
       "</tr>\n",
       "<tr>\n",
       "  <th>Skew:</th>          <td>-0.560</td> <th>  Prob(JB):          </th> <td>0.000432</td>\n",
       "</tr>\n",
       "<tr>\n",
       "  <th>Kurtosis:</th>      <td> 3.635</td> <th>  Cond. No.          </th> <td>    12.1</td>\n",
       "</tr>\n",
       "</table><br/><br/>Notes:<br/>[1] Standard Errors assume that the covariance matrix of the errors is correctly specified."
      ],
      "text/latex": [
       "\\begin{center}\n",
       "\\begin{tabular}{lclc}\n",
       "\\toprule\n",
       "\\textbf{Dep. Variable:}                  &       lrt        & \\textbf{  R-squared:         } &     0.292   \\\\\n",
       "\\textbf{Model:}                          &       OLS        & \\textbf{  Adj. R-squared:    } &     0.283   \\\\\n",
       "\\textbf{Method:}                         &  Least Squares   & \\textbf{  F-statistic:       } &     30.31   \\\\\n",
       "\\textbf{Date:}                           & Sun, 10 Nov 2024 & \\textbf{  Prob (F-statistic):} &  1.93e-16   \\\\\n",
       "\\textbf{Time:}                           &     16:30:26     & \\textbf{  Log-Likelihood:    } &    39.636   \\\\\n",
       "\\textbf{No. Observations:}               &         224      & \\textbf{  AIC:               } &    -71.27   \\\\\n",
       "\\textbf{Df Residuals:}                   &         220      & \\textbf{  BIC:               } &    -57.62   \\\\\n",
       "\\textbf{Df Model:}                       &           3      & \\textbf{                     } &             \\\\\n",
       "\\textbf{Covariance Type:}                &    nonrobust     & \\textbf{                     } &             \\\\\n",
       "\\bottomrule\n",
       "\\end{tabular}\n",
       "\\begin{tabular}{lcccccc}\n",
       "                                         & \\textbf{coef} & \\textbf{std err} & \\textbf{t} & \\textbf{P$> |$t$|$} & \\textbf{[0.025} & \\textbf{0.975]}  \\\\\n",
       "\\midrule\n",
       "\\textbf{Intercept}                       &       0.2196  &        0.043     &     5.051  &         0.000        &        0.134    &        0.305     \\\\\n",
       "\\textbf{condition[T.vt\\_vt\\_old]}        &      -0.0437  &        0.061     &    -0.711  &         0.478        &       -0.165    &        0.077     \\\\\n",
       "\\textbf{lepoch}                          &      -0.1445  &        0.029     &    -4.918  &         0.000        &       -0.202    &       -0.087     \\\\\n",
       "\\textbf{lepoch:condition[T.vt\\_vt\\_old]} &      -0.0578  &        0.042     &    -1.390  &         0.166        &       -0.140    &        0.024     \\\\\n",
       "\\bottomrule\n",
       "\\end{tabular}\n",
       "\\begin{tabular}{lclc}\n",
       "\\textbf{Omnibus:}       & 14.289 & \\textbf{  Durbin-Watson:     } &    0.922  \\\\\n",
       "\\textbf{Prob(Omnibus):} &  0.001 & \\textbf{  Jarque-Bera (JB):  } &   15.494  \\\\\n",
       "\\textbf{Skew:}          & -0.560 & \\textbf{  Prob(JB):          } & 0.000432  \\\\\n",
       "\\textbf{Kurtosis:}      &  3.635 & \\textbf{  Cond. No.          } &     12.1  \\\\\n",
       "\\bottomrule\n",
       "\\end{tabular}\n",
       "%\\caption{OLS Regression Results}\n",
       "\\end{center}\n",
       "\n",
       "Notes: \\newline\n",
       " [1] Standard Errors assume that the covariance matrix of the errors is correctly specified."
      ],
      "text/plain": [
       "<class 'statsmodels.iolib.summary.Summary'>\n",
       "\"\"\"\n",
       "                            OLS Regression Results                            \n",
       "==============================================================================\n",
       "Dep. Variable:                    lrt   R-squared:                       0.292\n",
       "Model:                            OLS   Adj. R-squared:                  0.283\n",
       "Method:                 Least Squares   F-statistic:                     30.31\n",
       "Date:                Sun, 10 Nov 2024   Prob (F-statistic):           1.93e-16\n",
       "Time:                        16:30:26   Log-Likelihood:                 39.636\n",
       "No. Observations:                 224   AIC:                            -71.27\n",
       "Df Residuals:                     220   BIC:                            -57.62\n",
       "Df Model:                           3                                         \n",
       "Covariance Type:            nonrobust                                         \n",
       "=================================================================================================\n",
       "                                    coef    std err          t      P>|t|      [0.025      0.975]\n",
       "-------------------------------------------------------------------------------------------------\n",
       "Intercept                         0.2196      0.043      5.051      0.000       0.134       0.305\n",
       "condition[T.vt_vt_old]           -0.0437      0.061     -0.711      0.478      -0.165       0.077\n",
       "lepoch                           -0.1445      0.029     -4.918      0.000      -0.202      -0.087\n",
       "lepoch:condition[T.vt_vt_old]    -0.0578      0.042     -1.390      0.166      -0.140       0.024\n",
       "==============================================================================\n",
       "Omnibus:                       14.289   Durbin-Watson:                   0.922\n",
       "Prob(Omnibus):                  0.001   Jarque-Bera (JB):               15.494\n",
       "Skew:                          -0.560   Prob(JB):                     0.000432\n",
       "Kurtosis:                       3.635   Cond. No.                         12.1\n",
       "==============================================================================\n",
       "\n",
       "Notes:\n",
       "[1] Standard Errors assume that the covariance matrix of the errors is correctly specified.\n",
       "\"\"\""
      ]
     },
     "execution_count": 27,
     "metadata": {},
     "output_type": "execute_result"
    }
   ],
   "source": [
    "# apply linear regression (assumption with interactions)\n",
    "model1 = smf.ols(formula = 'lrt ~ lepoch*condition', data = vt).fit()\n",
    "model1.summary()"
   ]
  },
  {
   "cell_type": "markdown",
   "metadata": {},
   "source": [
    "### Summary of the regression analysis\n",
    "\n",
    "It is important to journal the results and interpretations during the analysis. \n",
    "\n",
    "__Your task: readout the results and interpret the findings.__\n",
    "\n",
    "???\n",
    "\n"
   ]
  },
  {
   "cell_type": "markdown",
   "metadata": {
    "id": "kuE9N_8FgmNE"
   },
   "source": [
    "Note that in the above regression, we have a categorical variable `condition` (Old and New). In linear regression, categorical variables are first converted into dummy variables. Here:\n",
    "\n",
    "$$\\ln(RT) = a_0 + a_{old} + (b_0 + b_{old})\\cdot \\ln(\\text{Epoch})$$\n",
    "\n",
    "This means that the model assumes different intercepts and slopes for the 'new' and 'old' conditions. The 'new' condition has intercept $a_0$ and slope $b_0$, while the 'old' condition has intercept $a_0 + a_{old}$ and slope $b_0 + b_{old}$.\n",
    "\n"
   ]
  },
  {
   "cell_type": "markdown",
   "metadata": {
    "id": "h6KWB8YPhpWp"
   },
   "source": [
    "The above regression shows that there were significant negative slope and positive intercept, but the differences between the old and new condition, indicated by the $a_{old}, b_{old}$, was not significance. \n",
    "\n",
    "**Why? and possible reasons?**\n",
    "\n",
    "\n",
    "Alternative model: No interaction. "
   ]
  },
  {
   "cell_type": "code",
   "execution_count": 28,
   "metadata": {
    "colab": {
     "base_uri": "https://localhost:8080/",
     "height": 473
    },
    "id": "bf-YcyaTHnMt",
    "outputId": "d94647cc-d035-4c55-f389-14274b057907"
   },
   "outputs": [
    {
     "data": {
      "text/html": [
       "<table class=\"simpletable\">\n",
       "<caption>OLS Regression Results</caption>\n",
       "<tr>\n",
       "  <th>Dep. Variable:</th>           <td>lrt</td>       <th>  R-squared:         </th> <td>   0.286</td>\n",
       "</tr>\n",
       "<tr>\n",
       "  <th>Model:</th>                   <td>OLS</td>       <th>  Adj. R-squared:    </th> <td>   0.280</td>\n",
       "</tr>\n",
       "<tr>\n",
       "  <th>Method:</th>             <td>Least Squares</td>  <th>  F-statistic:       </th> <td>   44.32</td>\n",
       "</tr>\n",
       "<tr>\n",
       "  <th>Date:</th>             <td>Sun, 10 Nov 2024</td> <th>  Prob (F-statistic):</th> <td>6.56e-17</td>\n",
       "</tr>\n",
       "<tr>\n",
       "  <th>Time:</th>                 <td>16:38:08</td>     <th>  Log-Likelihood:    </th> <td>  38.656</td>\n",
       "</tr>\n",
       "<tr>\n",
       "  <th>No. Observations:</th>      <td>   224</td>      <th>  AIC:               </th> <td>  -71.31</td>\n",
       "</tr>\n",
       "<tr>\n",
       "  <th>Df Residuals:</th>          <td>   221</td>      <th>  BIC:               </th> <td>  -61.08</td>\n",
       "</tr>\n",
       "<tr>\n",
       "  <th>Df Model:</th>              <td>     2</td>      <th>                     </th>     <td> </td>   \n",
       "</tr>\n",
       "<tr>\n",
       "  <th>Covariance Type:</th>      <td>nonrobust</td>    <th>                     </th>     <td> </td>   \n",
       "</tr>\n",
       "</table>\n",
       "<table class=\"simpletable\">\n",
       "<tr>\n",
       "             <td></td>               <th>coef</th>     <th>std err</th>      <th>t</th>      <th>P>|t|</th>  <th>[0.025</th>    <th>0.975]</th>  \n",
       "</tr>\n",
       "<tr>\n",
       "  <th>Intercept</th>              <td>    0.2579</td> <td>    0.034</td> <td>    7.649</td> <td> 0.000</td> <td>    0.191</td> <td>    0.324</td>\n",
       "</tr>\n",
       "<tr>\n",
       "  <th>condition[T.vt_vt_old]</th> <td>   -0.1203</td> <td>    0.027</td> <td>   -4.390</td> <td> 0.000</td> <td>   -0.174</td> <td>   -0.066</td>\n",
       "</tr>\n",
       "<tr>\n",
       "  <th>lepoch</th>                 <td>   -0.1734</td> <td>    0.021</td> <td>   -8.328</td> <td> 0.000</td> <td>   -0.214</td> <td>   -0.132</td>\n",
       "</tr>\n",
       "</table>\n",
       "<table class=\"simpletable\">\n",
       "<tr>\n",
       "  <th>Omnibus:</th>       <td>12.342</td> <th>  Durbin-Watson:     </th> <td>   0.926</td>\n",
       "</tr>\n",
       "<tr>\n",
       "  <th>Prob(Omnibus):</th> <td> 0.002</td> <th>  Jarque-Bera (JB):  </th> <td>  12.937</td>\n",
       "</tr>\n",
       "<tr>\n",
       "  <th>Skew:</th>          <td>-0.523</td> <th>  Prob(JB):          </th> <td> 0.00155</td>\n",
       "</tr>\n",
       "<tr>\n",
       "  <th>Kurtosis:</th>      <td> 3.541</td> <th>  Cond. No.          </th> <td>    5.28</td>\n",
       "</tr>\n",
       "</table><br/><br/>Notes:<br/>[1] Standard Errors assume that the covariance matrix of the errors is correctly specified."
      ],
      "text/latex": [
       "\\begin{center}\n",
       "\\begin{tabular}{lclc}\n",
       "\\toprule\n",
       "\\textbf{Dep. Variable:}           &       lrt        & \\textbf{  R-squared:         } &     0.286   \\\\\n",
       "\\textbf{Model:}                   &       OLS        & \\textbf{  Adj. R-squared:    } &     0.280   \\\\\n",
       "\\textbf{Method:}                  &  Least Squares   & \\textbf{  F-statistic:       } &     44.32   \\\\\n",
       "\\textbf{Date:}                    & Sun, 10 Nov 2024 & \\textbf{  Prob (F-statistic):} &  6.56e-17   \\\\\n",
       "\\textbf{Time:}                    &     16:38:08     & \\textbf{  Log-Likelihood:    } &    38.656   \\\\\n",
       "\\textbf{No. Observations:}        &         224      & \\textbf{  AIC:               } &    -71.31   \\\\\n",
       "\\textbf{Df Residuals:}            &         221      & \\textbf{  BIC:               } &    -61.08   \\\\\n",
       "\\textbf{Df Model:}                &           2      & \\textbf{                     } &             \\\\\n",
       "\\textbf{Covariance Type:}         &    nonrobust     & \\textbf{                     } &             \\\\\n",
       "\\bottomrule\n",
       "\\end{tabular}\n",
       "\\begin{tabular}{lcccccc}\n",
       "                                  & \\textbf{coef} & \\textbf{std err} & \\textbf{t} & \\textbf{P$> |$t$|$} & \\textbf{[0.025} & \\textbf{0.975]}  \\\\\n",
       "\\midrule\n",
       "\\textbf{Intercept}                &       0.2579  &        0.034     &     7.649  &         0.000        &        0.191    &        0.324     \\\\\n",
       "\\textbf{condition[T.vt\\_vt\\_old]} &      -0.1203  &        0.027     &    -4.390  &         0.000        &       -0.174    &       -0.066     \\\\\n",
       "\\textbf{lepoch}                   &      -0.1734  &        0.021     &    -8.328  &         0.000        &       -0.214    &       -0.132     \\\\\n",
       "\\bottomrule\n",
       "\\end{tabular}\n",
       "\\begin{tabular}{lclc}\n",
       "\\textbf{Omnibus:}       & 12.342 & \\textbf{  Durbin-Watson:     } &    0.926  \\\\\n",
       "\\textbf{Prob(Omnibus):} &  0.002 & \\textbf{  Jarque-Bera (JB):  } &   12.937  \\\\\n",
       "\\textbf{Skew:}          & -0.523 & \\textbf{  Prob(JB):          } &  0.00155  \\\\\n",
       "\\textbf{Kurtosis:}      &  3.541 & \\textbf{  Cond. No.          } &     5.28  \\\\\n",
       "\\bottomrule\n",
       "\\end{tabular}\n",
       "%\\caption{OLS Regression Results}\n",
       "\\end{center}\n",
       "\n",
       "Notes: \\newline\n",
       " [1] Standard Errors assume that the covariance matrix of the errors is correctly specified."
      ],
      "text/plain": [
       "<class 'statsmodels.iolib.summary.Summary'>\n",
       "\"\"\"\n",
       "                            OLS Regression Results                            \n",
       "==============================================================================\n",
       "Dep. Variable:                    lrt   R-squared:                       0.286\n",
       "Model:                            OLS   Adj. R-squared:                  0.280\n",
       "Method:                 Least Squares   F-statistic:                     44.32\n",
       "Date:                Sun, 10 Nov 2024   Prob (F-statistic):           6.56e-17\n",
       "Time:                        16:38:08   Log-Likelihood:                 38.656\n",
       "No. Observations:                 224   AIC:                            -71.31\n",
       "Df Residuals:                     221   BIC:                            -61.08\n",
       "Df Model:                           2                                         \n",
       "Covariance Type:            nonrobust                                         \n",
       "==========================================================================================\n",
       "                             coef    std err          t      P>|t|      [0.025      0.975]\n",
       "------------------------------------------------------------------------------------------\n",
       "Intercept                  0.2579      0.034      7.649      0.000       0.191       0.324\n",
       "condition[T.vt_vt_old]    -0.1203      0.027     -4.390      0.000      -0.174      -0.066\n",
       "lepoch                    -0.1734      0.021     -8.328      0.000      -0.214      -0.132\n",
       "==============================================================================\n",
       "Omnibus:                       12.342   Durbin-Watson:                   0.926\n",
       "Prob(Omnibus):                  0.002   Jarque-Bera (JB):               12.937\n",
       "Skew:                          -0.523   Prob(JB):                      0.00155\n",
       "Kurtosis:                       3.541   Cond. No.                         5.28\n",
       "==============================================================================\n",
       "\n",
       "Notes:\n",
       "[1] Standard Errors assume that the covariance matrix of the errors is correctly specified.\n",
       "\"\"\""
      ]
     },
     "execution_count": 28,
     "metadata": {},
     "output_type": "execute_result"
    }
   ],
   "source": [
    "# alternative model: no interaction (i.e., the slope were the same)\n",
    "model2 = smf.ols(formula = 'lrt ~ lepoch + condition', data = vt).fit()\n",
    "model2.summary()"
   ]
  },
  {
   "cell_type": "code",
   "execution_count": 29,
   "metadata": {
    "colab": {
     "base_uri": "https://localhost:8080/",
     "height": 473
    },
    "id": "CGvmj-rcHy0T",
    "outputId": "f893e3de-e30d-4ddc-fec6-643a0064b384"
   },
   "outputs": [
    {
     "data": {
      "text/html": [
       "<table class=\"simpletable\">\n",
       "<caption>OLS Regression Results</caption>\n",
       "<tr>\n",
       "  <th>Dep. Variable:</th>           <td>lrt</td>       <th>  R-squared:         </th> <td>   0.291</td>\n",
       "</tr>\n",
       "<tr>\n",
       "  <th>Model:</th>                   <td>OLS</td>       <th>  Adj. R-squared:    </th> <td>   0.284</td>\n",
       "</tr>\n",
       "<tr>\n",
       "  <th>Method:</th>             <td>Least Squares</td>  <th>  F-statistic:       </th> <td>   45.32</td>\n",
       "</tr>\n",
       "<tr>\n",
       "  <th>Date:</th>             <td>Sun, 10 Nov 2024</td> <th>  Prob (F-statistic):</th> <td>3.22e-17</td>\n",
       "</tr>\n",
       "<tr>\n",
       "  <th>Time:</th>                 <td>16:40:46</td>     <th>  Log-Likelihood:    </th> <td>  39.379</td>\n",
       "</tr>\n",
       "<tr>\n",
       "  <th>No. Observations:</th>      <td>   224</td>      <th>  AIC:               </th> <td>  -72.76</td>\n",
       "</tr>\n",
       "<tr>\n",
       "  <th>Df Residuals:</th>          <td>   221</td>      <th>  BIC:               </th> <td>  -62.52</td>\n",
       "</tr>\n",
       "<tr>\n",
       "  <th>Df Model:</th>              <td>     2</td>      <th>                     </th>     <td> </td>   \n",
       "</tr>\n",
       "<tr>\n",
       "  <th>Covariance Type:</th>      <td>nonrobust</td>    <th>                     </th>     <td> </td>   \n",
       "</tr>\n",
       "</table>\n",
       "<table class=\"simpletable\">\n",
       "<tr>\n",
       "                <td></td>                   <th>coef</th>     <th>std err</th>      <th>t</th>      <th>P>|t|</th>  <th>[0.025</th>    <th>0.975]</th>  \n",
       "</tr>\n",
       "<tr>\n",
       "  <th>Intercept</th>                     <td>    0.1978</td> <td>    0.031</td> <td>    6.440</td> <td> 0.000</td> <td>    0.137</td> <td>    0.258</td>\n",
       "</tr>\n",
       "<tr>\n",
       "  <th>lepoch</th>                        <td>   -0.1313</td> <td>    0.023</td> <td>   -5.780</td> <td> 0.000</td> <td>   -0.176</td> <td>   -0.087</td>\n",
       "</tr>\n",
       "<tr>\n",
       "  <th>lepoch:condition[T.vt_vt_old]</th> <td>   -0.0842</td> <td>    0.018</td> <td>   -4.564</td> <td> 0.000</td> <td>   -0.121</td> <td>   -0.048</td>\n",
       "</tr>\n",
       "</table>\n",
       "<table class=\"simpletable\">\n",
       "<tr>\n",
       "  <th>Omnibus:</th>       <td>14.782</td> <th>  Durbin-Watson:     </th> <td>   0.914</td>\n",
       "</tr>\n",
       "<tr>\n",
       "  <th>Prob(Omnibus):</th> <td> 0.001</td> <th>  Jarque-Bera (JB):  </th> <td>  16.146</td>\n",
       "</tr>\n",
       "<tr>\n",
       "  <th>Skew:</th>          <td>-0.571</td> <th>  Prob(JB):          </th> <td>0.000312</td>\n",
       "</tr>\n",
       "<tr>\n",
       "  <th>Kurtosis:</th>      <td> 3.653</td> <th>  Cond. No.          </th> <td>    5.16</td>\n",
       "</tr>\n",
       "</table><br/><br/>Notes:<br/>[1] Standard Errors assume that the covariance matrix of the errors is correctly specified."
      ],
      "text/latex": [
       "\\begin{center}\n",
       "\\begin{tabular}{lclc}\n",
       "\\toprule\n",
       "\\textbf{Dep. Variable:}                  &       lrt        & \\textbf{  R-squared:         } &     0.291   \\\\\n",
       "\\textbf{Model:}                          &       OLS        & \\textbf{  Adj. R-squared:    } &     0.284   \\\\\n",
       "\\textbf{Method:}                         &  Least Squares   & \\textbf{  F-statistic:       } &     45.32   \\\\\n",
       "\\textbf{Date:}                           & Sun, 10 Nov 2024 & \\textbf{  Prob (F-statistic):} &  3.22e-17   \\\\\n",
       "\\textbf{Time:}                           &     16:40:46     & \\textbf{  Log-Likelihood:    } &    39.379   \\\\\n",
       "\\textbf{No. Observations:}               &         224      & \\textbf{  AIC:               } &    -72.76   \\\\\n",
       "\\textbf{Df Residuals:}                   &         221      & \\textbf{  BIC:               } &    -62.52   \\\\\n",
       "\\textbf{Df Model:}                       &           2      & \\textbf{                     } &             \\\\\n",
       "\\textbf{Covariance Type:}                &    nonrobust     & \\textbf{                     } &             \\\\\n",
       "\\bottomrule\n",
       "\\end{tabular}\n",
       "\\begin{tabular}{lcccccc}\n",
       "                                         & \\textbf{coef} & \\textbf{std err} & \\textbf{t} & \\textbf{P$> |$t$|$} & \\textbf{[0.025} & \\textbf{0.975]}  \\\\\n",
       "\\midrule\n",
       "\\textbf{Intercept}                       &       0.1978  &        0.031     &     6.440  &         0.000        &        0.137    &        0.258     \\\\\n",
       "\\textbf{lepoch}                          &      -0.1313  &        0.023     &    -5.780  &         0.000        &       -0.176    &       -0.087     \\\\\n",
       "\\textbf{lepoch:condition[T.vt\\_vt\\_old]} &      -0.0842  &        0.018     &    -4.564  &         0.000        &       -0.121    &       -0.048     \\\\\n",
       "\\bottomrule\n",
       "\\end{tabular}\n",
       "\\begin{tabular}{lclc}\n",
       "\\textbf{Omnibus:}       & 14.782 & \\textbf{  Durbin-Watson:     } &    0.914  \\\\\n",
       "\\textbf{Prob(Omnibus):} &  0.001 & \\textbf{  Jarque-Bera (JB):  } &   16.146  \\\\\n",
       "\\textbf{Skew:}          & -0.571 & \\textbf{  Prob(JB):          } & 0.000312  \\\\\n",
       "\\textbf{Kurtosis:}      &  3.653 & \\textbf{  Cond. No.          } &     5.16  \\\\\n",
       "\\bottomrule\n",
       "\\end{tabular}\n",
       "%\\caption{OLS Regression Results}\n",
       "\\end{center}\n",
       "\n",
       "Notes: \\newline\n",
       " [1] Standard Errors assume that the covariance matrix of the errors is correctly specified."
      ],
      "text/plain": [
       "<class 'statsmodels.iolib.summary.Summary'>\n",
       "\"\"\"\n",
       "                            OLS Regression Results                            \n",
       "==============================================================================\n",
       "Dep. Variable:                    lrt   R-squared:                       0.291\n",
       "Model:                            OLS   Adj. R-squared:                  0.284\n",
       "Method:                 Least Squares   F-statistic:                     45.32\n",
       "Date:                Sun, 10 Nov 2024   Prob (F-statistic):           3.22e-17\n",
       "Time:                        16:40:46   Log-Likelihood:                 39.379\n",
       "No. Observations:                 224   AIC:                            -72.76\n",
       "Df Residuals:                     221   BIC:                            -62.52\n",
       "Df Model:                           2                                         \n",
       "Covariance Type:            nonrobust                                         \n",
       "=================================================================================================\n",
       "                                    coef    std err          t      P>|t|      [0.025      0.975]\n",
       "-------------------------------------------------------------------------------------------------\n",
       "Intercept                         0.1978      0.031      6.440      0.000       0.137       0.258\n",
       "lepoch                           -0.1313      0.023     -5.780      0.000      -0.176      -0.087\n",
       "lepoch:condition[T.vt_vt_old]    -0.0842      0.018     -4.564      0.000      -0.121      -0.048\n",
       "==============================================================================\n",
       "Omnibus:                       14.782   Durbin-Watson:                   0.914\n",
       "Prob(Omnibus):                  0.001   Jarque-Bera (JB):               16.146\n",
       "Skew:                          -0.571   Prob(JB):                     0.000312\n",
       "Kurtosis:                       3.653   Cond. No.                         5.16\n",
       "==============================================================================\n",
       "\n",
       "Notes:\n",
       "[1] Standard Errors assume that the covariance matrix of the errors is correctly specified.\n",
       "\"\"\""
      ]
     },
     "execution_count": 29,
     "metadata": {},
     "output_type": "execute_result"
    }
   ],
   "source": [
    "#  model 3: with an interaction, but did not differ in intercept\n",
    "model3 = smf.ols(formula = 'lrt ~ lepoch + lepoch:condition', data = vt).fit()\n",
    "model3.summary()"
   ]
  },
  {
   "cell_type": "markdown",
   "metadata": {
    "id": "rpGKK34UQ9pw"
   },
   "source": [
    "The above three models showed different significances based on what you assumed for respective models. \n",
    "\n",
    "The question arises: __which model is the best model?__\n",
    "\n",
    "In the output of model summary, you can find one key parameter `Adjusted R-squared`. The adjusted R-squared compares the explanatory power of regression models that contain different numbers of predictors. In other words, compared to the unadjusted R-squared, there is penalty in adding more predictors (variables). \n",
    "\n",
    "The adjusted R-squared are relative close. Model 3 was the best among three candidates (0.284 vs. 0.283 and 0.280). \n",
    "\n",
    "One issue we haven't addressed in the above example is that the experimental design was within-subject design, but the simple linear regression simply pooled all data together! The individual difference may weaken the statistical inference. We address this in the next section using \"Linear mixed model\". "
   ]
  },
  {
   "cell_type": "markdown",
   "metadata": {
    "id": "-xmEP5LsiDE3"
   },
   "source": [
    "## 3. Linear Mixed model\n",
    "\n",
    "In the standard linear regression, all data points are treated as independent. However, in most behavioral studies, we have within-subject design, which help us to disassoicate the individual difference from the main manipulation. \n",
    "\n",
    "The linear mixed model includes unique effects for individual subjects, which can extract those individual difference from the parameters estimates. \n"
   ]
  },
  {
   "cell_type": "markdown",
   "metadata": {
    "id": "n-IdUQKnj0bt"
   },
   "source": [
    "Consider a simple regression,\n",
    "\n",
    "$$Y = a + b X + \\epsilon$$\n",
    "\n",
    "If we assume the intercept may vary among participants, but individual differences may cancel out each other in the group-level intercept, we have the following mixed model:\n",
    "\n",
    "$$ Y = a + a_{ind} + bX  + \\epsilon,$$\n",
    "\n",
    "where $a_{ind} \\sim N(0, \\sigma_a)$. \n",
    "\n",
    "If we further assume that individuals have different slopes as well, we will have\n",
    "\n",
    "$$Y = a + a_{ind} + (b + b_{ind})X  + \\epsilon,$$\n",
    "where  $b_{ind} \\sim N(0, \\sigma_b)$."
   ]
  },
  {
   "cell_type": "code",
   "execution_count": 30,
   "metadata": {
    "colab": {
     "base_uri": "https://localhost:8080/",
     "height": 256
    },
    "id": "UW_3We-Qn-a6",
    "outputId": "ec355d14-62be-44a9-f281-46d6c4956de2"
   },
   "outputs": [
    {
     "data": {
      "text/html": [
       "<table class=\"simpletable\">\n",
       "<tr>\n",
       "       <td>Model:</td>       <td>MixedLM</td> <td>Dependent Variable:</td>   <td>lrt</td>  \n",
       "</tr>\n",
       "<tr>\n",
       "  <td>No. Observations:</td>   <td>224</td>         <td>Method:</td>        <td>REML</td>  \n",
       "</tr>\n",
       "<tr>\n",
       "     <td>No. Groups:</td>      <td>14</td>          <td>Scale:</td>        <td>0.0202</td> \n",
       "</tr>\n",
       "<tr>\n",
       "  <td>Min. group size:</td>    <td>16</td>      <td>Log-Likelihood:</td>   <td>91.4178</td>\n",
       "</tr>\n",
       "<tr>\n",
       "  <td>Max. group size:</td>    <td>16</td>        <td>Converged:</td>        <td>Yes</td>  \n",
       "</tr>\n",
       "<tr>\n",
       "  <td>Mean group size:</td>   <td>16.0</td>            <td></td>              <td></td>    \n",
       "</tr>\n",
       "</table>\n",
       "<table class=\"simpletable\">\n",
       "<tr>\n",
       "             <td></td>             <th>Coef.</th> <th>Std.Err.</th>    <th>z</th>    <th>P>|z|</th> <th>[0.025</th> <th>0.975]</th>\n",
       "</tr>\n",
       "<tr>\n",
       "  <th>Intercept</th>               <td>0.258</td>   <td>0.047</td>   <td>5.494</td>  <td>0.000</td>  <td>0.166</td>  <td>0.350</td>\n",
       "</tr>\n",
       "<tr>\n",
       "  <th>condition[T.vt_vt_old]</th> <td>-0.120</td>   <td>0.019</td>  <td>-6.335</td>  <td>0.000</td> <td>-0.157</td> <td>-0.083</td>\n",
       "</tr>\n",
       "<tr>\n",
       "  <th>lepoch</th>                 <td>-0.173</td>   <td>0.014</td>  <td>-12.018</td> <td>0.000</td> <td>-0.202</td> <td>-0.145</td>\n",
       "</tr>\n",
       "<tr>\n",
       "  <th>Group Var</th>               <td>0.023</td>   <td>0.070</td>     <td></td>       <td></td>       <td></td>       <td></td>   \n",
       "</tr>\n",
       "</table><br/>\n"
      ],
      "text/latex": [
       "\\begin{table}\n",
       "\\caption{Mixed Linear Model Regression Results}\n",
       "\\label{}\n",
       "\\begin{center}\n",
       "\\begin{tabular}{llll}\n",
       "\\hline\n",
       "Model:            & MixedLM & Dependent Variable: & lrt      \\\\\n",
       "No. Observations: & 224     & Method:             & REML     \\\\\n",
       "No. Groups:       & 14      & Scale:              & 0.0202   \\\\\n",
       "Min. group size:  & 16      & Log-Likelihood:     & 91.4178  \\\\\n",
       "Max. group size:  & 16      & Converged:          & Yes      \\\\\n",
       "Mean group size:  & 16.0    &                     &          \\\\\n",
       "\\hline\n",
       "\\end{tabular}\n",
       "\\end{center}\n",
       "\n",
       "\\begin{center}\n",
       "\\begin{tabular}{lrrrrrr}\n",
       "\\hline\n",
       "                         &  Coef. & Std.Err. &       z & P$> |$z$|$ & [0.025 & 0.975]  \\\\\n",
       "\\hline\n",
       "Intercept                &  0.258 &    0.047 &   5.494 &       0.000 &  0.166 &  0.350  \\\\\n",
       "condition[T.vt\\_vt\\_old] & -0.120 &    0.019 &  -6.335 &       0.000 & -0.157 & -0.083  \\\\\n",
       "lepoch                   & -0.173 &    0.014 & -12.018 &       0.000 & -0.202 & -0.145  \\\\\n",
       "Group Var                &  0.023 &    0.070 &         &             &        &         \\\\\n",
       "\\hline\n",
       "\\end{tabular}\n",
       "\\end{center}\n",
       "\\end{table}\n",
       "\\bigskip\n"
      ],
      "text/plain": [
       "<class 'statsmodels.iolib.summary2.Summary'>\n",
       "\"\"\"\n",
       "              Mixed Linear Model Regression Results\n",
       "==================================================================\n",
       "Model:                 MixedLM     Dependent Variable:     lrt    \n",
       "No. Observations:      224         Method:                 REML   \n",
       "No. Groups:            14          Scale:                  0.0202 \n",
       "Min. group size:       16          Log-Likelihood:         91.4178\n",
       "Max. group size:       16          Converged:              Yes    \n",
       "Mean group size:       16.0                                       \n",
       "------------------------------------------------------------------\n",
       "                       Coef.  Std.Err.    z    P>|z| [0.025 0.975]\n",
       "------------------------------------------------------------------\n",
       "Intercept               0.258    0.047   5.494 0.000  0.166  0.350\n",
       "condition[T.vt_vt_old] -0.120    0.019  -6.335 0.000 -0.157 -0.083\n",
       "lepoch                 -0.173    0.014 -12.018 0.000 -0.202 -0.145\n",
       "Group Var               0.023    0.070                            \n",
       "==================================================================\n",
       "\n",
       "\"\"\""
      ]
     },
     "execution_count": 30,
     "metadata": {},
     "output_type": "execute_result"
    }
   ],
   "source": [
    "# mixed model: Intercept difference\n",
    "mix1 = smf.mixedlm('lrt ~ lepoch + condition', data = vt, groups = vt.subj_idx)\n",
    "res1 = mix1.fit()\n",
    "res1.summary()"
   ]
  },
  {
   "cell_type": "code",
   "execution_count": 31,
   "metadata": {
    "colab": {
     "base_uri": "https://localhost:8080/",
     "height": 375
    },
    "id": "LSwFr75sol5P",
    "outputId": "c4929b09-3e0a-44ad-e3d2-7da40bb0625d"
   },
   "outputs": [
    {
     "name": "stderr",
     "output_type": "stream",
     "text": [
      "/Users/strongway/miniconda3/lib/python3.11/site-packages/statsmodels/regression/mixed_linear_model.py:2238: ConvergenceWarning: The MLE may be on the boundary of the parameter space.\n",
      "  warnings.warn(msg, ConvergenceWarning)\n"
     ]
    },
    {
     "data": {
      "text/html": [
       "<table class=\"simpletable\">\n",
       "<tr>\n",
       "       <td>Model:</td>       <td>MixedLM</td> <td>Dependent Variable:</td>   <td>lrt</td>  \n",
       "</tr>\n",
       "<tr>\n",
       "  <td>No. Observations:</td>   <td>224</td>         <td>Method:</td>        <td>REML</td>  \n",
       "</tr>\n",
       "<tr>\n",
       "     <td>No. Groups:</td>      <td>14</td>          <td>Scale:</td>        <td>0.0181</td> \n",
       "</tr>\n",
       "<tr>\n",
       "  <td>Min. group size:</td>    <td>16</td>      <td>Log-Likelihood:</td>   <td>94.6568</td>\n",
       "</tr>\n",
       "<tr>\n",
       "  <td>Max. group size:</td>    <td>16</td>        <td>Converged:</td>        <td>Yes</td>  \n",
       "</tr>\n",
       "<tr>\n",
       "  <td>Mean group size:</td>   <td>16.0</td>            <td></td>              <td></td>    \n",
       "</tr>\n",
       "</table>\n",
       "<table class=\"simpletable\">\n",
       "<tr>\n",
       "                <td></td>                 <th>Coef.</th> <th>Std.Err.</th>    <th>z</th>   <th>P>|z|</th> <th>[0.025</th> <th>0.975]</th>\n",
       "</tr>\n",
       "<tr>\n",
       "  <th>Intercept</th>                      <td>0.220</td>   <td>0.051</td>   <td>4.277</td> <td>0.000</td>  <td>0.119</td>  <td>0.320</td>\n",
       "</tr>\n",
       "<tr>\n",
       "  <th>condition[T.vt_vt_old]</th>        <td>-0.044</td>   <td>0.040</td>  <td>-1.081</td> <td>0.279</td> <td>-0.123</td>  <td>0.035</td>\n",
       "</tr>\n",
       "<tr>\n",
       "  <th>lepoch</th>                        <td>-0.144</td>   <td>0.026</td>  <td>-5.578</td> <td>0.000</td> <td>-0.195</td> <td>-0.094</td>\n",
       "</tr>\n",
       "<tr>\n",
       "  <th>lepoch:condition[T.vt_vt_old]</th> <td>-0.058</td>   <td>0.027</td>  <td>-2.116</td> <td>0.034</td> <td>-0.111</td> <td>-0.004</td>\n",
       "</tr>\n",
       "<tr>\n",
       "  <th>Group Var</th>                      <td>0.025</td>   <td>0.094</td>     <td></td>      <td></td>       <td></td>       <td></td>   \n",
       "</tr>\n",
       "<tr>\n",
       "  <th>Group x lepoch Cov</th>            <td>-0.004</td>   <td>0.034</td>     <td></td>      <td></td>       <td></td>       <td></td>   \n",
       "</tr>\n",
       "<tr>\n",
       "  <th>lepoch Var</th>                     <td>0.004</td>   <td>0.020</td>     <td></td>      <td></td>       <td></td>       <td></td>   \n",
       "</tr>\n",
       "</table><br/>\n"
      ],
      "text/latex": [
       "\\begin{table}\n",
       "\\caption{Mixed Linear Model Regression Results}\n",
       "\\label{}\n",
       "\\begin{center}\n",
       "\\begin{tabular}{llll}\n",
       "\\hline\n",
       "Model:            & MixedLM & Dependent Variable: & lrt      \\\\\n",
       "No. Observations: & 224     & Method:             & REML     \\\\\n",
       "No. Groups:       & 14      & Scale:              & 0.0181   \\\\\n",
       "Min. group size:  & 16      & Log-Likelihood:     & 94.6568  \\\\\n",
       "Max. group size:  & 16      & Converged:          & Yes      \\\\\n",
       "Mean group size:  & 16.0    &                     &          \\\\\n",
       "\\hline\n",
       "\\end{tabular}\n",
       "\\end{center}\n",
       "\n",
       "\\begin{center}\n",
       "\\begin{tabular}{lrrrrrr}\n",
       "\\hline\n",
       "                                &  Coef. & Std.Err. &      z & P$> |$z$|$ & [0.025 & 0.975]  \\\\\n",
       "\\hline\n",
       "Intercept                       &  0.220 &    0.051 &  4.277 &       0.000 &  0.119 &  0.320  \\\\\n",
       "condition[T.vt\\_vt\\_old]        & -0.044 &    0.040 & -1.081 &       0.279 & -0.123 &  0.035  \\\\\n",
       "lepoch                          & -0.144 &    0.026 & -5.578 &       0.000 & -0.195 & -0.094  \\\\\n",
       "lepoch:condition[T.vt\\_vt\\_old] & -0.058 &    0.027 & -2.116 &       0.034 & -0.111 & -0.004  \\\\\n",
       "Group Var                       &  0.025 &    0.094 &        &             &        &         \\\\\n",
       "Group x lepoch Cov              & -0.004 &    0.034 &        &             &        &         \\\\\n",
       "lepoch Var                      &  0.004 &    0.020 &        &             &        &         \\\\\n",
       "\\hline\n",
       "\\end{tabular}\n",
       "\\end{center}\n",
       "\\end{table}\n",
       "\\bigskip\n"
      ],
      "text/plain": [
       "<class 'statsmodels.iolib.summary2.Summary'>\n",
       "\"\"\"\n",
       "                 Mixed Linear Model Regression Results\n",
       "========================================================================\n",
       "Model:                   MixedLM       Dependent Variable:       lrt    \n",
       "No. Observations:        224           Method:                   REML   \n",
       "No. Groups:              14            Scale:                    0.0181 \n",
       "Min. group size:         16            Log-Likelihood:           94.6568\n",
       "Max. group size:         16            Converged:                Yes    \n",
       "Mean group size:         16.0                                           \n",
       "------------------------------------------------------------------------\n",
       "                              Coef.  Std.Err.   z    P>|z| [0.025 0.975]\n",
       "------------------------------------------------------------------------\n",
       "Intercept                      0.220    0.051  4.277 0.000  0.119  0.320\n",
       "condition[T.vt_vt_old]        -0.044    0.040 -1.081 0.279 -0.123  0.035\n",
       "lepoch                        -0.144    0.026 -5.578 0.000 -0.195 -0.094\n",
       "lepoch:condition[T.vt_vt_old] -0.058    0.027 -2.116 0.034 -0.111 -0.004\n",
       "Group Var                      0.025    0.094                           \n",
       "Group x lepoch Cov            -0.004    0.034                           \n",
       "lepoch Var                     0.004    0.020                           \n",
       "========================================================================\n",
       "\n",
       "\"\"\""
      ]
     },
     "execution_count": 31,
     "metadata": {},
     "output_type": "execute_result"
    }
   ],
   "source": [
    "# mixed model with 2 random effects\n",
    "mix2 = smf.mixedlm(\"lrt ~ lepoch* condition\", data = vt, groups = vt.subj_idx, re_formula='~lepoch')\n",
    "res2 = mix2.fit()\n",
    "res2.summary()"
   ]
  },
  {
   "cell_type": "markdown",
   "metadata": {
    "id": "P961IfeGbLPU"
   },
   "source": [
    "To compare multiple mixed models, you can use the likelihood values shown in the summaries. The likelihood value is a measure of how well the model fits the data. When comparing models, a higher likelihood value indicates a better fit.\n",
    " \n",
    "Other criteria for multiple linear mixed-effects models include:\n",
    "1. **Likelihood Ratio Test (LRT)**: Compares the likelihoods of two nested models. \n",
    "   The model with the higher likelihood is preferred if the difference is statistically significant.\n",
    "2. **Akaike Information Criterion (AIC)**: Balances model fit and complexity. \n",
    "    Lower AIC values indicate a better model.\n",
    "3. **Bayesian Information Criterion (BIC)**: Similar to AIC but includes a stronger penalty for models with more parameters. \n",
    "    Lower BIC values indicate a better model.\n",
    "4. **Cross-Validation**: Evaluates model performance on different subsets of the data. \n",
    "    A model that performs well across different subsets is preferred.\n",
    "\n",
    " These criteria help in selecting the most appropriate model that balances goodness of fit and model complexity.\n"
   ]
  },
  {
   "cell_type": "markdown",
   "metadata": {
    "id": "Nb7hzLbFbYAF"
   },
   "source": [
    "## Conclusion\n",
    "\n",
    "Linear regression is the basic modeling tool when the independent  and dependent variables both are continuous (interval scales). Using mixed linear models you could reduce the estimation errors by removing the inter-subject variabilities.  "
   ]
  },
  {
   "cell_type": "markdown",
   "metadata": {},
   "source": [
    "# Practice\n",
    "\n",
    "In the following, we will use one experimental dataset to perform linear regression and mixed linear model.\n",
    "\n",
    "The data comes from a study on influences of memory load on duration reproduction (Zang et al., 2024). The datasets are available in my github [repository](https://github.com/msenselab/working_memory_reproduction/tree/main).\n",
    "\n",
    "The data contains the following important columns (variables) for the current analysis:\n",
    "\n",
    "- `WMSize`: Working memory size (1, 3, 5)\n",
    "- `curDur`: Current duration\n",
    "- `repDur`: Reproduced duration\n",
    "- `NSub`: Number of subjects\n",
    "- `valid`: Validity of the trial (1: valid, 0: invalid)"
   ]
  },
  {
   "cell_type": "code",
   "execution_count": 41,
   "metadata": {},
   "outputs": [
    {
     "data": {
      "text/html": [
       "<div>\n",
       "<style scoped>\n",
       "    .dataframe tbody tr th:only-of-type {\n",
       "        vertical-align: middle;\n",
       "    }\n",
       "\n",
       "    .dataframe tbody tr th {\n",
       "        vertical-align: top;\n",
       "    }\n",
       "\n",
       "    .dataframe thead th {\n",
       "        text-align: right;\n",
       "    }\n",
       "</style>\n",
       "<table border=\"1\" class=\"dataframe\">\n",
       "  <thead>\n",
       "    <tr style=\"text-align: right;\">\n",
       "      <th></th>\n",
       "      <th>NSub</th>\n",
       "      <th>Memory_Load</th>\n",
       "      <th>Duration</th>\n",
       "      <th>Reproduction</th>\n",
       "    </tr>\n",
       "  </thead>\n",
       "  <tbody>\n",
       "    <tr>\n",
       "      <th>0</th>\n",
       "      <td>1</td>\n",
       "      <td>1</td>\n",
       "      <td>0.5</td>\n",
       "      <td>0.739317</td>\n",
       "    </tr>\n",
       "    <tr>\n",
       "      <th>1</th>\n",
       "      <td>1</td>\n",
       "      <td>1</td>\n",
       "      <td>0.8</td>\n",
       "      <td>0.975967</td>\n",
       "    </tr>\n",
       "    <tr>\n",
       "      <th>2</th>\n",
       "      <td>1</td>\n",
       "      <td>1</td>\n",
       "      <td>1.1</td>\n",
       "      <td>1.093963</td>\n",
       "    </tr>\n",
       "    <tr>\n",
       "      <th>3</th>\n",
       "      <td>1</td>\n",
       "      <td>1</td>\n",
       "      <td>1.4</td>\n",
       "      <td>1.085979</td>\n",
       "    </tr>\n",
       "    <tr>\n",
       "      <th>4</th>\n",
       "      <td>1</td>\n",
       "      <td>1</td>\n",
       "      <td>1.7</td>\n",
       "      <td>1.220651</td>\n",
       "    </tr>\n",
       "  </tbody>\n",
       "</table>\n",
       "</div>"
      ],
      "text/plain": [
       "   NSub  Memory_Load  Duration  Reproduction\n",
       "0     1            1       0.5      0.739317\n",
       "1     1            1       0.8      0.975967\n",
       "2     1            1       1.1      1.093963\n",
       "3     1            1       1.4      1.085979\n",
       "4     1            1       1.7      1.220651"
      ]
     },
     "execution_count": 41,
     "metadata": {},
     "output_type": "execute_result"
    }
   ],
   "source": [
    "data = pd.read_csv('https://raw.githubusercontent.com/msenselab/working_memory_reproduction/refs/heads/main/data/Exp2.csv')\n",
    "mReproduction = data.query('valid == 1').groupby(['NSub','WMSize','curDur']).repDur.mean().reset_index()\n",
    "mReproduction.columns = ['NSub','Memory_Load','Duration','Reproduction']\n",
    "mReproduction.head()"
   ]
  },
  {
   "cell_type": "markdown",
   "metadata": {},
   "source": [
    "Let's quickly visualized the average reproduced duration for each working memory size using seaborn `lmplot`. \n",
    "\n"
   ]
  },
  {
   "cell_type": "code",
   "execution_count": null,
   "metadata": {},
   "outputs": [
    {
     "data": {
      "text/plain": [
       "<seaborn.axisgrid.FacetGrid at 0x303578490>"
      ]
     },
     "execution_count": 50,
     "metadata": {},
     "output_type": "execute_result"
    },
    {
     "data": {
      "image/png": "[encoded data removed]",
      "text/plain": [
       "<Figure size 608.111x500 with 1 Axes>"
      ]
     },
     "metadata": {},
     "output_type": "display_data"
    }
   ],
   "source": [
    "# visualize average mean reproduction using lmplot\n",
    "# FIXME, please fix the following code\n",
    "sns.lmplot(data = (mReproduction.FIXME)\n",
    "\t\t\t\t   .Reproduction.mean().reset_index()), \n",
    "\t\t   x = 'Duration', y = 'Reproduction', hue = 'Memory_Load')"
   ]
  },
  {
   "cell_type": "markdown",
   "metadata": {},
   "source": [
    "__Observation:__\n",
    "\n",
    "The above figure shows that reproduced duration increases with the given duration, but this increase is shallower for high memory loads. In other words, the central tendency effect was higher for high memory loads.\n",
    "\n",
    "Additionally, we see three regression lines crossing at the middle range of the duration. This suggests that in all conditions, the average reproduced duration may converge to the middle range duration. The intercept of the regression captures the intercept at duration of 0. Here, however, we want to know the intercept around the middle range of the duration. For this reason, we will center the duration variable around the middle range of the duration.\n",
    "\n",
    "\n"
   ]
  },
  {
   "cell_type": "code",
   "execution_count": null,
   "metadata": {},
   "outputs": [
    {
     "data": {
      "text/html": [
       "<div>\n",
       "<style scoped>\n",
       "    .dataframe tbody tr th:only-of-type {\n",
       "        vertical-align: middle;\n",
       "    }\n",
       "\n",
       "    .dataframe tbody tr th {\n",
       "        vertical-align: top;\n",
       "    }\n",
       "\n",
       "    .dataframe thead th {\n",
       "        text-align: right;\n",
       "    }\n",
       "</style>\n",
       "<table border=\"1\" class=\"dataframe\">\n",
       "  <thead>\n",
       "    <tr style=\"text-align: right;\">\n",
       "      <th></th>\n",
       "      <th>NSub</th>\n",
       "      <th>Memory_Load</th>\n",
       "      <th>Duration</th>\n",
       "      <th>Reproduction</th>\n",
       "      <th>cDuration</th>\n",
       "    </tr>\n",
       "  </thead>\n",
       "  <tbody>\n",
       "    <tr>\n",
       "      <th>0</th>\n",
       "      <td>1</td>\n",
       "      <td>1</td>\n",
       "      <td>0.5</td>\n",
       "      <td>0.739317</td>\n",
       "      <td>-0.6</td>\n",
       "    </tr>\n",
       "    <tr>\n",
       "      <th>1</th>\n",
       "      <td>1</td>\n",
       "      <td>1</td>\n",
       "      <td>0.8</td>\n",
       "      <td>0.975967</td>\n",
       "      <td>-0.3</td>\n",
       "    </tr>\n",
       "    <tr>\n",
       "      <th>2</th>\n",
       "      <td>1</td>\n",
       "      <td>1</td>\n",
       "      <td>1.1</td>\n",
       "      <td>1.093963</td>\n",
       "      <td>0.0</td>\n",
       "    </tr>\n",
       "    <tr>\n",
       "      <th>3</th>\n",
       "      <td>1</td>\n",
       "      <td>1</td>\n",
       "      <td>1.4</td>\n",
       "      <td>1.085979</td>\n",
       "      <td>0.3</td>\n",
       "    </tr>\n",
       "    <tr>\n",
       "      <th>4</th>\n",
       "      <td>1</td>\n",
       "      <td>1</td>\n",
       "      <td>1.7</td>\n",
       "      <td>1.220651</td>\n",
       "      <td>0.6</td>\n",
       "    </tr>\n",
       "  </tbody>\n",
       "</table>\n",
       "</div>"
      ],
      "text/plain": [
       "   NSub  Memory_Load  Duration  Reproduction  cDuration\n",
       "0     1            1       0.5      0.739317       -0.6\n",
       "1     1            1       0.8      0.975967       -0.3\n",
       "2     1            1       1.1      1.093963        0.0\n",
       "3     1            1       1.4      1.085979        0.3\n",
       "4     1            1       1.7      1.220651        0.6"
      ]
     },
     "execution_count": 45,
     "metadata": {},
     "output_type": "execute_result"
    }
   ],
   "source": [
    "# center the Duration to the mean 1.1\n",
    "# FIXME, not runable\n",
    "mReproduction['cDuration'] = mReproduction.Duration - FIXME\n",
    "mReproduction.head()"
   ]
  },
  {
   "cell_type": "code",
   "execution_count": null,
   "metadata": {},
   "outputs": [
    {
     "data": {
      "text/html": [
       "<table class=\"simpletable\">\n",
       "<caption>OLS Regression Results</caption>\n",
       "<tr>\n",
       "  <th>Dep. Variable:</th>      <td>Reproduction</td>   <th>  R-squared:         </th> <td>   0.681</td>\n",
       "</tr>\n",
       "<tr>\n",
       "  <th>Model:</th>                   <td>OLS</td>       <th>  Adj. R-squared:    </th> <td>   0.677</td>\n",
       "</tr>\n",
       "<tr>\n",
       "  <th>Method:</th>             <td>Least Squares</td>  <th>  F-statistic:       </th> <td>   168.2</td>\n",
       "</tr>\n",
       "<tr>\n",
       "  <th>Date:</th>             <td>Sun, 10 Nov 2024</td> <th>  Prob (F-statistic):</th> <td>2.52e-58</td>\n",
       "</tr>\n",
       "<tr>\n",
       "  <th>Time:</th>                 <td>17:19:50</td>     <th>  Log-Likelihood:    </th> <td>  160.30</td>\n",
       "</tr>\n",
       "<tr>\n",
       "  <th>No. Observations:</th>      <td>   240</td>      <th>  AIC:               </th> <td>  -312.6</td>\n",
       "</tr>\n",
       "<tr>\n",
       "  <th>Df Residuals:</th>          <td>   236</td>      <th>  BIC:               </th> <td>  -298.7</td>\n",
       "</tr>\n",
       "<tr>\n",
       "  <th>Df Model:</th>              <td>     3</td>      <th>                     </th>     <td> </td>   \n",
       "</tr>\n",
       "<tr>\n",
       "  <th>Covariance Type:</th>      <td>nonrobust</td>    <th>                     </th>     <td> </td>   \n",
       "</tr>\n",
       "</table>\n",
       "<table class=\"simpletable\">\n",
       "<tr>\n",
       "            <td></td>               <th>coef</th>     <th>std err</th>      <th>t</th>      <th>P>|t|</th>  <th>[0.025</th>    <th>0.975]</th>  \n",
       "</tr>\n",
       "<tr>\n",
       "  <th>Intercept</th>             <td>    1.0560</td> <td>    0.017</td> <td>   62.512</td> <td> 0.000</td> <td>    1.023</td> <td>    1.089</td>\n",
       "</tr>\n",
       "<tr>\n",
       "  <th>cDuration</th>             <td>    0.5298</td> <td>    0.040</td> <td>   13.304</td> <td> 0.000</td> <td>    0.451</td> <td>    0.608</td>\n",
       "</tr>\n",
       "<tr>\n",
       "  <th>Memory_Load</th>           <td>   -0.0054</td> <td>    0.005</td> <td>   -1.099</td> <td> 0.273</td> <td>   -0.015</td> <td>    0.004</td>\n",
       "</tr>\n",
       "<tr>\n",
       "  <th>cDuration:Memory_Load</th> <td>   -0.0355</td> <td>    0.012</td> <td>   -3.048</td> <td> 0.003</td> <td>   -0.059</td> <td>   -0.013</td>\n",
       "</tr>\n",
       "</table>\n",
       "<table class=\"simpletable\">\n",
       "<tr>\n",
       "  <th>Omnibus:</th>       <td> 3.291</td> <th>  Durbin-Watson:     </th> <td>   1.331</td>\n",
       "</tr>\n",
       "<tr>\n",
       "  <th>Prob(Omnibus):</th> <td> 0.193</td> <th>  Jarque-Bera (JB):  </th> <td>   3.124</td>\n",
       "</tr>\n",
       "<tr>\n",
       "  <th>Skew:</th>          <td> 0.279</td> <th>  Prob(JB):          </th> <td>   0.210</td>\n",
       "</tr>\n",
       "<tr>\n",
       "  <th>Kurtosis:</th>      <td> 3.031</td> <th>  Cond. No.          </th> <td>    18.0</td>\n",
       "</tr>\n",
       "</table><br/><br/>Notes:<br/>[1] Standard Errors assume that the covariance matrix of the errors is correctly specified."
      ],
      "text/latex": [
       "\\begin{center}\n",
       "\\begin{tabular}{lclc}\n",
       "\\toprule\n",
       "\\textbf{Dep. Variable:}         &   Reproduction   & \\textbf{  R-squared:         } &     0.681   \\\\\n",
       "\\textbf{Model:}                 &       OLS        & \\textbf{  Adj. R-squared:    } &     0.677   \\\\\n",
       "\\textbf{Method:}                &  Least Squares   & \\textbf{  F-statistic:       } &     168.2   \\\\\n",
       "\\textbf{Date:}                  & Sun, 10 Nov 2024 & \\textbf{  Prob (F-statistic):} &  2.52e-58   \\\\\n",
       "\\textbf{Time:}                  &     17:19:50     & \\textbf{  Log-Likelihood:    } &    160.30   \\\\\n",
       "\\textbf{No. Observations:}      &         240      & \\textbf{  AIC:               } &    -312.6   \\\\\n",
       "\\textbf{Df Residuals:}          &         236      & \\textbf{  BIC:               } &    -298.7   \\\\\n",
       "\\textbf{Df Model:}              &           3      & \\textbf{                     } &             \\\\\n",
       "\\textbf{Covariance Type:}       &    nonrobust     & \\textbf{                     } &             \\\\\n",
       "\\bottomrule\n",
       "\\end{tabular}\n",
       "\\begin{tabular}{lcccccc}\n",
       "                                & \\textbf{coef} & \\textbf{std err} & \\textbf{t} & \\textbf{P$> |$t$|$} & \\textbf{[0.025} & \\textbf{0.975]}  \\\\\n",
       "\\midrule\n",
       "\\textbf{Intercept}              &       1.0560  &        0.017     &    62.512  &         0.000        &        1.023    &        1.089     \\\\\n",
       "\\textbf{cDuration}              &       0.5298  &        0.040     &    13.304  &         0.000        &        0.451    &        0.608     \\\\\n",
       "\\textbf{Memory\\_Load}           &      -0.0054  &        0.005     &    -1.099  &         0.273        &       -0.015    &        0.004     \\\\\n",
       "\\textbf{cDuration:Memory\\_Load} &      -0.0355  &        0.012     &    -3.048  &         0.003        &       -0.059    &       -0.013     \\\\\n",
       "\\bottomrule\n",
       "\\end{tabular}\n",
       "\\begin{tabular}{lclc}\n",
       "\\textbf{Omnibus:}       &  3.291 & \\textbf{  Durbin-Watson:     } &    1.331  \\\\\n",
       "\\textbf{Prob(Omnibus):} &  0.193 & \\textbf{  Jarque-Bera (JB):  } &    3.124  \\\\\n",
       "\\textbf{Skew:}          &  0.279 & \\textbf{  Prob(JB):          } &    0.210  \\\\\n",
       "\\textbf{Kurtosis:}      &  3.031 & \\textbf{  Cond. No.          } &     18.0  \\\\\n",
       "\\bottomrule\n",
       "\\end{tabular}\n",
       "%\\caption{OLS Regression Results}\n",
       "\\end{center}\n",
       "\n",
       "Notes: \\newline\n",
       " [1] Standard Errors assume that the covariance matrix of the errors is correctly specified."
      ],
      "text/plain": [
       "<class 'statsmodels.iolib.summary.Summary'>\n",
       "\"\"\"\n",
       "                            OLS Regression Results                            \n",
       "==============================================================================\n",
       "Dep. Variable:           Reproduction   R-squared:                       0.681\n",
       "Model:                            OLS   Adj. R-squared:                  0.677\n",
       "Method:                 Least Squares   F-statistic:                     168.2\n",
       "Date:                Sun, 10 Nov 2024   Prob (F-statistic):           2.52e-58\n",
       "Time:                        17:19:50   Log-Likelihood:                 160.30\n",
       "No. Observations:                 240   AIC:                            -312.6\n",
       "Df Residuals:                     236   BIC:                            -298.7\n",
       "Df Model:                           3                                         \n",
       "Covariance Type:            nonrobust                                         \n",
       "=========================================================================================\n",
       "                            coef    std err          t      P>|t|      [0.025      0.975]\n",
       "-----------------------------------------------------------------------------------------\n",
       "Intercept                 1.0560      0.017     62.512      0.000       1.023       1.089\n",
       "cDuration                 0.5298      0.040     13.304      0.000       0.451       0.608\n",
       "Memory_Load              -0.0054      0.005     -1.099      0.273      -0.015       0.004\n",
       "cDuration:Memory_Load    -0.0355      0.012     -3.048      0.003      -0.059      -0.013\n",
       "==============================================================================\n",
       "Omnibus:                        3.291   Durbin-Watson:                   1.331\n",
       "Prob(Omnibus):                  0.193   Jarque-Bera (JB):                3.124\n",
       "Skew:                           0.279   Prob(JB):                        0.210\n",
       "Kurtosis:                       3.031   Cond. No.                         18.0\n",
       "==============================================================================\n",
       "\n",
       "Notes:\n",
       "[1] Standard Errors assume that the covariance matrix of the errors is correctly specified.\n",
       "\"\"\""
      ]
     },
     "execution_count": 46,
     "metadata": {},
     "output_type": "execute_result"
    }
   ],
   "source": [
    "# conduct linear regression using statsmodels\n",
    "# FIXME, not runable\n",
    "model = smf.ols(formula = 'FIXME A FORMULA HERE', \n",
    "\t\t\t\tdata = mReproduction).fit()\n",
    "model.summary()"
   ]
  },
  {
   "cell_type": "markdown",
   "metadata": {},
   "source": [
    "__Your task: Analysis Note and Interpretation__\n",
    "\n",
    "???\n",
    "???"
   ]
  },
  {
   "cell_type": "markdown",
   "metadata": {},
   "source": [
    "Given that this experiment was a within-subject design, we should consider the individual differences in the analysis. We will use the linear mixed model to estimate the parameters."
   ]
  },
  {
   "cell_type": "code",
   "execution_count": null,
   "metadata": {},
   "outputs": [
    {
     "name": "stderr",
     "output_type": "stream",
     "text": [
      "/Users/strongway/miniconda3/lib/python3.11/site-packages/statsmodels/regression/mixed_linear_model.py:2238: ConvergenceWarning: The MLE may be on the boundary of the parameter space.\n",
      "  warnings.warn(msg, ConvergenceWarning)\n"
     ]
    },
    {
     "data": {
      "text/html": [
       "<table class=\"simpletable\">\n",
       "<tr>\n",
       "       <td>Model:</td>       <td>MixedLM</td> <td>Dependent Variable:</td> <td>Reproduction</td>\n",
       "</tr>\n",
       "<tr>\n",
       "  <td>No. Observations:</td>   <td>240</td>         <td>Method:</td>           <td>REML</td>    \n",
       "</tr>\n",
       "<tr>\n",
       "     <td>No. Groups:</td>      <td>16</td>          <td>Scale:</td>           <td>0.0119</td>   \n",
       "</tr>\n",
       "<tr>\n",
       "  <td>Min. group size:</td>    <td>15</td>      <td>Log-Likelihood:</td>     <td>164.0918</td>  \n",
       "</tr>\n",
       "<tr>\n",
       "  <td>Max. group size:</td>    <td>15</td>        <td>Converged:</td>           <td>Yes</td>    \n",
       "</tr>\n",
       "<tr>\n",
       "  <td>Mean group size:</td>   <td>15.0</td>            <td></td>                 <td></td>      \n",
       "</tr>\n",
       "</table>\n",
       "<table class=\"simpletable\">\n",
       "<tr>\n",
       "            <td></td>             <th>Coef.</th> <th>Std.Err.</th>    <th>z</th>   <th>P>|z|</th> <th>[0.025</th> <th>0.975]</th>\n",
       "</tr>\n",
       "<tr>\n",
       "  <th>Intercept</th>              <td>1.056</td>   <td>0.021</td>  <td>49.170</td> <td>0.000</td>  <td>1.014</td>  <td>1.098</td>\n",
       "</tr>\n",
       "<tr>\n",
       "  <th>cDuration</th>              <td>0.530</td>   <td>0.035</td>  <td>15.235</td> <td>0.000</td>  <td>0.462</td>  <td>0.598</td>\n",
       "</tr>\n",
       "<tr>\n",
       "  <th>Memory_Load</th>           <td>-0.005</td>   <td>0.004</td>  <td>-1.259</td> <td>0.208</td> <td>-0.014</td>  <td>0.003</td>\n",
       "</tr>\n",
       "<tr>\n",
       "  <th>cDuration:Memory_Load</th> <td>-0.036</td>   <td>0.010</td>  <td>-3.491</td> <td>0.000</td> <td>-0.055</td> <td>-0.016</td>\n",
       "</tr>\n",
       "<tr>\n",
       "  <th>Group Var</th>              <td>0.004</td>   <td>0.016</td>     <td></td>      <td></td>       <td></td>       <td></td>   \n",
       "</tr>\n",
       "</table><br/>\n"
      ],
      "text/latex": [
       "\\begin{table}\n",
       "\\caption{Mixed Linear Model Regression Results}\n",
       "\\label{}\n",
       "\\begin{center}\n",
       "\\begin{tabular}{llll}\n",
       "\\hline\n",
       "Model:            & MixedLM & Dependent Variable: & Reproduction  \\\\\n",
       "No. Observations: & 240     & Method:             & REML          \\\\\n",
       "No. Groups:       & 16      & Scale:              & 0.0119        \\\\\n",
       "Min. group size:  & 15      & Log-Likelihood:     & 164.0918      \\\\\n",
       "Max. group size:  & 15      & Converged:          & Yes           \\\\\n",
       "Mean group size:  & 15.0    &                     &               \\\\\n",
       "\\hline\n",
       "\\end{tabular}\n",
       "\\end{center}\n",
       "\n",
       "\\begin{center}\n",
       "\\begin{tabular}{lrrrrrr}\n",
       "\\hline\n",
       "                       &  Coef. & Std.Err. &      z & P$> |$z$|$ & [0.025 & 0.975]  \\\\\n",
       "\\hline\n",
       "Intercept              &  1.056 &    0.021 & 49.170 &       0.000 &  1.014 &  1.098  \\\\\n",
       "cDuration              &  0.530 &    0.035 & 15.235 &       0.000 &  0.462 &  0.598  \\\\\n",
       "Memory\\_Load           & -0.005 &    0.004 & -1.259 &       0.208 & -0.014 &  0.003  \\\\\n",
       "cDuration:Memory\\_Load & -0.036 &    0.010 & -3.491 &       0.000 & -0.055 & -0.016  \\\\\n",
       "Group Var              &  0.004 &    0.016 &        &             &        &         \\\\\n",
       "\\hline\n",
       "\\end{tabular}\n",
       "\\end{center}\n",
       "\\end{table}\n",
       "\\bigskip\n"
      ],
      "text/plain": [
       "<class 'statsmodels.iolib.summary2.Summary'>\n",
       "\"\"\"\n",
       "             Mixed Linear Model Regression Results\n",
       "================================================================\n",
       "Model:              MixedLM   Dependent Variable:   Reproduction\n",
       "No. Observations:   240       Method:               REML        \n",
       "No. Groups:         16        Scale:                0.0119      \n",
       "Min. group size:    15        Log-Likelihood:       164.0918    \n",
       "Max. group size:    15        Converged:            Yes         \n",
       "Mean group size:    15.0                                        \n",
       "----------------------------------------------------------------\n",
       "                      Coef.  Std.Err.   z    P>|z| [0.025 0.975]\n",
       "----------------------------------------------------------------\n",
       "Intercept              1.056    0.021 49.170 0.000  1.014  1.098\n",
       "cDuration              0.530    0.035 15.235 0.000  0.462  0.598\n",
       "Memory_Load           -0.005    0.004 -1.259 0.208 -0.014  0.003\n",
       "cDuration:Memory_Load -0.036    0.010 -3.491 0.000 -0.055 -0.016\n",
       "Group Var              0.004    0.016                           \n",
       "================================================================\n",
       "\n",
       "\"\"\""
      ]
     },
     "execution_count": 49,
     "metadata": {},
     "output_type": "execute_result"
    }
   ],
   "source": [
    "# using mixed model smf.mixedlm() to account for the random effect\n",
    "# FIXME, not runable\n",
    "model = smf.mixedlm('FIXME A FORMULA HERE', \n",
    "\t\t\t\t\tdata = mReproduction, \n",
    "\t\t\t\t\tgroups = FIXME).fit()\n",
    "model.summary()"
   ]
  },
  {
   "cell_type": "markdown",
   "metadata": {
    "id": "8H3t6QHGOIC_"
   },
   "source": [
    "## Resources\n",
    "\n",
    "* [Linear Algebra for Theoretical Neuroscience by Ken Miller](http://www.columbia.edu/cu/neurotheory/Ken/math-notes/) \n",
    "* [Mathematics for Computational Neuroscience & Imaginng by John Porrill.](https://www.sheffield.ac.uk/polopoly_fs/1.13304!/file/maths.pdf) \n",
    "* [Linear Mixed Effect models Examples](https://github.com/statsmodels/statsmodels/blob/main/examples/notebooks/mixed_lm_example.ipynb)"
   ]
  }
 ],
 "metadata": {
  "colab": {
   "collapsed_sections": [
    "tfV0qv5WNTwY"
   ],
   "include_colab_link": true,
   "name": "P2_4.Linear_regression&Logistic regression.ipynb",
   "provenance": [],
   "toc_visible": true
  },
  "kernelspec": {
   "display_name": "base",
   "language": "python",
   "name": "python3"
  },
  "language_info": {
   "codemirror_mode": {
    "name": "ipython",
    "version": 3
   },
   "file_extension": ".py",
   "mimetype": "text/x-python",
   "name": "python",
   "nbconvert_exporter": "python",
   "pygments_lexer": "ipython3",
   "version": "3.11.7"
  }
 },
 "nbformat": 4,
 "nbformat_minor": 0
}
